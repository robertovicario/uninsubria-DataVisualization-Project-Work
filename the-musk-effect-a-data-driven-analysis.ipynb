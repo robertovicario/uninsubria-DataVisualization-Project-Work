{
 "cells": [
  {
   "cell_type": "markdown",
   "id": "46934c1c",
   "metadata": {
    "papermill": {
     "duration": 0.004998,
     "end_time": "2025-01-03T19:14:59.464629",
     "exception": false,
     "start_time": "2025-01-03T19:14:59.459631",
     "status": "completed"
    },
    "tags": []
   },
   "source": [
    "# The Musk Effect on Crypto: A Data-Driven Analysis"
   ]
  },
  {
   "cell_type": "code",
   "execution_count": 166,
   "id": "8c4179f5",
   "metadata": {},
   "outputs": [],
   "source": [
    "import os\n",
    "import re\n",
    "import requests\n",
    "from io import BytesIO\n",
    "\n",
    "import matplotlib.dates as mdates\n",
    "import matplotlib.pyplot as plt\n",
    "import numpy as np\n",
    "import pandas as pd\n",
    "from PIL import Image\n",
    "from mplfinance.original_flavor import candlestick_ohlc\n",
    "from wordcloud import WordCloud\n",
    "\n",
    "from bokeh.io import show, save, output_file\n",
    "from bokeh.layouts import column\n",
    "from bokeh.models import ColumnDataSource, Div, TableColumn, DataTable\n",
    "from bokeh.plotting import show\n",
    "\n",
    "from IPython.display import display, HTML\n",
    "\n",
    "if not os.path.exists('out'):\n",
    "    os.makedirs('out')"
   ]
  },
  {
   "cell_type": "markdown",
   "id": "a6c33a5f",
   "metadata": {
    "papermill": {
     "duration": 0.004386,
     "end_time": "2025-01-03T19:15:00.725933",
     "exception": false,
     "start_time": "2025-01-03T19:15:00.721547",
     "status": "completed"
    },
    "tags": []
   },
   "source": [
    "## Visualizations"
   ]
  },
  {
   "cell_type": "markdown",
   "id": "8e4d4f24",
   "metadata": {},
   "source": [
    "### Interactive Tables Using Bokeh"
   ]
  },
  {
   "cell_type": "code",
   "execution_count": 167,
   "id": "57d57a8d",
   "metadata": {},
   "outputs": [],
   "source": [
    "def plot_interactive_table(df, title):\n",
    "    page_title = Div(text=f'<h1>{title}</h1>')\n",
    "    output_file(f'out/{title.lower().replace(\" \", \"-\")}.html', title=title)\n",
    "\n",
    "    info_title = Div(text='<h2>Information</h2>')\n",
    "    info_dict = {\n",
    "        'Column': df.columns,\n",
    "        'Count': df.count(),\n",
    "        'Null Count': df.isnull().sum(),\n",
    "        'Unique Count': df.nunique(),\n",
    "        'Data Type': df.dtypes.astype(str)\n",
    "    }\n",
    "    info_df = pd.DataFrame(info_dict)\n",
    "    info_source = ColumnDataSource(info_df)\n",
    "    info_columns = [\n",
    "        TableColumn(field='Column', title='Column'),\n",
    "        TableColumn(field='Count', title='Count'),\n",
    "        TableColumn(field='Null Count', title='Null Count'),\n",
    "        TableColumn(field='Unique Count', title='Unique Count'),\n",
    "        TableColumn(field='Data Type', title='Data Type')\n",
    "    ]\n",
    "    info_data_table = DataTable(source=info_source, columns=info_columns, height=25*(len(df.columns)+1))\n",
    "\n",
    "    stats_title = Div(text='<h2>Descriptive Statistics</h2>')\n",
    "    stats = df.describe().reset_index()\n",
    "    stats_source = ColumnDataSource(stats)\n",
    "    stats_columns = [TableColumn(field=col, title=col) for col in stats.columns]\n",
    "    stats_data_table = DataTable(source=stats_source, columns=stats_columns, height=25*(len(stats)+1))\n",
    "\n",
    "    layout = column(page_title, info_title, info_data_table, stats_title, stats_data_table)\n",
    "    show(layout)\n",
    "    save(layout)"
   ]
  },
  {
   "cell_type": "markdown",
   "id": "195569d4",
   "metadata": {
    "papermill": {
     "duration": 0.004183,
     "end_time": "2025-01-03T19:15:00.734639",
     "exception": false,
     "start_time": "2025-01-03T19:15:00.730456",
     "status": "completed"
    },
    "tags": []
   },
   "source": [
    "### Trading Chart Using Matplotlib"
   ]
  },
  {
   "cell_type": "code",
   "execution_count": 168,
   "id": "25793eb2",
   "metadata": {
    "execution": {
     "iopub.execute_input": "2025-01-03T19:15:00.744864Z",
     "iopub.status.busy": "2025-01-03T19:15:00.744447Z",
     "iopub.status.idle": "2025-01-03T19:15:01.200792Z",
     "shell.execute_reply": "2025-01-03T19:15:01.199603Z"
    },
    "papermill": {
     "duration": 0.463666,
     "end_time": "2025-01-03T19:15:01.202714",
     "exception": false,
     "start_time": "2025-01-03T19:15:00.739048",
     "status": "completed"
    },
    "tags": []
   },
   "outputs": [],
   "source": [
    "def plot_trading_chart(df, title, start_date, end_date, time_period=None, bull=None, bear=None):\n",
    "    filtered_df = df.set_index('Timestamp').loc[start_date:end_date]\n",
    "    filtered_df = (\n",
    "        filtered_df.resample('D')\n",
    "        .agg({\n",
    "            'Open': 'first',\n",
    "            'High': 'max',\n",
    "            'Low': 'min',\n",
    "            'Close': 'last',\n",
    "            'Volume': 'sum',\n",
    "        })\n",
    "        .dropna()\n",
    "    )\n",
    "\n",
    "    filtered_df['Date'] = filtered_df.index.map(mdates.date2num)\n",
    "    ohlc_data = filtered_df[['Date', 'Open', 'High', 'Low', 'Close']].reset_index(drop=True).values\n",
    "    highest_value = filtered_df['High'].max()\n",
    "    lowest_value = filtered_df['Low'].min()\n",
    "\n",
    "    fig = plt.figure(figsize=(10, 6))\n",
    "    gs = fig.add_gridspec(2, 1, height_ratios=[3, 1])\n",
    "    ax1 = fig.add_subplot(gs[0])\n",
    "    ax2 = fig.add_subplot(gs[1])\n",
    "\n",
    "    colorup = '#4CAF50'\n",
    "    colordown = '#F44336'\n",
    "\n",
    "    candlestick_ohlc(ax1, ohlc_data, width=0.5, colorup=colorup, colordown=colordown)\n",
    "    ax1.grid(True, linestyle='-', alpha=0.1, color='black', linewidth=0.5)\n",
    "    ax1.axhline(highest_value, color=colorup, linestyle='--', linewidth=2, label=f'Highest: {highest_value}')\n",
    "    ax1.axhline(lowest_value, color=colordown, linestyle='--', linewidth=2, label=f'Lowest: {lowest_value}')\n",
    "    ax1.spines['top'].set_visible(False)\n",
    "    ax1.spines['right'].set_visible(False)\n",
    "    ax1.xaxis_date()\n",
    "    ax1.xaxis.set_major_locator(mdates.DayLocator())\n",
    "    ax1.xaxis.set_major_formatter(mdates.DateFormatter('%d'))\n",
    "    ax1.set_title(title)\n",
    "    ax1.set_ylabel('Price (USD)')\n",
    "    ax1.set_xlabel(time_period)\n",
    "    ax1.legend()\n",
    "\n",
    "    if bull:\n",
    "        for start_date, end_date in bull:\n",
    "            i = mdates.date2num(pd.to_datetime(start_date))\n",
    "            j = mdates.date2num(pd.to_datetime(end_date))\n",
    "            ax1.axvspan(i, j, color=colorup, alpha=0.1)\n",
    "            \n",
    "    if bear:\n",
    "        for start_date, end_date in bear:\n",
    "            i = mdates.date2num(pd.to_datetime(start_date))\n",
    "            j = mdates.date2num(pd.to_datetime(end_date))\n",
    "            ax1.axvspan(i, j, color=colordown, alpha=0.1)\n",
    "\n",
    "    for i, j in filtered_df.iterrows():\n",
    "        if j['Close'] > j['Open']:\n",
    "            color = colorup\n",
    "        else:\n",
    "            color = colordown\n",
    "        ax2.bar(i, j['Volume'], color=color)\n",
    "\n",
    "    ax2.grid(True, axis='y', linestyle='-', alpha=0.1, color='black', linewidth=0.5)\n",
    "    ax2.set_ylabel('Volume')\n",
    "    ax2.set_xlabel(time_period)\n",
    "    ax2.spines['top'].set_visible(False)\n",
    "    ax2.spines['right'].set_visible(False)\n",
    "    ax2.xaxis.set_major_locator(mdates.DayLocator())\n",
    "    ax2.xaxis.set_major_formatter(mdates.DateFormatter('%d'))\n",
    "\n",
    "    plt.tight_layout()\n",
    "    plt.savefig(f'out/{title.lower().replace(\" \", \"-\")}.png')"
   ]
  },
  {
   "cell_type": "markdown",
   "id": "96ad546e",
   "metadata": {
    "papermill": {
     "duration": 0.004453,
     "end_time": "2025-01-03T19:15:01.21194",
     "exception": false,
     "start_time": "2025-01-03T19:15:01.207487",
     "status": "completed"
    },
    "tags": []
   },
   "source": [
    "### WordCloud Using Matplotlib"
   ]
  },
  {
   "cell_type": "code",
   "execution_count": 169,
   "id": "952a2ea1",
   "metadata": {
    "execution": {
     "iopub.execute_input": "2025-01-03T19:15:01.222613Z",
     "iopub.status.busy": "2025-01-03T19:15:01.222059Z",
     "iopub.status.idle": "2025-01-03T19:15:01.231219Z",
     "shell.execute_reply": "2025-01-03T19:15:01.230004Z"
    },
    "papermill": {
     "duration": 0.016439,
     "end_time": "2025-01-03T19:15:01.232978",
     "exception": false,
     "start_time": "2025-01-03T19:15:01.216539",
     "status": "completed"
    },
    "tags": []
   },
   "outputs": [],
   "source": [
    "def plot_wordcloud(df, title, crypto_name=''):\n",
    "    filtered_df = df[df['Tweet'].str.contains(crypto_name, case=False, na=False)]\n",
    "    tweets = ' '.join(filtered_df['Tweet'].dropna())\n",
    "    tweets = tweets.replace('BTC', 'Bitcoin').replace('DOGE', 'Doge')\n",
    "\n",
    "    keywords_colors = {\n",
    "        'Bitcoin': '#F7931A',\n",
    "        'Doge': '#BA9F33',\n",
    "        'Tesla': '#E82127',\n",
    "        'SpaceX': '#004B87',\n",
    "    }\n",
    "    keyword_counts = {keyword: tweets.lower().count(keyword.lower()) for keyword in keywords_colors}\n",
    "    word_frequencies = {}\n",
    "    for word, count in keyword_counts.items():\n",
    "        word_frequencies[word] = count * 100\n",
    "    for word in re.findall(r'\\w+', tweets):\n",
    "        word_frequencies[word] = word_frequencies.get(word, 0) + 1\n",
    "\n",
    "    url = 'https://raw.githubusercontent.com/robertovicario/uninsubria-DataVisualization-Project-Work/main/assets/img/twitter.png'\n",
    "    response = requests.get(url)\n",
    "    bg_img = Image.open(BytesIO(response.content)).convert('L')\n",
    "    mask = np.array(bg_img)\n",
    "\n",
    "    def color_func(word, font_size, position, orientation, random_state=None, **kwargs):\n",
    "        if word in keywords_colors:\n",
    "            return keywords_colors[word]\n",
    "        else:\n",
    "            return '#C0C0C0'\n",
    "\n",
    "    wordcloud = WordCloud(background_color='white',\n",
    "                        mask=mask,\n",
    "                        max_words=10000,\n",
    "                        color_func=color_func,\n",
    "                        contour_color='#1DA1F2',\n",
    "                        contour_width=2,\n",
    "                        relative_scaling=0.5).generate_from_frequencies(word_frequencies)\n",
    "\n",
    "    plt.figure(figsize=(10, 6))\n",
    "    plt.imshow(wordcloud, interpolation='bilinear')\n",
    "    plt.axis('off')\n",
    "    plt.title(title)\n",
    "    plt.savefig(f'out/{title.lower().replace(\" \", \"-\")}.png')"
   ]
  },
  {
   "cell_type": "markdown",
   "id": "989cded2",
   "metadata": {
    "_cell_guid": "d55c5474-1b70-47cd-af7c-9e6a862c906d",
    "_uuid": "44626847-d997-48ab-8630-310b51736be9",
    "collapsed": false,
    "jupyter": {
     "outputs_hidden": false
    },
    "papermill": {
     "duration": 0.004306,
     "end_time": "2025-01-03T19:15:01.242106",
     "exception": false,
     "start_time": "2025-01-03T19:15:01.2378",
     "status": "completed"
    },
    "tags": []
   },
   "source": [
    "## EDA (Exploratory Data Anaysis)"
   ]
  },
  {
   "cell_type": "code",
   "execution_count": 170,
   "id": "1cc59a72",
   "metadata": {
    "execution": {
     "iopub.execute_input": "2025-01-03T19:15:01.262682Z",
     "iopub.status.busy": "2025-01-03T19:15:01.262248Z",
     "iopub.status.idle": "2025-01-03T19:15:02.708772Z",
     "shell.execute_reply": "2025-01-03T19:15:02.707767Z"
    },
    "papermill": {
     "duration": 1.454223,
     "end_time": "2025-01-03T19:15:02.710658",
     "exception": false,
     "start_time": "2025-01-03T19:15:01.256435",
     "status": "completed"
    },
    "tags": []
   },
   "outputs": [],
   "source": [
    "btc_prices_2021 = pd.read_csv('data/btc_prices_2021.csv')\n",
    "btc_prices_2024 = pd.read_csv('data/btc_prices_2024.csv')\n",
    "doge_prices = pd.read_csv('data/doge_prices.csv')\n",
    "musk_tweets = pd.read_csv('data/musk_tweets.csv')"
   ]
  },
  {
   "cell_type": "markdown",
   "id": "1c621057",
   "metadata": {
    "_cell_guid": "f9e86013-a0e0-4b28-8a73-3db745dadb17",
    "_uuid": "f544ab84-ed66-459f-bfb8-90b4876a2f13",
    "collapsed": false,
    "jupyter": {
     "outputs_hidden": false
    },
    "papermill": {
     "duration": 0.004165,
     "end_time": "2025-01-03T19:15:02.719452",
     "exception": false,
     "start_time": "2025-01-03T19:15:02.715287",
     "status": "completed"
    },
    "tags": []
   },
   "source": [
    "### BTC Prices Dataset Overview"
   ]
  },
  {
   "cell_type": "code",
   "execution_count": 171,
   "id": "22fb46af",
   "metadata": {
    "_cell_guid": "9377a3a6-43e0-4a1a-8c7e-3c381d88e051",
    "_uuid": "4c6ec29f-1adc-4ca8-b056-d429e8bca81a",
    "collapsed": false,
    "execution": {
     "iopub.execute_input": "2025-01-03T19:15:02.72965Z",
     "iopub.status.busy": "2025-01-03T19:15:02.729238Z",
     "iopub.status.idle": "2025-01-03T19:15:02.828408Z",
     "shell.execute_reply": "2025-01-03T19:15:02.8271Z"
    },
    "jupyter": {
     "outputs_hidden": false
    },
    "papermill": {
     "duration": 0.106411,
     "end_time": "2025-01-03T19:15:02.830289",
     "exception": false,
     "start_time": "2025-01-03T19:15:02.723878",
     "status": "completed"
    },
    "tags": []
   },
   "outputs": [],
   "source": [
    "btc_prices = pd.concat([btc_prices_2021, btc_prices_2024], ignore_index=True)\n",
    "plot_interactive_table(btc_prices, 'Bitcoin Prices Dataset Overview')"
   ]
  },
  {
   "cell_type": "markdown",
   "id": "0da401bd",
   "metadata": {
    "_cell_guid": "1bcef620-b68e-4839-a2cd-9d9b6ca12834",
    "_uuid": "aedff966-6b13-476f-8a6d-d8103398e337",
    "collapsed": false,
    "jupyter": {
     "outputs_hidden": false
    },
    "papermill": {
     "duration": 0.004793,
     "end_time": "2025-01-03T19:15:02.839784",
     "exception": false,
     "start_time": "2025-01-03T19:15:02.834991",
     "status": "completed"
    },
    "tags": []
   },
   "source": [
    "### DOGE Prices Dataset Overview"
   ]
  },
  {
   "cell_type": "code",
   "execution_count": 172,
   "id": "b705bc35",
   "metadata": {
    "_cell_guid": "89e669ad-74d0-45a6-a6ef-2c034f785570",
    "_uuid": "4a31807d-96a0-469b-a087-eea7243b31a8",
    "collapsed": false,
    "execution": {
     "iopub.execute_input": "2025-01-03T19:15:02.850957Z",
     "iopub.status.busy": "2025-01-03T19:15:02.850479Z",
     "iopub.status.idle": "2025-01-03T19:15:02.861434Z",
     "shell.execute_reply": "2025-01-03T19:15:02.860091Z"
    },
    "jupyter": {
     "outputs_hidden": false
    },
    "papermill": {
     "duration": 0.01851,
     "end_time": "2025-01-03T19:15:02.863294",
     "exception": false,
     "start_time": "2025-01-03T19:15:02.844784",
     "status": "completed"
    },
    "tags": []
   },
   "outputs": [],
   "source": [
    "plot_interactive_table(doge_prices, 'Dogecoin Prices Dataset Overview')"
   ]
  },
  {
   "cell_type": "markdown",
   "id": "7e6b941e",
   "metadata": {
    "_cell_guid": "4ed9f239-cafd-44c5-93f5-6896040ee798",
    "_uuid": "5b338e98-6620-4f8e-a237-45e9953a9bcf",
    "collapsed": false,
    "jupyter": {
     "outputs_hidden": false
    },
    "papermill": {
     "duration": 0.004509,
     "end_time": "2025-01-03T19:15:02.872779",
     "exception": false,
     "start_time": "2025-01-03T19:15:02.86827",
     "status": "completed"
    },
    "tags": []
   },
   "source": [
    "### Musk Tweets Dataset Overview"
   ]
  },
  {
   "cell_type": "code",
   "execution_count": 173,
   "id": "9981f347",
   "metadata": {
    "_cell_guid": "4a9ddfe5-06d5-43d0-af5e-090ea7cd070b",
    "_uuid": "3817f4bd-a222-4ab4-86cb-585eebad15f1",
    "collapsed": false,
    "execution": {
     "iopub.execute_input": "2025-01-03T19:15:02.883491Z",
     "iopub.status.busy": "2025-01-03T19:15:02.883125Z",
     "iopub.status.idle": "2025-01-03T19:15:02.895632Z",
     "shell.execute_reply": "2025-01-03T19:15:02.894256Z"
    },
    "jupyter": {
     "outputs_hidden": false
    },
    "papermill": {
     "duration": 0.019689,
     "end_time": "2025-01-03T19:15:02.897255",
     "exception": false,
     "start_time": "2025-01-03T19:15:02.877566",
     "status": "completed"
    },
    "tags": []
   },
   "outputs": [],
   "source": [
    "plot_interactive_table(musk_tweets, 'Elon Musk Tweets Dataset Overview')"
   ]
  },
  {
   "cell_type": "markdown",
   "id": "9253158d",
   "metadata": {
    "papermill": {
     "duration": 0.004521,
     "end_time": "2025-01-03T19:15:02.906678",
     "exception": false,
     "start_time": "2025-01-03T19:15:02.902157",
     "status": "completed"
    },
    "tags": []
   },
   "source": [
    "## Tesla Episode on Bitcoin (2021)"
   ]
  },
  {
   "cell_type": "markdown",
   "id": "3341f2e8",
   "metadata": {},
   "source": [
    "### The Announcement"
   ]
  },
  {
   "cell_type": "code",
   "execution_count": 174,
   "id": "660e9637",
   "metadata": {},
   "outputs": [],
   "source": []
  },
  {
   "cell_type": "markdown",
   "id": "a92cfa21",
   "metadata": {},
   "source": [
    "### The Trading Chart (1)"
   ]
  },
  {
   "cell_type": "code",
   "execution_count": null,
   "id": "d3d9fe1d",
   "metadata": {
    "execution": {
     "iopub.execute_input": "2025-01-03T19:15:02.917642Z",
     "iopub.status.busy": "2025-01-03T19:15:02.917254Z",
     "iopub.status.idle": "2025-01-03T19:15:06.141166Z",
     "shell.execute_reply": "2025-01-03T19:15:06.140079Z"
    },
    "papermill": {
     "duration": 3.231558,
     "end_time": "2025-01-03T19:15:06.142997",
     "exception": false,
     "start_time": "2025-01-03T19:15:02.911439",
     "status": "completed"
    },
    "tags": []
   },
   "outputs": [],
   "source": [
    "btc_2021_df = pd.read_csv('data/btc_prices_2021.csv', parse_dates=['Timestamp'])\n",
    "start_date = '2021-02-01'\n",
    "end_date = '2021-02-28'\n",
    "title = 'Musk Effect: Tesla Episode (1)'\n",
    "time_period = 'February 2021'\n",
    "tweets = [\n",
    "    ('2021-02-08', '2021-02-09'),\n",
    "    ('2021-02-18', '2021-02-19')\n",
    "]\n",
    "bull = [('2021-04-28', '2021-05-08')]\n",
    "bear = [('2021-05-08', '2021-05-19')]\n",
    "plot_trading_chart(df=btc_2021_df,\n",
    "                   title=title,\n",
    "                   start_date=start_date,\n",
    "                   end_date=end_date,\n",
    "                   time_period=time_period)"
   ]
  },
  {
   "cell_type": "markdown",
   "id": "78c2e8e8",
   "metadata": {},
   "source": [
    "### The Trading Chart (2)"
   ]
  },
  {
   "cell_type": "code",
   "execution_count": null,
   "id": "b82cc4f3",
   "metadata": {},
   "outputs": [],
   "source": [
    "start_date = '2021-05-01'\n",
    "end_date = '2021-05-31'\n",
    "title = 'Musk Effect: Tesla Episode (2)'\n",
    "time_period = 'May 2021'\n",
    "tweets = [('2021-05-12', '2021-05-19')]\n",
    "bull = [('2021-04-28', '2021-05-08')]\n",
    "bear = [('2021-05-08', '2021-05-19')]\n",
    "plot_trading_chart(df=btc_2021_df,\n",
    "                   title=title,\n",
    "                   start_date=start_date,\n",
    "                   end_date=end_date,\n",
    "                   time_period=time_period)"
   ]
  },
  {
   "cell_type": "markdown",
   "id": "8d1b6467",
   "metadata": {},
   "source": [
    "## SNL Epsiode on Dogecoin (2021)"
   ]
  },
  {
   "cell_type": "markdown",
   "id": "2ad6ab99",
   "metadata": {},
   "source": [
    "### The Tweet"
   ]
  },
  {
   "cell_type": "code",
   "execution_count": null,
   "id": "493b443f",
   "metadata": {},
   "outputs": [],
   "source": [
    "html = \"\"\"\n",
    "<blockquote class=\"twitter-tweet\">\n",
    "  <p lang=\"en\" dir=\"ltr\">The Dogefather<br>SNL May 8</p>\n",
    "  &mdash; Elon Musk (@elonmusk) \n",
    "  <a href=\"https://twitter.com/elonmusk/status/1387290679794089986?ref_src=twsrc%5Etfw\">April 28, 2021</a>\n",
    "</blockquote>\n",
    "<script async src=\"https://platform.twitter.com/widgets.js\" charset=\"utf-8\"></script>\n",
    "\"\"\"\n",
    "\n",
    "display(HTML(html))"
   ]
  },
  {
   "cell_type": "markdown",
   "id": "379ee87b",
   "metadata": {},
   "source": [
    "### The Trading Chart"
   ]
  },
  {
   "cell_type": "code",
   "execution_count": null,
   "id": "421340ea",
   "metadata": {},
   "outputs": [],
   "source": [
    "doge_df = pd.read_csv('data/doge_prices.csv', parse_dates=['Timestamp'])\n",
    "start_date = '2021-04-25'\n",
    "end_date = '2021-05-25'\n",
    "title = 'Musk Effect: SNL Episode'\n",
    "time_period = 'April / May 2021'\n",
    "bull = [('2021-04-28', '2021-05-08')]\n",
    "bear = [('2021-05-08', '2021-05-19')]\n",
    "plot_trading_chart(df=doge_df,\n",
    "                   title=title,\n",
    "                   start_date=start_date,\n",
    "                   end_date=end_date,\n",
    "                   time_period=time_period,\n",
    "                   bull=bull,\n",
    "                   bear=bear)"
   ]
  },
  {
   "cell_type": "markdown",
   "id": "e326ed82",
   "metadata": {
    "papermill": {
     "duration": 0.007455,
     "end_time": "2025-01-03T19:15:06.159326",
     "exception": false,
     "start_time": "2025-01-03T19:15:06.151871",
     "status": "completed"
    },
    "tags": []
   },
   "source": [
    "## Musk Tweets: An Overview"
   ]
  },
  {
   "cell_type": "code",
   "execution_count": 178,
   "id": "fff65dc8",
   "metadata": {},
   "outputs": [],
   "source": [
    "musk_tweets = pd.read_csv('data/musk_tweets.csv')"
   ]
  },
  {
   "cell_type": "markdown",
   "id": "99654c87",
   "metadata": {},
   "source": [
    "### Emerging Topics in Musk Tweets"
   ]
  },
  {
   "cell_type": "code",
   "execution_count": null,
   "id": "71f56ed3",
   "metadata": {
    "execution": {
     "iopub.execute_input": "2025-01-03T19:15:06.175139Z",
     "iopub.status.busy": "2025-01-03T19:15:06.174749Z",
     "iopub.status.idle": "2025-01-03T19:15:09.766419Z",
     "shell.execute_reply": "2025-01-03T19:15:09.764941Z"
    },
    "papermill": {
     "duration": 3.602482,
     "end_time": "2025-01-03T19:15:09.768989",
     "exception": false,
     "start_time": "2025-01-03T19:15:06.166507",
     "status": "completed"
    },
    "tags": []
   },
   "outputs": [],
   "source": [
    "plot_wordcloud(musk_tweets, 'Emerging Topics in Musk Tweets')"
   ]
  },
  {
   "cell_type": "markdown",
   "id": "787f933e",
   "metadata": {},
   "source": [
    "### Exploring Topics in Musk Tweets by Crypto"
   ]
  },
  {
   "cell_type": "code",
   "execution_count": null,
   "id": "006c09da",
   "metadata": {},
   "outputs": [],
   "source": [
    "plot_wordcloud(musk_tweets, 'Exploring Topics in Musk Tweets by Bitcoin', 'Bitcoin')"
   ]
  },
  {
   "cell_type": "code",
   "execution_count": null,
   "id": "3a203a9f",
   "metadata": {},
   "outputs": [],
   "source": [
    "plot_wordcloud(musk_tweets, 'Exploring Topics in Musk Tweets by Dogecoin', 'Doge')"
   ]
  }
 ],
 "metadata": {
  "kaggle": {
   "accelerator": "none",
   "dataSources": [
    {
     "datasetId": 6383324,
     "sourceId": 10311487,
     "sourceType": "datasetVersion"
    }
   ],
   "dockerImageVersionId": 30822,
   "isGpuEnabled": false,
   "isInternetEnabled": true,
   "language": "python",
   "sourceType": "notebook"
  },
  "kernelspec": {
   "display_name": "base",
   "language": "python",
   "name": "python3"
  },
  "language_info": {
   "codemirror_mode": {
    "name": "ipython",
    "version": 3
   },
   "file_extension": ".py",
   "mimetype": "text/x-python",
   "name": "python",
   "nbconvert_exporter": "python",
   "pygments_lexer": "ipython3",
   "version": "3.11.5"
  },
  "papermill": {
   "default_parameters": {},
   "duration": 13.126308,
   "end_time": "2025-01-03T19:15:10.408256",
   "environment_variables": {},
   "exception": null,
   "input_path": "__notebook__.ipynb",
   "output_path": "__notebook__.ipynb",
   "parameters": {},
   "start_time": "2025-01-03T19:14:57.281948",
   "version": "2.6.0"
  }
 },
 "nbformat": 4,
 "nbformat_minor": 5
}
