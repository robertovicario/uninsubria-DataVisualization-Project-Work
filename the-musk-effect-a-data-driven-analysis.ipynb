{
 "cells": [
  {
   "cell_type": "markdown",
   "metadata": {},
   "source": [
    "<a href=\"https://www.kaggle.com/code/robertovicario/the-musk-effect-a-data-driven-analysis?scriptVersionId=215013053\" target=\"_blank\"><img align=\"left\" alt=\"Kaggle\" title=\"Open in Kaggle\" src=\"https://kaggle.com/static/images/open-in-kaggle.svg\"></a>"
   ]
  },
  {
   "cell_type": "markdown",
   "metadata": {},
   "source": [
    "# Dependencies"
   ]
  },
  {
   "cell_type": "code",
   "execution_count": null,
   "metadata": {
    "_cell_guid": "b1076dfc-b9ad-4769-8c92-a6c4dae69d19",
    "_uuid": "8f2839f25d086af736a60e9eeb907d3b93b6e0e5",
    "execution": {
     "iopub.execute_input": "2024-12-27T12:50:47.69831Z",
     "iopub.status.busy": "2024-12-27T12:50:47.697948Z",
     "iopub.status.idle": "2024-12-27T12:50:48.136116Z",
     "shell.execute_reply": "2024-12-27T12:50:48.133756Z",
     "shell.execute_reply.started": "2024-12-27T12:50:47.698272Z"
    },
    "trusted": true
   },
   "outputs": [],
   "source": [
    "import numpy as np\n",
    "import pandas as pd\n",
    "import matplotlib.dates as mdates\n",
    "import matplotlib.pyplot as plt\n",
    "from mplfinance.original_flavor import candlestick_ohlc"
   ]
  },
  {
   "cell_type": "markdown",
   "metadata": {},
   "source": [
    "# EDA (Exploratory Data Anaysis)"
   ]
  },
  {
   "cell_type": "markdown",
   "metadata": {},
   "source": [
    "### BTC Prices Dataset Overview"
   ]
  },
  {
   "cell_type": "code",
   "execution_count": null,
   "metadata": {
    "execution": {
     "iopub.execute_input": "2024-12-27T12:50:48.137635Z",
     "iopub.status.busy": "2024-12-27T12:50:48.137042Z",
     "iopub.status.idle": "2024-12-27T12:50:49.840664Z",
     "shell.execute_reply": "2024-12-27T12:50:49.839484Z",
     "shell.execute_reply.started": "2024-12-27T12:50:48.137595Z"
    },
    "trusted": true
   },
   "outputs": [],
   "source": [
    "btc_prices_2021 = pd.read_csv('/kaggle/input/from-tweets-to-trends-the-musk-effect-on-crypto/btc_prices_2021.csv')\n",
    "btc_prices_2024 = pd.read_csv('/kaggle/input/from-tweets-to-trends-the-musk-effect-on-crypto/btc_prices_2024.csv')\n",
    "btc_prices = pd.concat([btc_prices_2021, btc_prices_2024], ignore_index=True)\n",
    "btc_prices.info()"
   ]
  },
  {
   "cell_type": "markdown",
   "metadata": {},
   "source": [
    "### DOGE Prices Dataset Overview"
   ]
  },
  {
   "cell_type": "code",
   "execution_count": null,
   "metadata": {
    "execution": {
     "iopub.execute_input": "2024-12-27T12:50:49.842041Z",
     "iopub.status.busy": "2024-12-27T12:50:49.841691Z",
     "iopub.status.idle": "2024-12-27T12:50:49.861385Z",
     "shell.execute_reply": "2024-12-27T12:50:49.860152Z",
     "shell.execute_reply.started": "2024-12-27T12:50:49.841995Z"
    },
    "trusted": true
   },
   "outputs": [],
   "source": [
    "doge_prices = pd.read_csv('/kaggle/input/from-tweets-to-trends-the-musk-effect-on-crypto/doge_prices.csv')\n",
    "doge_prices.info()"
   ]
  },
  {
   "cell_type": "markdown",
   "metadata": {},
   "source": [
    "### Musk Tweets Dataset Overview"
   ]
  },
  {
   "cell_type": "code",
   "execution_count": null,
   "metadata": {
    "execution": {
     "iopub.execute_input": "2024-12-27T12:50:49.864449Z",
     "iopub.status.busy": "2024-12-27T12:50:49.864137Z",
     "iopub.status.idle": "2024-12-27T12:50:49.904137Z",
     "shell.execute_reply": "2024-12-27T12:50:49.901669Z",
     "shell.execute_reply.started": "2024-12-27T12:50:49.864422Z"
    },
    "trusted": true
   },
   "outputs": [],
   "source": [
    "musk_tweets = pd.read_csv('/kaggle/input/from-tweets-to-trends-the-musk-effect-on-crypto/musk_tweets.csv')\n",
    "musk_tweets.info()"
   ]
  }
 ],
 "metadata": {
  "kaggle": {
   "accelerator": "none",
   "dataSources": [
    {
     "datasetId": 6383324,
     "sourceId": 10311487,
     "sourceType": "datasetVersion"
    }
   ],
   "dockerImageVersionId": 30822,
   "isGpuEnabled": false,
   "isInternetEnabled": true,
   "language": "python",
   "sourceType": "notebook"
  },
  "kernelspec": {
   "display_name": "Python 3",
   "language": "python",
   "name": "python3"
  },
  "language_info": {
   "codemirror_mode": {
    "name": "ipython",
    "version": 3
   },
   "file_extension": ".py",
   "mimetype": "text/x-python",
   "name": "python",
   "nbconvert_exporter": "python",
   "pygments_lexer": "ipython3",
   "version": "3.10.12"
  }
 },
 "nbformat": 4,
 "nbformat_minor": 4
}
