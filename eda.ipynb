{
 "cells": [
  {
   "cell_type": "markdown",
   "metadata": {},
   "source": [
    "# EDA"
   ]
  },
  {
   "cell_type": "markdown",
   "metadata": {},
   "source": [
    "### Dependencies"
   ]
  },
  {
   "cell_type": "code",
   "execution_count": 7,
   "metadata": {},
   "outputs": [],
   "source": [
    "import pandas as pd"
   ]
  },
  {
   "cell_type": "markdown",
   "metadata": {},
   "source": [
    "### BTC Prices Dataset Overview"
   ]
  },
  {
   "cell_type": "code",
   "execution_count": null,
   "metadata": {},
   "outputs": [
    {
     "name": "stdout",
     "output_type": "stream",
     "text": [
      "<class 'pandas.core.frame.DataFrame'>\n",
      "RangeIndex: 935185 entries, 0 to 935184\n",
      "Data columns (total 6 columns):\n",
      " #   Column     Non-Null Count   Dtype  \n",
      "---  ------     --------------   -----  \n",
      " 0   Timestamp  935185 non-null  object \n",
      " 1   Open       935185 non-null  float64\n",
      " 2   High       935185 non-null  float64\n",
      " 3   Low        935185 non-null  float64\n",
      " 4   Close      935185 non-null  float64\n",
      " 5   Volume     935185 non-null  float64\n",
      "dtypes: float64(5), object(1)\n",
      "memory usage: 42.8+ MB\n"
     ]
    }
   ],
   "source": [
    "btc_prices_2021 = pd.read_csv('data/btc_prices_2021.csv')\n",
    "btc_prices_2024 = pd.read_csv('data/btc_prices_2024.csv')\n",
    "btc_prices = pd.concat([btc_prices_2021, btc_prices_2024], ignore_index=True)\n",
    "btc_prices.info()"
   ]
  },
  {
   "cell_type": "markdown",
   "metadata": {},
   "source": [
    "### DOGE Prices Dataset Overview"
   ]
  },
  {
   "cell_type": "code",
   "execution_count": 9,
   "metadata": {},
   "outputs": [
    {
     "name": "stdout",
     "output_type": "stream",
     "text": [
      "<class 'pandas.core.frame.DataFrame'>\n",
      "RangeIndex: 2335 entries, 0 to 2334\n",
      "Data columns (total 6 columns):\n",
      " #   Column     Non-Null Count  Dtype  \n",
      "---  ------     --------------  -----  \n",
      " 0   Timestamp  2335 non-null   object \n",
      " 1   Open       2334 non-null   float64\n",
      " 2   High       2334 non-null   float64\n",
      " 3   Low        2334 non-null   float64\n",
      " 4   Close      2334 non-null   float64\n",
      " 5   Volume     2334 non-null   float64\n",
      "dtypes: float64(5), object(1)\n",
      "memory usage: 109.6+ KB\n"
     ]
    }
   ],
   "source": [
    "doge_prices = pd.read_csv('data/doge_prices.csv')\n",
    "doge_prices.info()"
   ]
  },
  {
   "cell_type": "markdown",
   "metadata": {},
   "source": [
    "### Musk Tweets Dataset Overview"
   ]
  },
  {
   "cell_type": "code",
   "execution_count": 10,
   "metadata": {},
   "outputs": [
    {
     "name": "stdout",
     "output_type": "stream",
     "text": [
      "<class 'pandas.core.frame.DataFrame'>\n",
      "RangeIndex: 5904 entries, 0 to 5903\n",
      "Data columns (total 3 columns):\n",
      " #   Column     Non-Null Count  Dtype \n",
      "---  ------     --------------  ----- \n",
      " 0   Timestamp  5904 non-null   object\n",
      " 1   Tweet      5904 non-null   object\n",
      " 2   Followers  5904 non-null   int64 \n",
      "dtypes: int64(1), object(2)\n",
      "memory usage: 138.5+ KB\n"
     ]
    }
   ],
   "source": [
    "musk_tweets = pd.read_csv('data/musk_tweets.csv')\n",
    "musk_tweets.info()"
   ]
  }
 ],
 "metadata": {
  "kernelspec": {
   "display_name": "base",
   "language": "python",
   "name": "python3"
  },
  "language_info": {
   "codemirror_mode": {
    "name": "ipython",
    "version": 3
   },
   "file_extension": ".py",
   "mimetype": "text/x-python",
   "name": "python",
   "nbconvert_exporter": "python",
   "pygments_lexer": "ipython3",
   "version": "3.11.5"
  }
 },
 "nbformat": 4,
 "nbformat_minor": 2
}
