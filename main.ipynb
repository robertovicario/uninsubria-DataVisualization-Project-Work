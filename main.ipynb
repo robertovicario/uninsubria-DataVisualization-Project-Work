{
 "cells": [
  {
   "cell_type": "markdown",
   "metadata": {},
   "source": [
    "# Preprocessing"
   ]
  },
  {
   "cell_type": "code",
   "execution_count": null,
   "metadata": {},
   "outputs": [],
   "source": [
    "import pandas as pd\n",
    "import plotly.graph_objects as go\n",
    "\n",
    "# Load the dataset\n",
    "musk_tweets = pd.read_csv('data/musk_tweets.csv')\n",
    "\n",
    "# Create a Table\n",
    "fig = go.Figure(data=[\n",
    "    go.Table(\n",
    "        header=dict(\n",
    "            values=[musk_tweets[col].tolist() for col in musk_tweets.columns],  # Use column names for the header\n",
    "            fill_color='lightblue',\n",
    "            align='center',\n",
    "            font=dict(color='black', size=16)\n",
    "        ),\n",
    "        cells=dict(\n",
    "            values=[1, 2, 3],  # Use the column data for the cells\n",
    "            fill_color='lavender',\n",
    "            align='center',\n",
    "            font=dict(color='black', size=12)\n",
    "        )\n",
    "    )\n",
    "])\n",
    "\n",
    "# Display the table\n",
    "fig.show()\n"
   ]
  },
  {
   "cell_type": "code",
   "execution_count": null,
   "metadata": {},
   "outputs": [],
   "source": []
  },
  {
   "cell_type": "code",
   "execution_count": null,
   "metadata": {},
   "outputs": [],
   "source": [
    "from plotly.subplots import make_subplots\n",
    "import plotly.graph_objects as go\n",
    "\n",
    "# Create subplots: 1 row, 3 columns\n",
    "fig = make_subplots(rows=1, cols=3, specs=[[{'type': 'domain'}, {'type': 'domain'}, {'type': 'domain'}]],\n",
    "                    subplot_titles=data_quality_df['Column'])\n",
    "\n",
    "# Add pie charts to each subplot\n",
    "for i, column in enumerate(data_quality_df['Column']):\n",
    "    fig.add_trace(go.Pie(labels=['Valid', 'Mismatched', 'Missing'],\n",
    "                         values=data_quality_df.loc[data_quality_df['Column'] == column, ['Valid', 'Mismatched', 'Missing']].values[0],\n",
    "                         name=column),\n",
    "                  row=1, col=i+1)\n",
    "\n",
    "# Update layout\n",
    "fig.update_layout(title_text='Data Quality Overview by Column')\n",
    "\n",
    "# Show the figure\n",
    "fig.show()\n"
   ]
  },
  {
   "cell_type": "markdown",
   "metadata": {},
   "source": [
    "### Maggio 2021: Tesla sospende i pagamenti in Bitcoin\n",
    "\n",
    "Cosa è successo? A marzo 2021, Tesla aveva annunciato che avrebbe accettato Bitcoin come metodo di pagamento per le sue auto, portando entusiasmo nel mercato e un aumento del valore del Bitcoin. Tuttavia, a maggio 2021, Musk ha fatto dietrofront, annunciando che Tesla avrebbe sospeso i pagamenti in Bitcoin. Il motivo principale fornito era l'impatto ambientale derivante dal mining di Bitcoin, che richiede grandi quantità di energia, spesso generata da combustibili fossili.\n",
    "\n",
    "Effetto sul mercato: Dopo questo annuncio, il prezzo di Bitcoin è precipitato di oltre il 10% in poche ore, passando da circa $54.000 a $47.000. Nei giorni successivi, la caduta è proseguita, spingendo il prezzo ancora più in basso.\n",
    "\n",
    "Tweet chiave: Musk ha twittato:\n",
    "\"Tesla has suspended vehicle purchases using Bitcoin. We are concerned about rapidly increasing use of fossil fuels for Bitcoin mining and transactions, especially coal, which has the worst emissions of any fuel.\""
   ]
  },
  {
   "cell_type": "code",
   "execution_count": null,
   "metadata": {},
   "outputs": [],
   "source": [
    "import pandas as pd\n",
    "import plotly.graph_objects as go\n",
    "\n",
    "# Caricare il dataset da un file CSV\n",
    "bitcoin_df = pd.read_csv('data/btc_prices.csv', parse_dates=['Timestamp'], date_parser=lambda x: pd.to_datetime(x, unit='s'))\n",
    "\n",
    "# Impostare l'intervallo di date\n",
    "start_date = '2021-05-01'\n",
    "end_date = '2021-05-31'\n",
    "\n",
    "# Filtrare il DataFrame per l'intervallo di date\n",
    "filtered_df = bitcoin_df.set_index('Timestamp').loc[start_date:end_date]\n",
    "\n",
    "# Risample il DataFrame a intervalli di un'ora\n",
    "resampled_df = filtered_df.resample('d').agg({'Open': 'first', 'High': 'max', 'Low': 'min', 'Close': 'last', 'Volume': 'sum'}).dropna()\n",
    "\n",
    "# Creare il candlechart con i dati risample\n",
    "fig = go.Figure(data=[go.Candlestick(x=resampled_df.index,\n",
    "                                     open=resampled_df['Open'],\n",
    "                                     high=resampled_df['High'],\n",
    "                                     low=resampled_df['Low'],\n",
    "                                     close=resampled_df['Close'])])\n",
    "\n",
    "fig.update_layout(title='May 2021: Tesla Episode',\n",
    "                  yaxis_title='Price (USD)')\n",
    "\n",
    "fig.show()\n"
   ]
  },
  {
   "cell_type": "markdown",
   "metadata": {},
   "source": [
    "### Dicembre 2020: \"Dogecoin è la criptovaluta del popolo\"\n",
    "\n",
    "Cosa è successo? Elon Musk ha twittato per la prima volta su Dogecoin il 20 dicembre 2020, definendolo la \"criptovaluta del popolo\" (\"One word: Doge\"). Questo semplice tweet ha fatto schizzare il prezzo di Dogecoin di oltre il 20% in poche ore.\n",
    "\n",
    "Effetto sul mercato: Il tweet ha portato Dogecoin, fino ad allora considerata una meme-coin senza grande utilità, sotto i riflettori. Gli investitori retail e la comunità di criptovalute hanno iniziato a prendere più seriamente il progetto.\n",
    "\n",
    "Tweet chiave: \"One word: Doge\""
   ]
  },
  {
   "cell_type": "markdown",
   "metadata": {},
   "source": [
    "### Febbraio 2021: Una serie di tweet su Dogecoin\n",
    "\n",
    "Cosa è successo? A febbraio 2021, Musk ha postato una serie di tweet che hanno ulteriormente fatto salire il prezzo di Dogecoin:\n",
    "Ha condiviso un’immagine di un razzo con la didascalia \"Doge to the moon!\".\n",
    "Ha dichiarato di essere il CEO di Dogecoin (ovviamente in modo ironico).\n",
    "\n",
    "Effetto sul mercato: Dogecoin ha guadagnato oltre il 50% in un solo giorno, raggiungendo un valore record per quel periodo. Gli investitori retail e le community di trading come Reddit hanno contribuito a mantenere l'entusiasmo.\n",
    "\n",
    "Tweet chiave: \"Dogecoin is the people’s crypto.\""
   ]
  },
  {
   "cell_type": "markdown",
   "metadata": {},
   "source": [
    "### Maggio 2021: SpaceX e \"Doge-1 Mission\"\n",
    "\n",
    "Cosa è successo? Musk ha annunciato che SpaceX avrebbe lanciato una missione chiamata Doge-1 Mission to the Moon, interamente finanziata in Dogecoin. Questo ha rafforzato l'idea che Dogecoin fosse una criptovaluta legata al futuro della tecnologia e dell’esplorazione spaziale.\n",
    "\n",
    "Effetto sul mercato: Dopo un calo post-SNL, l’annuncio della missione ha portato Dogecoin a una nuova ondata di interesse, anche se il prezzo non ha raggiunto i massimi storici precedenti.\n",
    "\n",
    "Tweet chiave: \"SpaceX is launching satellite Doge-1 to the moon next year – Mission paid for in Doge – First crypto in space – First meme in space.\""
   ]
  },
  {
   "cell_type": "markdown",
   "metadata": {},
   "source": [
    "### Gennaio 2022: Tesla accetta Dogecoin\n",
    "\n",
    "Cosa è successo? Musk ha annunciato su Twitter che Tesla avrebbe accettato Dogecoin come pagamento per il merchandising, come abbigliamento e gadget. Questo è stato un passo importante per il riconoscimento della moneta come mezzo di pagamento.\n",
    "\n",
    "Effetto sul mercato: Dogecoin è aumentato di oltre il 20% in un giorno, dimostrando ancora una volta la sensibilità del mercato alle dichiarazioni di Musk.\n",
    "\n",
    "Tweet chiave: \"Tesla merch buyable with Dogecoin.\""
   ]
  },
  {
   "cell_type": "code",
   "execution_count": null,
   "metadata": {},
   "outputs": [],
   "source": []
  },
  {
   "cell_type": "markdown",
   "metadata": {},
   "source": [
    "### Giugno 2021: Ambiguità sul supporto a Bitcoin\n",
    "\n",
    "Cosa è successo? Dopo la sospensione dei pagamenti in Bitcoin, Musk ha continuato a twittare in modo ambiguo, alimentando incertezza sul suo supporto alla criptovaluta. In particolare, un tweet criptico in cui rispondeva con un’emoji di cuore spezzato associata a Bitcoin ha fatto pensare agli investitori che Musk stesse perdendo interesse per Bitcoin.\n",
    "\n",
    "Effetto sul mercato: Questo tweet ha scatenato un'ulteriore reazione negativa sul mercato, con Bitcoin che è sceso di circa il 7% in poche ore, consolidando il clima di paura e incertezza già presente nel mercato.\n",
    "\n",
    "Tweet chiave: Musk ha twittato un meme che rappresentava una coppia che si lascia, con il simbolo di Bitcoin e un'emoji di cuore spezzato, suggerendo il suo \"distacco\" dalla criptovaluta."
   ]
  },
  {
   "cell_type": "code",
   "execution_count": null,
   "metadata": {},
   "outputs": [],
   "source": [
    "import pandas as pd\n",
    "import plotly.graph_objects as go\n",
    "\n",
    "# Caricare il dataset da un file CSV\n",
    "bitcoin_df = pd.read_csv('data/btc_prices.csv', parse_dates=['Timestamp'], date_parser=lambda x: pd.to_datetime(x, unit='s'))\n",
    "\n",
    "# Impostare l'intervallo di date\n",
    "start_date = '2021-05-01'\n",
    "end_date = '2021-06-30'\n",
    "\n",
    "# Filtrare il DataFrame per l'intervallo di date\n",
    "filtered_df = bitcoin_df.set_index('Timestamp').loc[start_date:end_date]\n",
    "\n",
    "# Risample il DataFrame a intervalli di un'ora\n",
    "resampled_df = filtered_df.resample('d').agg({'Open': 'first', 'High': 'max', 'Low': 'min', 'Close': 'last', 'Volume': 'sum'}).dropna()\n",
    "\n",
    "# Creare il candlechart con i dati risample\n",
    "fig = go.Figure(data=[go.Candlestick(x=resampled_df.index,\n",
    "                                     open=resampled_df['Open'],\n",
    "                                     high=resampled_df['High'],\n",
    "                                     low=resampled_df['Low'],\n",
    "                                     close=resampled_df['Close'])])\n",
    "\n",
    "fig.update_layout(title='June 2021: Uncertain Support',\n",
    "                  yaxis_title='Price (USD)')\n",
    "\n",
    "fig.show()"
   ]
  },
  {
   "cell_type": "markdown",
   "metadata": {},
   "source": [
    "### Dicembre 2021: Critiche indirette alla Proof-of-Work\n",
    "\n",
    "Cosa è successo? Musk ha criticato il modello di Proof-of-Work utilizzato da Bitcoin, sottolineando che il mining della criptovaluta è inefficiente e dannoso per l’ambiente. Anche se queste dichiarazioni non erano nuove, ogni volta che Musk ribadiva il tema dell’insostenibilità ambientale, il mercato reagiva negativamente, temendo ulteriori pressioni regolatorie o una perdita di fiducia generale.\n",
    "\n",
    "Effetto sul mercato: Questi commenti, combinati con altre notizie di mercato, hanno contribuito a una discesa di Bitcoin, che nel dicembre 2021 ha perso gran parte dei guadagni accumulati nel corso dell'anno, precipitando verso i $40.000."
   ]
  },
  {
   "cell_type": "code",
   "execution_count": null,
   "metadata": {},
   "outputs": [],
   "source": [
    "import pandas as pd\n",
    "import plotly.graph_objects as go\n",
    "\n",
    "# Caricare il dataset da un file CSV\n",
    "bitcoin_df = pd.read_csv('data/btc_prices.csv', parse_dates=['Timestamp'], date_parser=lambda x: pd.to_datetime(x, unit='s'))\n",
    "\n",
    "# Impostare l'intervallo di date\n",
    "start_date = '2021-12-01'\n",
    "end_date = '2021-12-31'\n",
    "\n",
    "# Filtrare il DataFrame per l'intervallo di date\n",
    "filtered_df = bitcoin_df.set_index('Timestamp').loc[start_date:end_date]\n",
    "\n",
    "# Risample il DataFrame a intervalli di un'ora\n",
    "resampled_df = filtered_df.resample('d').agg({'Open': 'first', 'High': 'max', 'Low': 'min', 'Close': 'last', 'Volume': 'sum'}).dropna()\n",
    "\n",
    "# Creare il candlechart con i dati risample\n",
    "fig = go.Figure(data=[go.Candlestick(x=resampled_df.index,\n",
    "                                     open=resampled_df['Open'],\n",
    "                                     high=resampled_df['High'],\n",
    "                                     low=resampled_df['Low'],\n",
    "                                     close=resampled_df['Close'])])\n",
    "\n",
    "fig.update_layout(title='December 2021: Proof-of-Work Dissing',\n",
    "                  yaxis_title='Price (USD)')\n",
    "\n",
    "fig.show()"
   ]
  },
  {
   "cell_type": "code",
   "execution_count": null,
   "metadata": {},
   "outputs": [],
   "source": [
    "# Define a custom color function with hex codes\n",
    "from matplotlib import pyplot as plt\n",
    "from wordcloud import WordCloud\n",
    "\n",
    "\n",
    "def custom_color_func(word, font_size, position, orientation, random_state=None, **kwargs):\n",
    "    highlight_words = {'Bitcoin', 'Tesla', 'BTC'}\n",
    "    if word in highlight_words:\n",
    "        return '#F7931A'  # Highlighted words in red (hex code)\n",
    "    else:\n",
    "        return '#CCCCCC'  # Other words in gray (hex code)\n",
    "\n",
    "# Generate the word cloud with the custom color function\n",
    "wordcloud = WordCloud(width=1000, height=600, background_color='white', color_func=custom_color_func).generate(all_text)\n",
    "\n",
    "# Display the word cloud\n",
    "plt.figure(figsize=(10, 6))\n",
    "plt.imshow(wordcloud, interpolation='bilinear')\n",
    "plt.axis('off')\n",
    "plt.show()\n"
   ]
  },
  {
   "cell_type": "code",
   "execution_count": null,
   "metadata": {},
   "outputs": [],
   "source": [
    "import plotly.express as px\n",
    "\n",
    "# Create a DataFrame from the word counts\n",
    "word_counts_df = pd.DataFrame.from_dict(word_counts, orient='index').reset_index()\n",
    "word_counts_df.columns = ['word', 'count']\n",
    "\n",
    "# Define a custom color function with hex codes\n",
    "def custom_color_func(word):\n",
    "    highlight_words = {'Bitcoin', 'Tesla', 'BTC'}\n",
    "    if word in highlight_words:\n",
    "        return '#F7931A'  # Highlighted words in red (hex code)\n",
    "    else:\n",
    "        return '#CCCCCC'  # Other words in gray (hex code)\n",
    "\n",
    "# Apply the custom color function to the DataFrame\n",
    "word_counts_df['color'] = word_counts_df['word'].apply(custom_color_func)\n",
    "\n",
    "# Create the word cloud figure using Plotly\n",
    "fig = px.treemap(word_counts_df, path=['word'], values='count', color='color', title='Word Cloud of Musk Tweets about Bitcoin')\n",
    "\n",
    "# Display the figure\n",
    "fig.show()\n"
   ]
  },
  {
   "cell_type": "code",
   "execution_count": null,
   "metadata": {},
   "outputs": [],
   "source": [
    "import plotly.express as px\n",
    "\n",
    "# List of highlighted words\n",
    "highlighted_words = ['Bitcoin', 'Tesla', 'BTC']\n",
    "\n",
    "# Count the occurrences of highlighted words in the word_counts_df\n",
    "highlighted_word_counts = word_counts_df[word_counts_df['word'].isin(highlighted_words)]\n",
    "\n",
    "# Create the pie chart with explode, shadow, and startangle\n",
    "fig_pie_highlighted = px.pie(highlighted_word_counts, names='word', values='count', title='Highlighted Words Distribution')\n",
    "\n",
    "# Update the layout to add explode, shadow, and startangle\n",
    "fig_pie_highlighted.update_traces(pull=[0, 0.1, 0], marker=dict(line=dict(color='#000000', width=0)), rotation=90)\n",
    "\n",
    "# Display the pie chart\n",
    "fig_pie_highlighted.show()"
   ]
  },
  {
   "cell_type": "markdown",
   "metadata": {},
   "source": [
    "# SENTIMENT ANALYSIS !!!"
   ]
  },
  {
   "cell_type": "code",
   "execution_count": null,
   "metadata": {},
   "outputs": [],
   "source": [
    "import pandas as pd\n",
    "from textblob import TextBlob\n",
    "from sklearn.model_selection import train_test_split\n",
    "from sklearn.feature_extraction.text import CountVectorizer\n",
    "from sklearn.naive_bayes import MultinomialNB\n",
    "from sklearn.metrics import accuracy_score, classification_report\n",
    "\n",
    "# Load the dataset\n",
    "tweets_df = pd.read_csv('data/musk_tweets.csv', parse_dates=['Timestamp'])\n",
    "\n",
    "# Function to calculate sentiment polarity\n",
    "def get_sentiment(text):\n",
    "    blob = TextBlob(text)\n",
    "    return blob.sentiment.polarity\n",
    "\n",
    "# Apply the sentiment function to each tweet\n",
    "tweets_df['Sentiment'] = tweets_df['Tweet'].apply(get_sentiment)\n",
    "\n",
    "# Display the first few rows with sentiment scores\n",
    "print(tweets_df[['Timestamp', 'Tweet', 'Sentiment']].head())\n",
    "\n",
    "# Plot the sentiment over time\n",
    "fig = px.line(tweets_df, x='Timestamp', y='Sentiment', title='Sentiment Analysis of Musk Tweets Over Time')\n",
    "fig.show()\n",
    "# Convert sentiment to binary classification: positive (1) if sentiment > 0, else negative (0)\n",
    "tweets_df['Sentiment_Class'] = tweets_df['Sentiment'].apply(lambda x: 1 if x > 0 else 0)\n",
    "\n",
    "# Split the data into training and testing sets\n",
    "X_train, X_test, y_train, y_test = train_test_split(tweets_df['Tweet'], tweets_df['Sentiment_Class'], test_size=0.2, random_state=42)\n",
    "\n",
    "# Vectorize the text data\n",
    "vectorizer = CountVectorizer()\n",
    "X_train_vec = vectorizer.fit_transform(X_train)\n",
    "X_test_vec = vectorizer.transform(X_test)\n",
    "\n",
    "# Train a Naive Bayes classifier\n",
    "nb_classifier = MultinomialNB()\n",
    "nb_classifier.fit(X_train_vec, y_train)\n",
    "\n",
    "# Predict the sentiment class for the test set\n",
    "y_pred = nb_classifier.predict(X_test_vec)\n",
    "\n",
    "# Evaluate the classifier\n",
    "accuracy = accuracy_score(y_test, y_pred)\n",
    "report = classification_report(y_test, y_pred)\n",
    "\n",
    "print(f'Accuracy: {accuracy}')\n",
    "print('Classification Report:')\n",
    "print(report)"
   ]
  },
  {
   "cell_type": "markdown",
   "metadata": {},
   "source": [
    "### Trump Episode\n",
    "\n",
    "what will happen with musk presence in gov?"
   ]
  }
 ],
 "metadata": {
  "kernelspec": {
   "display_name": "base",
   "language": "python",
   "name": "python3"
  },
  "language_info": {
   "codemirror_mode": {
    "name": "ipython",
    "version": 3
   },
   "file_extension": ".py",
   "mimetype": "text/x-python",
   "name": "python",
   "nbconvert_exporter": "python",
   "pygments_lexer": "ipython3",
   "version": "3.11.5"
  }
 },
 "nbformat": 4,
 "nbformat_minor": 2
}
