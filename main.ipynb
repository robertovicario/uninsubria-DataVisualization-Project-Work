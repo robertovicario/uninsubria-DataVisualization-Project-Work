{
 "cells": [
  {
   "cell_type": "markdown",
   "metadata": {},
   "source": [
    "### Maggio 2021: Tesla sospende i pagamenti in Bitcoin\n",
    "\n",
    "Cosa è successo? A marzo 2021, Tesla aveva annunciato che avrebbe accettato Bitcoin come metodo di pagamento per le sue auto, portando entusiasmo nel mercato e un aumento del valore del Bitcoin. Tuttavia, a maggio 2021, Musk ha fatto dietrofront, annunciando che Tesla avrebbe sospeso i pagamenti in Bitcoin. Il motivo principale fornito era l'impatto ambientale derivante dal mining di Bitcoin, che richiede grandi quantità di energia, spesso generata da combustibili fossili.\n",
    "\n",
    "Effetto sul mercato: Dopo questo annuncio, il prezzo di Bitcoin è precipitato di oltre il 10% in poche ore, passando da circa $54.000 a $47.000. Nei giorni successivi, la caduta è proseguita, spingendo il prezzo ancora più in basso.\n",
    "\n",
    "Tweet chiave: Musk ha twittato:\n",
    "\"Tesla has suspended vehicle purchases using Bitcoin. We are concerned about rapidly increasing use of fossil fuels for Bitcoin mining and transactions, especially coal, which has the worst emissions of any fuel.\""
   ]
  },
  {
   "cell_type": "code",
   "execution_count": 65,
   "metadata": {},
   "outputs": [
    {
     "name": "stderr",
     "output_type": "stream",
     "text": [
      "/var/folders/3n/vf15kv6n675_m6mzk8p8rfxr0000gn/T/ipykernel_5019/1377043132.py:5: FutureWarning:\n",
      "\n",
      "The argument 'date_parser' is deprecated and will be removed in a future version. Please use 'date_format' instead, or read your data in as 'object' dtype and then call 'to_datetime'.\n",
      "\n",
      "/var/folders/3n/vf15kv6n675_m6mzk8p8rfxr0000gn/T/ipykernel_5019/1377043132.py:5: FutureWarning:\n",
      "\n",
      "The behavior of 'to_datetime' with 'unit' when parsing strings is deprecated. In a future version, strings will be parsed as datetime strings, matching the behavior without a 'unit'. To retain the old behavior, explicitly cast ints or floats to numeric type before calling to_datetime.\n",
      "\n"
     ]
    },
    {
     "data": {
      "application/vnd.plotly.v1+json": {
       "config": {
        "plotlyServerURL": "https://plot.ly"
       },
       "data": [
        {
         "close": [
          57806.1,
          56900,
          57527.17,
          54635.58,
          57118.01,
          56157.84,
          57645.23,
          59108.31,
          57344.75,
          55745.52,
          56693.47,
          54540.76,
          48622.1,
          50163.85,
          47827.18,
          45482.42,
          44293.9,
          43278.45,
          39475,
          40422.17,
          36261.98,
          37316.16,
          33120,
          39662.14,
          37254.77,
          38553.97,
          38832.79,
          35849.99,
          34114.7,
          36113.97,
          36882.07
         ],
         "high": [
          58549,
          58034,
          59000,
          57602.16,
          57976.62,
          58420.83,
          58743.85,
          59501,
          59564.24,
          59603,
          56953.56,
          58021.26,
          54819,
          51572,
          50710.93,
          49800,
          46648.5,
          45872.05,
          43601.63,
          43000,
          42297.89,
          38887.99,
          38414.74,
          39822.73,
          40000,
          40904,
          40429.47,
          39209.09,
          37348.01,
          36516.99,
          37485.71
         ],
         "low": [
          56476.63,
          56064.51,
          56248.87,
          53259,
          52924.5,
          55283,
          55288.11,
          56800,
          56256,
          55555.88,
          53500,
          53555,
          45700,
          48376.21,
          46894.8,
          44444,
          42100,
          42023.69,
          30066,
          35000,
          35550,
          33520,
          31107.46,
          33097.78,
          36486.85,
          37258.26,
          37212.9,
          35145.52,
          33650,
          33425,
          34195.2
         ],
         "open": [
          57050.8,
          57822.76,
          56886.16,
          57538.15,
          54626.59,
          57112.33,
          56171.16,
          57651.73,
          59133.2,
          57341.5,
          55734.43,
          56692.91,
          54543.07,
          48643.78,
          50187.79,
          47817.14,
          45430.22,
          44300.41,
          43286.45,
          39400,
          40457.06,
          36249.93,
          37307.61,
          33140.24,
          39705.45,
          37269.13,
          38526.57,
          38845.16,
          35848.9,
          34090.02,
          36090.47
         ],
         "type": "candlestick",
         "x": [
          "2021-05-01T00:00:00",
          "2021-05-02T00:00:00",
          "2021-05-03T00:00:00",
          "2021-05-04T00:00:00",
          "2021-05-05T00:00:00",
          "2021-05-06T00:00:00",
          "2021-05-07T00:00:00",
          "2021-05-08T00:00:00",
          "2021-05-09T00:00:00",
          "2021-05-10T00:00:00",
          "2021-05-11T00:00:00",
          "2021-05-12T00:00:00",
          "2021-05-13T00:00:00",
          "2021-05-14T00:00:00",
          "2021-05-15T00:00:00",
          "2021-05-16T00:00:00",
          "2021-05-17T00:00:00",
          "2021-05-18T00:00:00",
          "2021-05-19T00:00:00",
          "2021-05-20T00:00:00",
          "2021-05-21T00:00:00",
          "2021-05-22T00:00:00",
          "2021-05-23T00:00:00",
          "2021-05-24T00:00:00",
          "2021-05-25T00:00:00",
          "2021-05-26T00:00:00",
          "2021-05-27T00:00:00",
          "2021-05-28T00:00:00",
          "2021-05-29T00:00:00",
          "2021-05-30T00:00:00",
          "2021-05-31T00:00:00"
         ]
        }
       ],
       "layout": {
        "template": {
         "data": {
          "bar": [
           {
            "error_x": {
             "color": "#2a3f5f"
            },
            "error_y": {
             "color": "#2a3f5f"
            },
            "marker": {
             "line": {
              "color": "#E5ECF6",
              "width": 0.5
             },
             "pattern": {
              "fillmode": "overlay",
              "size": 10,
              "solidity": 0.2
             }
            },
            "type": "bar"
           }
          ],
          "barpolar": [
           {
            "marker": {
             "line": {
              "color": "#E5ECF6",
              "width": 0.5
             },
             "pattern": {
              "fillmode": "overlay",
              "size": 10,
              "solidity": 0.2
             }
            },
            "type": "barpolar"
           }
          ],
          "carpet": [
           {
            "aaxis": {
             "endlinecolor": "#2a3f5f",
             "gridcolor": "white",
             "linecolor": "white",
             "minorgridcolor": "white",
             "startlinecolor": "#2a3f5f"
            },
            "baxis": {
             "endlinecolor": "#2a3f5f",
             "gridcolor": "white",
             "linecolor": "white",
             "minorgridcolor": "white",
             "startlinecolor": "#2a3f5f"
            },
            "type": "carpet"
           }
          ],
          "choropleth": [
           {
            "colorbar": {
             "outlinewidth": 0,
             "ticks": ""
            },
            "type": "choropleth"
           }
          ],
          "contour": [
           {
            "colorbar": {
             "outlinewidth": 0,
             "ticks": ""
            },
            "colorscale": [
             [
              0,
              "#0d0887"
             ],
             [
              0.1111111111111111,
              "#46039f"
             ],
             [
              0.2222222222222222,
              "#7201a8"
             ],
             [
              0.3333333333333333,
              "#9c179e"
             ],
             [
              0.4444444444444444,
              "#bd3786"
             ],
             [
              0.5555555555555556,
              "#d8576b"
             ],
             [
              0.6666666666666666,
              "#ed7953"
             ],
             [
              0.7777777777777778,
              "#fb9f3a"
             ],
             [
              0.8888888888888888,
              "#fdca26"
             ],
             [
              1,
              "#f0f921"
             ]
            ],
            "type": "contour"
           }
          ],
          "contourcarpet": [
           {
            "colorbar": {
             "outlinewidth": 0,
             "ticks": ""
            },
            "type": "contourcarpet"
           }
          ],
          "heatmap": [
           {
            "colorbar": {
             "outlinewidth": 0,
             "ticks": ""
            },
            "colorscale": [
             [
              0,
              "#0d0887"
             ],
             [
              0.1111111111111111,
              "#46039f"
             ],
             [
              0.2222222222222222,
              "#7201a8"
             ],
             [
              0.3333333333333333,
              "#9c179e"
             ],
             [
              0.4444444444444444,
              "#bd3786"
             ],
             [
              0.5555555555555556,
              "#d8576b"
             ],
             [
              0.6666666666666666,
              "#ed7953"
             ],
             [
              0.7777777777777778,
              "#fb9f3a"
             ],
             [
              0.8888888888888888,
              "#fdca26"
             ],
             [
              1,
              "#f0f921"
             ]
            ],
            "type": "heatmap"
           }
          ],
          "heatmapgl": [
           {
            "colorbar": {
             "outlinewidth": 0,
             "ticks": ""
            },
            "colorscale": [
             [
              0,
              "#0d0887"
             ],
             [
              0.1111111111111111,
              "#46039f"
             ],
             [
              0.2222222222222222,
              "#7201a8"
             ],
             [
              0.3333333333333333,
              "#9c179e"
             ],
             [
              0.4444444444444444,
              "#bd3786"
             ],
             [
              0.5555555555555556,
              "#d8576b"
             ],
             [
              0.6666666666666666,
              "#ed7953"
             ],
             [
              0.7777777777777778,
              "#fb9f3a"
             ],
             [
              0.8888888888888888,
              "#fdca26"
             ],
             [
              1,
              "#f0f921"
             ]
            ],
            "type": "heatmapgl"
           }
          ],
          "histogram": [
           {
            "marker": {
             "pattern": {
              "fillmode": "overlay",
              "size": 10,
              "solidity": 0.2
             }
            },
            "type": "histogram"
           }
          ],
          "histogram2d": [
           {
            "colorbar": {
             "outlinewidth": 0,
             "ticks": ""
            },
            "colorscale": [
             [
              0,
              "#0d0887"
             ],
             [
              0.1111111111111111,
              "#46039f"
             ],
             [
              0.2222222222222222,
              "#7201a8"
             ],
             [
              0.3333333333333333,
              "#9c179e"
             ],
             [
              0.4444444444444444,
              "#bd3786"
             ],
             [
              0.5555555555555556,
              "#d8576b"
             ],
             [
              0.6666666666666666,
              "#ed7953"
             ],
             [
              0.7777777777777778,
              "#fb9f3a"
             ],
             [
              0.8888888888888888,
              "#fdca26"
             ],
             [
              1,
              "#f0f921"
             ]
            ],
            "type": "histogram2d"
           }
          ],
          "histogram2dcontour": [
           {
            "colorbar": {
             "outlinewidth": 0,
             "ticks": ""
            },
            "colorscale": [
             [
              0,
              "#0d0887"
             ],
             [
              0.1111111111111111,
              "#46039f"
             ],
             [
              0.2222222222222222,
              "#7201a8"
             ],
             [
              0.3333333333333333,
              "#9c179e"
             ],
             [
              0.4444444444444444,
              "#bd3786"
             ],
             [
              0.5555555555555556,
              "#d8576b"
             ],
             [
              0.6666666666666666,
              "#ed7953"
             ],
             [
              0.7777777777777778,
              "#fb9f3a"
             ],
             [
              0.8888888888888888,
              "#fdca26"
             ],
             [
              1,
              "#f0f921"
             ]
            ],
            "type": "histogram2dcontour"
           }
          ],
          "mesh3d": [
           {
            "colorbar": {
             "outlinewidth": 0,
             "ticks": ""
            },
            "type": "mesh3d"
           }
          ],
          "parcoords": [
           {
            "line": {
             "colorbar": {
              "outlinewidth": 0,
              "ticks": ""
             }
            },
            "type": "parcoords"
           }
          ],
          "pie": [
           {
            "automargin": true,
            "type": "pie"
           }
          ],
          "scatter": [
           {
            "fillpattern": {
             "fillmode": "overlay",
             "size": 10,
             "solidity": 0.2
            },
            "type": "scatter"
           }
          ],
          "scatter3d": [
           {
            "line": {
             "colorbar": {
              "outlinewidth": 0,
              "ticks": ""
             }
            },
            "marker": {
             "colorbar": {
              "outlinewidth": 0,
              "ticks": ""
             }
            },
            "type": "scatter3d"
           }
          ],
          "scattercarpet": [
           {
            "marker": {
             "colorbar": {
              "outlinewidth": 0,
              "ticks": ""
             }
            },
            "type": "scattercarpet"
           }
          ],
          "scattergeo": [
           {
            "marker": {
             "colorbar": {
              "outlinewidth": 0,
              "ticks": ""
             }
            },
            "type": "scattergeo"
           }
          ],
          "scattergl": [
           {
            "marker": {
             "colorbar": {
              "outlinewidth": 0,
              "ticks": ""
             }
            },
            "type": "scattergl"
           }
          ],
          "scattermapbox": [
           {
            "marker": {
             "colorbar": {
              "outlinewidth": 0,
              "ticks": ""
             }
            },
            "type": "scattermapbox"
           }
          ],
          "scatterpolar": [
           {
            "marker": {
             "colorbar": {
              "outlinewidth": 0,
              "ticks": ""
             }
            },
            "type": "scatterpolar"
           }
          ],
          "scatterpolargl": [
           {
            "marker": {
             "colorbar": {
              "outlinewidth": 0,
              "ticks": ""
             }
            },
            "type": "scatterpolargl"
           }
          ],
          "scatterternary": [
           {
            "marker": {
             "colorbar": {
              "outlinewidth": 0,
              "ticks": ""
             }
            },
            "type": "scatterternary"
           }
          ],
          "surface": [
           {
            "colorbar": {
             "outlinewidth": 0,
             "ticks": ""
            },
            "colorscale": [
             [
              0,
              "#0d0887"
             ],
             [
              0.1111111111111111,
              "#46039f"
             ],
             [
              0.2222222222222222,
              "#7201a8"
             ],
             [
              0.3333333333333333,
              "#9c179e"
             ],
             [
              0.4444444444444444,
              "#bd3786"
             ],
             [
              0.5555555555555556,
              "#d8576b"
             ],
             [
              0.6666666666666666,
              "#ed7953"
             ],
             [
              0.7777777777777778,
              "#fb9f3a"
             ],
             [
              0.8888888888888888,
              "#fdca26"
             ],
             [
              1,
              "#f0f921"
             ]
            ],
            "type": "surface"
           }
          ],
          "table": [
           {
            "cells": {
             "fill": {
              "color": "#EBF0F8"
             },
             "line": {
              "color": "white"
             }
            },
            "header": {
             "fill": {
              "color": "#C8D4E3"
             },
             "line": {
              "color": "white"
             }
            },
            "type": "table"
           }
          ]
         },
         "layout": {
          "annotationdefaults": {
           "arrowcolor": "#2a3f5f",
           "arrowhead": 0,
           "arrowwidth": 1
          },
          "autotypenumbers": "strict",
          "coloraxis": {
           "colorbar": {
            "outlinewidth": 0,
            "ticks": ""
           }
          },
          "colorscale": {
           "diverging": [
            [
             0,
             "#8e0152"
            ],
            [
             0.1,
             "#c51b7d"
            ],
            [
             0.2,
             "#de77ae"
            ],
            [
             0.3,
             "#f1b6da"
            ],
            [
             0.4,
             "#fde0ef"
            ],
            [
             0.5,
             "#f7f7f7"
            ],
            [
             0.6,
             "#e6f5d0"
            ],
            [
             0.7,
             "#b8e186"
            ],
            [
             0.8,
             "#7fbc41"
            ],
            [
             0.9,
             "#4d9221"
            ],
            [
             1,
             "#276419"
            ]
           ],
           "sequential": [
            [
             0,
             "#0d0887"
            ],
            [
             0.1111111111111111,
             "#46039f"
            ],
            [
             0.2222222222222222,
             "#7201a8"
            ],
            [
             0.3333333333333333,
             "#9c179e"
            ],
            [
             0.4444444444444444,
             "#bd3786"
            ],
            [
             0.5555555555555556,
             "#d8576b"
            ],
            [
             0.6666666666666666,
             "#ed7953"
            ],
            [
             0.7777777777777778,
             "#fb9f3a"
            ],
            [
             0.8888888888888888,
             "#fdca26"
            ],
            [
             1,
             "#f0f921"
            ]
           ],
           "sequentialminus": [
            [
             0,
             "#0d0887"
            ],
            [
             0.1111111111111111,
             "#46039f"
            ],
            [
             0.2222222222222222,
             "#7201a8"
            ],
            [
             0.3333333333333333,
             "#9c179e"
            ],
            [
             0.4444444444444444,
             "#bd3786"
            ],
            [
             0.5555555555555556,
             "#d8576b"
            ],
            [
             0.6666666666666666,
             "#ed7953"
            ],
            [
             0.7777777777777778,
             "#fb9f3a"
            ],
            [
             0.8888888888888888,
             "#fdca26"
            ],
            [
             1,
             "#f0f921"
            ]
           ]
          },
          "colorway": [
           "#636efa",
           "#EF553B",
           "#00cc96",
           "#ab63fa",
           "#FFA15A",
           "#19d3f3",
           "#FF6692",
           "#B6E880",
           "#FF97FF",
           "#FECB52"
          ],
          "font": {
           "color": "#2a3f5f"
          },
          "geo": {
           "bgcolor": "white",
           "lakecolor": "white",
           "landcolor": "#E5ECF6",
           "showlakes": true,
           "showland": true,
           "subunitcolor": "white"
          },
          "hoverlabel": {
           "align": "left"
          },
          "hovermode": "closest",
          "mapbox": {
           "style": "light"
          },
          "paper_bgcolor": "white",
          "plot_bgcolor": "#E5ECF6",
          "polar": {
           "angularaxis": {
            "gridcolor": "white",
            "linecolor": "white",
            "ticks": ""
           },
           "bgcolor": "#E5ECF6",
           "radialaxis": {
            "gridcolor": "white",
            "linecolor": "white",
            "ticks": ""
           }
          },
          "scene": {
           "xaxis": {
            "backgroundcolor": "#E5ECF6",
            "gridcolor": "white",
            "gridwidth": 2,
            "linecolor": "white",
            "showbackground": true,
            "ticks": "",
            "zerolinecolor": "white"
           },
           "yaxis": {
            "backgroundcolor": "#E5ECF6",
            "gridcolor": "white",
            "gridwidth": 2,
            "linecolor": "white",
            "showbackground": true,
            "ticks": "",
            "zerolinecolor": "white"
           },
           "zaxis": {
            "backgroundcolor": "#E5ECF6",
            "gridcolor": "white",
            "gridwidth": 2,
            "linecolor": "white",
            "showbackground": true,
            "ticks": "",
            "zerolinecolor": "white"
           }
          },
          "shapedefaults": {
           "line": {
            "color": "#2a3f5f"
           }
          },
          "ternary": {
           "aaxis": {
            "gridcolor": "white",
            "linecolor": "white",
            "ticks": ""
           },
           "baxis": {
            "gridcolor": "white",
            "linecolor": "white",
            "ticks": ""
           },
           "bgcolor": "#E5ECF6",
           "caxis": {
            "gridcolor": "white",
            "linecolor": "white",
            "ticks": ""
           }
          },
          "title": {
           "x": 0.05
          },
          "xaxis": {
           "automargin": true,
           "gridcolor": "white",
           "linecolor": "white",
           "ticks": "",
           "title": {
            "standoff": 15
           },
           "zerolinecolor": "white",
           "zerolinewidth": 2
          },
          "yaxis": {
           "automargin": true,
           "gridcolor": "white",
           "linecolor": "white",
           "ticks": "",
           "title": {
            "standoff": 15
           },
           "zerolinecolor": "white",
           "zerolinewidth": 2
          }
         }
        },
        "title": {
         "text": "May 2021: Tesla Episode"
        },
        "yaxis": {
         "title": {
          "text": "Price (USD)"
         }
        }
       }
      }
     },
     "metadata": {},
     "output_type": "display_data"
    }
   ],
   "source": [
    "import pandas as pd\n",
    "import plotly.graph_objects as go\n",
    "\n",
    "# Caricare il dataset da un file CSV\n",
    "bitcoin_df = pd.read_csv('data/btc_prices.csv', parse_dates=['Timestamp'], date_parser=lambda x: pd.to_datetime(x, unit='s'))\n",
    "\n",
    "# Impostare l'intervallo di date\n",
    "start_date = '2021-05-01'\n",
    "end_date = '2021-05-31'\n",
    "\n",
    "# Filtrare il DataFrame per l'intervallo di date\n",
    "filtered_df = bitcoin_df.set_index('Timestamp').loc[start_date:end_date]\n",
    "\n",
    "# Risample il DataFrame a intervalli di un'ora\n",
    "resampled_df = filtered_df.resample('d').agg({'Open': 'first', 'High': 'max', 'Low': 'min', 'Close': 'last', 'Volume': 'sum'}).dropna()\n",
    "\n",
    "# Creare il candlechart con i dati risample\n",
    "fig = go.Figure(data=[go.Candlestick(x=resampled_df.index,\n",
    "                                     open=resampled_df['Open'],\n",
    "                                     high=resampled_df['High'],\n",
    "                                     low=resampled_df['Low'],\n",
    "                                     close=resampled_df['Close'])])\n",
    "\n",
    "fig.update_layout(title='May 2021: Tesla Episode',\n",
    "                  yaxis_title='Price (USD)')\n",
    "\n",
    "fig.show()\n"
   ]
  },
  {
   "cell_type": "markdown",
   "metadata": {},
   "source": [
    "### Dicembre 2020: \"Dogecoin è la criptovaluta del popolo\"\n",
    "\n",
    "Cosa è successo? Elon Musk ha twittato per la prima volta su Dogecoin il 20 dicembre 2020, definendolo la \"criptovaluta del popolo\" (\"One word: Doge\"). Questo semplice tweet ha fatto schizzare il prezzo di Dogecoin di oltre il 20% in poche ore.\n",
    "\n",
    "Effetto sul mercato: Il tweet ha portato Dogecoin, fino ad allora considerata una meme-coin senza grande utilità, sotto i riflettori. Gli investitori retail e la comunità di criptovalute hanno iniziato a prendere più seriamente il progetto.\n",
    "\n",
    "Tweet chiave: \"One word: Doge\""
   ]
  },
  {
   "cell_type": "markdown",
   "metadata": {},
   "source": [
    "### Febbraio 2021: Una serie di tweet su Dogecoin\n",
    "\n",
    "Cosa è successo? A febbraio 2021, Musk ha postato una serie di tweet che hanno ulteriormente fatto salire il prezzo di Dogecoin:\n",
    "Ha condiviso un’immagine di un razzo con la didascalia \"Doge to the moon!\".\n",
    "Ha dichiarato di essere il CEO di Dogecoin (ovviamente in modo ironico).\n",
    "\n",
    "Effetto sul mercato: Dogecoin ha guadagnato oltre il 50% in un solo giorno, raggiungendo un valore record per quel periodo. Gli investitori retail e le community di trading come Reddit hanno contribuito a mantenere l'entusiasmo.\n",
    "\n",
    "Tweet chiave: \"Dogecoin is the people’s crypto.\""
   ]
  },
  {
   "cell_type": "markdown",
   "metadata": {},
   "source": [
    "### Maggio 2021: SpaceX e \"Doge-1 Mission\"\n",
    "\n",
    "Cosa è successo? Musk ha annunciato che SpaceX avrebbe lanciato una missione chiamata Doge-1 Mission to the Moon, interamente finanziata in Dogecoin. Questo ha rafforzato l'idea che Dogecoin fosse una criptovaluta legata al futuro della tecnologia e dell’esplorazione spaziale.\n",
    "\n",
    "Effetto sul mercato: Dopo un calo post-SNL, l’annuncio della missione ha portato Dogecoin a una nuova ondata di interesse, anche se il prezzo non ha raggiunto i massimi storici precedenti.\n",
    "\n",
    "Tweet chiave: \"SpaceX is launching satellite Doge-1 to the moon next year – Mission paid for in Doge – First crypto in space – First meme in space.\""
   ]
  },
  {
   "cell_type": "markdown",
   "metadata": {},
   "source": [
    "### Gennaio 2022: Tesla accetta Dogecoin\n",
    "\n",
    "Cosa è successo? Musk ha annunciato su Twitter che Tesla avrebbe accettato Dogecoin come pagamento per il merchandising, come abbigliamento e gadget. Questo è stato un passo importante per il riconoscimento della moneta come mezzo di pagamento.\n",
    "\n",
    "Effetto sul mercato: Dogecoin è aumentato di oltre il 20% in un giorno, dimostrando ancora una volta la sensibilità del mercato alle dichiarazioni di Musk.\n",
    "\n",
    "Tweet chiave: \"Tesla merch buyable with Dogecoin.\""
   ]
  },
  {
   "cell_type": "code",
   "execution_count": null,
   "metadata": {},
   "outputs": [],
   "source": []
  },
  {
   "cell_type": "markdown",
   "metadata": {},
   "source": [
    "### Giugno 2021: Ambiguità sul supporto a Bitcoin\n",
    "\n",
    "Cosa è successo? Dopo la sospensione dei pagamenti in Bitcoin, Musk ha continuato a twittare in modo ambiguo, alimentando incertezza sul suo supporto alla criptovaluta. In particolare, un tweet criptico in cui rispondeva con un’emoji di cuore spezzato associata a Bitcoin ha fatto pensare agli investitori che Musk stesse perdendo interesse per Bitcoin.\n",
    "\n",
    "Effetto sul mercato: Questo tweet ha scatenato un'ulteriore reazione negativa sul mercato, con Bitcoin che è sceso di circa il 7% in poche ore, consolidando il clima di paura e incertezza già presente nel mercato.\n",
    "\n",
    "Tweet chiave: Musk ha twittato un meme che rappresentava una coppia che si lascia, con il simbolo di Bitcoin e un'emoji di cuore spezzato, suggerendo il suo \"distacco\" dalla criptovaluta."
   ]
  },
  {
   "cell_type": "code",
   "execution_count": 66,
   "metadata": {},
   "outputs": [
    {
     "name": "stderr",
     "output_type": "stream",
     "text": [
      "/var/folders/3n/vf15kv6n675_m6mzk8p8rfxr0000gn/T/ipykernel_5019/500374950.py:5: FutureWarning:\n",
      "\n",
      "The argument 'date_parser' is deprecated and will be removed in a future version. Please use 'date_format' instead, or read your data in as 'object' dtype and then call 'to_datetime'.\n",
      "\n",
      "/var/folders/3n/vf15kv6n675_m6mzk8p8rfxr0000gn/T/ipykernel_5019/500374950.py:5: FutureWarning:\n",
      "\n",
      "The behavior of 'to_datetime' with 'unit' when parsing strings is deprecated. In a future version, strings will be parsed as datetime strings, matching the behavior without a 'unit'. To retain the old behavior, explicitly cast ints or floats to numeric type before calling to_datetime.\n",
      "\n"
     ]
    },
    {
     "data": {
      "application/vnd.plotly.v1+json": {
       "config": {
        "plotlyServerURL": "https://plot.ly"
       },
       "data": [
        {
         "close": [
          57806.1,
          56900,
          57527.17,
          54635.58,
          57118.01,
          56157.84,
          57645.23,
          59108.31,
          57344.75,
          55745.52,
          56693.47,
          54540.76,
          48622.1,
          50163.85,
          47827.18,
          45482.42,
          44293.9,
          43278.45,
          39475,
          40422.17,
          36261.98,
          37316.16,
          33120,
          39662.14,
          37254.77,
          38553.97,
          38832.79,
          35849.99,
          34114.7,
          36113.97,
          36882.07,
          35954.49,
          37890.56,
          38524.21,
          36843.36,
          35805.7,
          35749.93,
          35674.18,
          32956.4,
          36272.06,
          36695.52,
          37298.59,
          35760.21,
          37642.36,
          39739.26,
          39942.71,
          38704.96,
          37743.22,
          35437.45,
          35866.91,
          35398.05,
          32628.04,
          32561.11,
          32916.23,
          34771.93,
          32312.17,
          31529.09,
          32851.82,
          34463.63,
          36417.23,
          34755
         ],
         "high": [
          58549,
          58034,
          59000,
          57602.16,
          57976.62,
          58420.83,
          58743.85,
          59501,
          59564.24,
          59603,
          56953.56,
          58021.26,
          54819,
          51572,
          50710.93,
          49800,
          46648.5,
          45872.05,
          43601.63,
          43000,
          42297.89,
          38887.99,
          38414.74,
          39822.73,
          40000,
          40904,
          40429.47,
          39209.09,
          37348.01,
          36516.99,
          37485.71,
          37927.44,
          38256.3,
          39490,
          39277.36,
          37927.93,
          36510.58,
          36808.3,
          35748.78,
          37000,
          38446.24,
          37680.65,
          37500,
          37761.99,
          41050,
          41341.57,
          40506.59,
          39553.05,
          38208.68,
          36440,
          36217.86,
          36125,
          33315.85,
          35000,
          35289,
          35517.22,
          32714.46,
          33585.88,
          35357.13,
          36623.79,
          36503.59
         ],
         "low": [
          56476.63,
          56064.51,
          56248.87,
          53259,
          52924.5,
          55283,
          55288.11,
          56800,
          56256,
          55555.88,
          53500,
          53555,
          45700,
          48376.21,
          46894.8,
          44444,
          42100,
          42023.69,
          30066,
          35000,
          35550,
          33520,
          31107.46,
          33097.78,
          36486.85,
          37258.26,
          37212.9,
          35145.52,
          33650,
          33425,
          34195.2,
          35699.98,
          35875.48,
          37176.06,
          35576.67,
          35275,
          34849.65,
          35250,
          31025,
          32423.72,
          36113.25,
          35824.69,
          34630,
          34783.9,
          37656.62,
          39573.05,
          38333,
          37521.77,
          35143.68,
          34718.21,
          33337,
          31700,
          28600,
          31670.89,
          32314.37,
          31500,
          30082.79,
          30927.9,
          32425.77,
          34116.43,
          34049.36
         ],
         "open": [
          57050.8,
          57822.76,
          56886.16,
          57538.15,
          54626.59,
          57112.33,
          56171.16,
          57651.73,
          59133.2,
          57341.5,
          55734.43,
          56692.91,
          54543.07,
          48643.78,
          50187.79,
          47817.14,
          45430.22,
          44300.41,
          43286.45,
          39400,
          40457.06,
          36249.93,
          37307.61,
          33140.24,
          39705.45,
          37269.13,
          38526.57,
          38845.16,
          35848.9,
          34090.02,
          36090.47,
          36873.41,
          35954.94,
          37875.26,
          38535.28,
          36843.36,
          35807.49,
          35753.9,
          35674.23,
          32951.62,
          36251.43,
          36704.63,
          37298.88,
          35760.2,
          37656.62,
          39701.73,
          39956.96,
          38685.86,
          37743,
          35435.07,
          35907.29,
          35426.97,
          32683.22,
          32543.02,
          32927.97,
          34783.44,
          32323.38,
          31535.07,
          32835.82,
          34458.21,
          36419
         ],
         "type": "candlestick",
         "x": [
          "2021-05-01T00:00:00",
          "2021-05-02T00:00:00",
          "2021-05-03T00:00:00",
          "2021-05-04T00:00:00",
          "2021-05-05T00:00:00",
          "2021-05-06T00:00:00",
          "2021-05-07T00:00:00",
          "2021-05-08T00:00:00",
          "2021-05-09T00:00:00",
          "2021-05-10T00:00:00",
          "2021-05-11T00:00:00",
          "2021-05-12T00:00:00",
          "2021-05-13T00:00:00",
          "2021-05-14T00:00:00",
          "2021-05-15T00:00:00",
          "2021-05-16T00:00:00",
          "2021-05-17T00:00:00",
          "2021-05-18T00:00:00",
          "2021-05-19T00:00:00",
          "2021-05-20T00:00:00",
          "2021-05-21T00:00:00",
          "2021-05-22T00:00:00",
          "2021-05-23T00:00:00",
          "2021-05-24T00:00:00",
          "2021-05-25T00:00:00",
          "2021-05-26T00:00:00",
          "2021-05-27T00:00:00",
          "2021-05-28T00:00:00",
          "2021-05-29T00:00:00",
          "2021-05-30T00:00:00",
          "2021-05-31T00:00:00",
          "2021-06-01T00:00:00",
          "2021-06-02T00:00:00",
          "2021-06-03T00:00:00",
          "2021-06-04T00:00:00",
          "2021-06-05T00:00:00",
          "2021-06-06T00:00:00",
          "2021-06-07T00:00:00",
          "2021-06-08T00:00:00",
          "2021-06-09T00:00:00",
          "2021-06-10T00:00:00",
          "2021-06-11T00:00:00",
          "2021-06-12T00:00:00",
          "2021-06-13T00:00:00",
          "2021-06-14T00:00:00",
          "2021-06-15T00:00:00",
          "2021-06-16T00:00:00",
          "2021-06-17T00:00:00",
          "2021-06-18T00:00:00",
          "2021-06-19T00:00:00",
          "2021-06-20T00:00:00",
          "2021-06-21T00:00:00",
          "2021-06-22T00:00:00",
          "2021-06-23T00:00:00",
          "2021-06-24T00:00:00",
          "2021-06-25T00:00:00",
          "2021-06-26T00:00:00",
          "2021-06-27T00:00:00",
          "2021-06-28T00:00:00",
          "2021-06-29T00:00:00",
          "2021-06-30T00:00:00"
         ]
        }
       ],
       "layout": {
        "template": {
         "data": {
          "bar": [
           {
            "error_x": {
             "color": "#2a3f5f"
            },
            "error_y": {
             "color": "#2a3f5f"
            },
            "marker": {
             "line": {
              "color": "#E5ECF6",
              "width": 0.5
             },
             "pattern": {
              "fillmode": "overlay",
              "size": 10,
              "solidity": 0.2
             }
            },
            "type": "bar"
           }
          ],
          "barpolar": [
           {
            "marker": {
             "line": {
              "color": "#E5ECF6",
              "width": 0.5
             },
             "pattern": {
              "fillmode": "overlay",
              "size": 10,
              "solidity": 0.2
             }
            },
            "type": "barpolar"
           }
          ],
          "carpet": [
           {
            "aaxis": {
             "endlinecolor": "#2a3f5f",
             "gridcolor": "white",
             "linecolor": "white",
             "minorgridcolor": "white",
             "startlinecolor": "#2a3f5f"
            },
            "baxis": {
             "endlinecolor": "#2a3f5f",
             "gridcolor": "white",
             "linecolor": "white",
             "minorgridcolor": "white",
             "startlinecolor": "#2a3f5f"
            },
            "type": "carpet"
           }
          ],
          "choropleth": [
           {
            "colorbar": {
             "outlinewidth": 0,
             "ticks": ""
            },
            "type": "choropleth"
           }
          ],
          "contour": [
           {
            "colorbar": {
             "outlinewidth": 0,
             "ticks": ""
            },
            "colorscale": [
             [
              0,
              "#0d0887"
             ],
             [
              0.1111111111111111,
              "#46039f"
             ],
             [
              0.2222222222222222,
              "#7201a8"
             ],
             [
              0.3333333333333333,
              "#9c179e"
             ],
             [
              0.4444444444444444,
              "#bd3786"
             ],
             [
              0.5555555555555556,
              "#d8576b"
             ],
             [
              0.6666666666666666,
              "#ed7953"
             ],
             [
              0.7777777777777778,
              "#fb9f3a"
             ],
             [
              0.8888888888888888,
              "#fdca26"
             ],
             [
              1,
              "#f0f921"
             ]
            ],
            "type": "contour"
           }
          ],
          "contourcarpet": [
           {
            "colorbar": {
             "outlinewidth": 0,
             "ticks": ""
            },
            "type": "contourcarpet"
           }
          ],
          "heatmap": [
           {
            "colorbar": {
             "outlinewidth": 0,
             "ticks": ""
            },
            "colorscale": [
             [
              0,
              "#0d0887"
             ],
             [
              0.1111111111111111,
              "#46039f"
             ],
             [
              0.2222222222222222,
              "#7201a8"
             ],
             [
              0.3333333333333333,
              "#9c179e"
             ],
             [
              0.4444444444444444,
              "#bd3786"
             ],
             [
              0.5555555555555556,
              "#d8576b"
             ],
             [
              0.6666666666666666,
              "#ed7953"
             ],
             [
              0.7777777777777778,
              "#fb9f3a"
             ],
             [
              0.8888888888888888,
              "#fdca26"
             ],
             [
              1,
              "#f0f921"
             ]
            ],
            "type": "heatmap"
           }
          ],
          "heatmapgl": [
           {
            "colorbar": {
             "outlinewidth": 0,
             "ticks": ""
            },
            "colorscale": [
             [
              0,
              "#0d0887"
             ],
             [
              0.1111111111111111,
              "#46039f"
             ],
             [
              0.2222222222222222,
              "#7201a8"
             ],
             [
              0.3333333333333333,
              "#9c179e"
             ],
             [
              0.4444444444444444,
              "#bd3786"
             ],
             [
              0.5555555555555556,
              "#d8576b"
             ],
             [
              0.6666666666666666,
              "#ed7953"
             ],
             [
              0.7777777777777778,
              "#fb9f3a"
             ],
             [
              0.8888888888888888,
              "#fdca26"
             ],
             [
              1,
              "#f0f921"
             ]
            ],
            "type": "heatmapgl"
           }
          ],
          "histogram": [
           {
            "marker": {
             "pattern": {
              "fillmode": "overlay",
              "size": 10,
              "solidity": 0.2
             }
            },
            "type": "histogram"
           }
          ],
          "histogram2d": [
           {
            "colorbar": {
             "outlinewidth": 0,
             "ticks": ""
            },
            "colorscale": [
             [
              0,
              "#0d0887"
             ],
             [
              0.1111111111111111,
              "#46039f"
             ],
             [
              0.2222222222222222,
              "#7201a8"
             ],
             [
              0.3333333333333333,
              "#9c179e"
             ],
             [
              0.4444444444444444,
              "#bd3786"
             ],
             [
              0.5555555555555556,
              "#d8576b"
             ],
             [
              0.6666666666666666,
              "#ed7953"
             ],
             [
              0.7777777777777778,
              "#fb9f3a"
             ],
             [
              0.8888888888888888,
              "#fdca26"
             ],
             [
              1,
              "#f0f921"
             ]
            ],
            "type": "histogram2d"
           }
          ],
          "histogram2dcontour": [
           {
            "colorbar": {
             "outlinewidth": 0,
             "ticks": ""
            },
            "colorscale": [
             [
              0,
              "#0d0887"
             ],
             [
              0.1111111111111111,
              "#46039f"
             ],
             [
              0.2222222222222222,
              "#7201a8"
             ],
             [
              0.3333333333333333,
              "#9c179e"
             ],
             [
              0.4444444444444444,
              "#bd3786"
             ],
             [
              0.5555555555555556,
              "#d8576b"
             ],
             [
              0.6666666666666666,
              "#ed7953"
             ],
             [
              0.7777777777777778,
              "#fb9f3a"
             ],
             [
              0.8888888888888888,
              "#fdca26"
             ],
             [
              1,
              "#f0f921"
             ]
            ],
            "type": "histogram2dcontour"
           }
          ],
          "mesh3d": [
           {
            "colorbar": {
             "outlinewidth": 0,
             "ticks": ""
            },
            "type": "mesh3d"
           }
          ],
          "parcoords": [
           {
            "line": {
             "colorbar": {
              "outlinewidth": 0,
              "ticks": ""
             }
            },
            "type": "parcoords"
           }
          ],
          "pie": [
           {
            "automargin": true,
            "type": "pie"
           }
          ],
          "scatter": [
           {
            "fillpattern": {
             "fillmode": "overlay",
             "size": 10,
             "solidity": 0.2
            },
            "type": "scatter"
           }
          ],
          "scatter3d": [
           {
            "line": {
             "colorbar": {
              "outlinewidth": 0,
              "ticks": ""
             }
            },
            "marker": {
             "colorbar": {
              "outlinewidth": 0,
              "ticks": ""
             }
            },
            "type": "scatter3d"
           }
          ],
          "scattercarpet": [
           {
            "marker": {
             "colorbar": {
              "outlinewidth": 0,
              "ticks": ""
             }
            },
            "type": "scattercarpet"
           }
          ],
          "scattergeo": [
           {
            "marker": {
             "colorbar": {
              "outlinewidth": 0,
              "ticks": ""
             }
            },
            "type": "scattergeo"
           }
          ],
          "scattergl": [
           {
            "marker": {
             "colorbar": {
              "outlinewidth": 0,
              "ticks": ""
             }
            },
            "type": "scattergl"
           }
          ],
          "scattermapbox": [
           {
            "marker": {
             "colorbar": {
              "outlinewidth": 0,
              "ticks": ""
             }
            },
            "type": "scattermapbox"
           }
          ],
          "scatterpolar": [
           {
            "marker": {
             "colorbar": {
              "outlinewidth": 0,
              "ticks": ""
             }
            },
            "type": "scatterpolar"
           }
          ],
          "scatterpolargl": [
           {
            "marker": {
             "colorbar": {
              "outlinewidth": 0,
              "ticks": ""
             }
            },
            "type": "scatterpolargl"
           }
          ],
          "scatterternary": [
           {
            "marker": {
             "colorbar": {
              "outlinewidth": 0,
              "ticks": ""
             }
            },
            "type": "scatterternary"
           }
          ],
          "surface": [
           {
            "colorbar": {
             "outlinewidth": 0,
             "ticks": ""
            },
            "colorscale": [
             [
              0,
              "#0d0887"
             ],
             [
              0.1111111111111111,
              "#46039f"
             ],
             [
              0.2222222222222222,
              "#7201a8"
             ],
             [
              0.3333333333333333,
              "#9c179e"
             ],
             [
              0.4444444444444444,
              "#bd3786"
             ],
             [
              0.5555555555555556,
              "#d8576b"
             ],
             [
              0.6666666666666666,
              "#ed7953"
             ],
             [
              0.7777777777777778,
              "#fb9f3a"
             ],
             [
              0.8888888888888888,
              "#fdca26"
             ],
             [
              1,
              "#f0f921"
             ]
            ],
            "type": "surface"
           }
          ],
          "table": [
           {
            "cells": {
             "fill": {
              "color": "#EBF0F8"
             },
             "line": {
              "color": "white"
             }
            },
            "header": {
             "fill": {
              "color": "#C8D4E3"
             },
             "line": {
              "color": "white"
             }
            },
            "type": "table"
           }
          ]
         },
         "layout": {
          "annotationdefaults": {
           "arrowcolor": "#2a3f5f",
           "arrowhead": 0,
           "arrowwidth": 1
          },
          "autotypenumbers": "strict",
          "coloraxis": {
           "colorbar": {
            "outlinewidth": 0,
            "ticks": ""
           }
          },
          "colorscale": {
           "diverging": [
            [
             0,
             "#8e0152"
            ],
            [
             0.1,
             "#c51b7d"
            ],
            [
             0.2,
             "#de77ae"
            ],
            [
             0.3,
             "#f1b6da"
            ],
            [
             0.4,
             "#fde0ef"
            ],
            [
             0.5,
             "#f7f7f7"
            ],
            [
             0.6,
             "#e6f5d0"
            ],
            [
             0.7,
             "#b8e186"
            ],
            [
             0.8,
             "#7fbc41"
            ],
            [
             0.9,
             "#4d9221"
            ],
            [
             1,
             "#276419"
            ]
           ],
           "sequential": [
            [
             0,
             "#0d0887"
            ],
            [
             0.1111111111111111,
             "#46039f"
            ],
            [
             0.2222222222222222,
             "#7201a8"
            ],
            [
             0.3333333333333333,
             "#9c179e"
            ],
            [
             0.4444444444444444,
             "#bd3786"
            ],
            [
             0.5555555555555556,
             "#d8576b"
            ],
            [
             0.6666666666666666,
             "#ed7953"
            ],
            [
             0.7777777777777778,
             "#fb9f3a"
            ],
            [
             0.8888888888888888,
             "#fdca26"
            ],
            [
             1,
             "#f0f921"
            ]
           ],
           "sequentialminus": [
            [
             0,
             "#0d0887"
            ],
            [
             0.1111111111111111,
             "#46039f"
            ],
            [
             0.2222222222222222,
             "#7201a8"
            ],
            [
             0.3333333333333333,
             "#9c179e"
            ],
            [
             0.4444444444444444,
             "#bd3786"
            ],
            [
             0.5555555555555556,
             "#d8576b"
            ],
            [
             0.6666666666666666,
             "#ed7953"
            ],
            [
             0.7777777777777778,
             "#fb9f3a"
            ],
            [
             0.8888888888888888,
             "#fdca26"
            ],
            [
             1,
             "#f0f921"
            ]
           ]
          },
          "colorway": [
           "#636efa",
           "#EF553B",
           "#00cc96",
           "#ab63fa",
           "#FFA15A",
           "#19d3f3",
           "#FF6692",
           "#B6E880",
           "#FF97FF",
           "#FECB52"
          ],
          "font": {
           "color": "#2a3f5f"
          },
          "geo": {
           "bgcolor": "white",
           "lakecolor": "white",
           "landcolor": "#E5ECF6",
           "showlakes": true,
           "showland": true,
           "subunitcolor": "white"
          },
          "hoverlabel": {
           "align": "left"
          },
          "hovermode": "closest",
          "mapbox": {
           "style": "light"
          },
          "paper_bgcolor": "white",
          "plot_bgcolor": "#E5ECF6",
          "polar": {
           "angularaxis": {
            "gridcolor": "white",
            "linecolor": "white",
            "ticks": ""
           },
           "bgcolor": "#E5ECF6",
           "radialaxis": {
            "gridcolor": "white",
            "linecolor": "white",
            "ticks": ""
           }
          },
          "scene": {
           "xaxis": {
            "backgroundcolor": "#E5ECF6",
            "gridcolor": "white",
            "gridwidth": 2,
            "linecolor": "white",
            "showbackground": true,
            "ticks": "",
            "zerolinecolor": "white"
           },
           "yaxis": {
            "backgroundcolor": "#E5ECF6",
            "gridcolor": "white",
            "gridwidth": 2,
            "linecolor": "white",
            "showbackground": true,
            "ticks": "",
            "zerolinecolor": "white"
           },
           "zaxis": {
            "backgroundcolor": "#E5ECF6",
            "gridcolor": "white",
            "gridwidth": 2,
            "linecolor": "white",
            "showbackground": true,
            "ticks": "",
            "zerolinecolor": "white"
           }
          },
          "shapedefaults": {
           "line": {
            "color": "#2a3f5f"
           }
          },
          "ternary": {
           "aaxis": {
            "gridcolor": "white",
            "linecolor": "white",
            "ticks": ""
           },
           "baxis": {
            "gridcolor": "white",
            "linecolor": "white",
            "ticks": ""
           },
           "bgcolor": "#E5ECF6",
           "caxis": {
            "gridcolor": "white",
            "linecolor": "white",
            "ticks": ""
           }
          },
          "title": {
           "x": 0.05
          },
          "xaxis": {
           "automargin": true,
           "gridcolor": "white",
           "linecolor": "white",
           "ticks": "",
           "title": {
            "standoff": 15
           },
           "zerolinecolor": "white",
           "zerolinewidth": 2
          },
          "yaxis": {
           "automargin": true,
           "gridcolor": "white",
           "linecolor": "white",
           "ticks": "",
           "title": {
            "standoff": 15
           },
           "zerolinecolor": "white",
           "zerolinewidth": 2
          }
         }
        },
        "title": {
         "text": "June 2021: Uncertain Support"
        },
        "yaxis": {
         "title": {
          "text": "Price (USD)"
         }
        }
       }
      }
     },
     "metadata": {},
     "output_type": "display_data"
    }
   ],
   "source": [
    "import pandas as pd\n",
    "import plotly.graph_objects as go\n",
    "\n",
    "# Caricare il dataset da un file CSV\n",
    "bitcoin_df = pd.read_csv('data/btc_prices.csv', parse_dates=['Timestamp'], date_parser=lambda x: pd.to_datetime(x, unit='s'))\n",
    "\n",
    "# Impostare l'intervallo di date\n",
    "start_date = '2021-05-01'\n",
    "end_date = '2021-06-30'\n",
    "\n",
    "# Filtrare il DataFrame per l'intervallo di date\n",
    "filtered_df = bitcoin_df.set_index('Timestamp').loc[start_date:end_date]\n",
    "\n",
    "# Risample il DataFrame a intervalli di un'ora\n",
    "resampled_df = filtered_df.resample('d').agg({'Open': 'first', 'High': 'max', 'Low': 'min', 'Close': 'last', 'Volume': 'sum'}).dropna()\n",
    "\n",
    "# Creare il candlechart con i dati risample\n",
    "fig = go.Figure(data=[go.Candlestick(x=resampled_df.index,\n",
    "                                     open=resampled_df['Open'],\n",
    "                                     high=resampled_df['High'],\n",
    "                                     low=resampled_df['Low'],\n",
    "                                     close=resampled_df['Close'])])\n",
    "\n",
    "fig.update_layout(title='June 2021: Uncertain Support',\n",
    "                  yaxis_title='Price (USD)')\n",
    "\n",
    "fig.show()"
   ]
  },
  {
   "cell_type": "markdown",
   "metadata": {},
   "source": [
    "### Dicembre 2021: Critiche indirette alla Proof-of-Work\n",
    "\n",
    "Cosa è successo? Musk ha criticato il modello di Proof-of-Work utilizzato da Bitcoin, sottolineando che il mining della criptovaluta è inefficiente e dannoso per l’ambiente. Anche se queste dichiarazioni non erano nuove, ogni volta che Musk ribadiva il tema dell’insostenibilità ambientale, il mercato reagiva negativamente, temendo ulteriori pressioni regolatorie o una perdita di fiducia generale.\n",
    "\n",
    "Effetto sul mercato: Questi commenti, combinati con altre notizie di mercato, hanno contribuito a una discesa di Bitcoin, che nel dicembre 2021 ha perso gran parte dei guadagni accumulati nel corso dell'anno, precipitando verso i $40.000."
   ]
  },
  {
   "cell_type": "code",
   "execution_count": 67,
   "metadata": {},
   "outputs": [
    {
     "name": "stderr",
     "output_type": "stream",
     "text": [
      "/var/folders/3n/vf15kv6n675_m6mzk8p8rfxr0000gn/T/ipykernel_5019/2854928081.py:5: FutureWarning:\n",
      "\n",
      "The argument 'date_parser' is deprecated and will be removed in a future version. Please use 'date_format' instead, or read your data in as 'object' dtype and then call 'to_datetime'.\n",
      "\n",
      "/var/folders/3n/vf15kv6n675_m6mzk8p8rfxr0000gn/T/ipykernel_5019/2854928081.py:5: FutureWarning:\n",
      "\n",
      "The behavior of 'to_datetime' with 'unit' when parsing strings is deprecated. In a future version, strings will be parsed as datetime strings, matching the behavior without a 'unit'. To retain the old behavior, explicitly cast ints or floats to numeric type before calling to_datetime.\n",
      "\n"
     ]
    },
    {
     "data": {
      "application/vnd.plotly.v1+json": {
       "config": {
        "plotlyServerURL": "https://plot.ly"
       },
       "data": [
        {
         "close": [
          57475.14,
          56728.2,
          54832.75,
          48899.65,
          49179.14,
          49250.89,
          50985.56,
          50615.86,
          47812.32,
          47807.14,
          48710.31,
          50490.47,
          47413.27,
          46600.04,
          47750.94,
          47994.41,
          47034.53,
          46779.11,
          47094.06,
          46280.8,
          48448.97,
          48551.17,
          50552.66,
          51622.34,
          51095.92,
          50411.86,
          51697.17,
          47802.02,
          47511.51,
          47900,
          46626.51
         ],
         "high": [
          59099.64,
          57753.86,
          57652,
          54889.59,
          49777.62,
          49598.85,
          51991,
          51249.41,
          50915,
          50132.88,
          49301,
          50800,
          50619.39,
          47960.98,
          48785.37,
          49514.85,
          48413.51,
          47370.14,
          48307.34,
          47562.16,
          49353.49,
          49600,
          50793.2,
          51679.9,
          51864.56,
          51130.73,
          52098.6,
          51739.98,
          48157.41,
          47900,
          48589.47
         ],
         "low": [
          56700,
          55839.85,
          54462.45,
          41967.5,
          47836.34,
          47111,
          48817.2,
          48656.2,
          47520,
          47275.71,
          46789,
          48397.64,
          46670,
          45750,
          46560,
          47260,
          45478.74,
          45501,
          46359.67,
          45572.94,
          46247.24,
          48349.35,
          48051.1,
          50442.34,
          50190.9,
          49458.85,
          49953.42,
          47631.22,
          46596,
          45934.37,
          46494.35
         ],
         "open": [
          58308.25,
          57470.54,
          56754.14,
          54843.36,
          48843.11,
          49179.14,
          49254.51,
          50978.14,
          50595.87,
          47803.32,
          47810.13,
          48684.86,
          50500.04,
          47413.6,
          46664.63,
          47755.64,
          48021.49,
          47034.53,
          46763.95,
          47109.26,
          46278.78,
          48448.97,
          48575.03,
          50538.24,
          51604.49,
          51075.07,
          50388.97,
          51704.07,
          47806.85,
          47505.72,
          47900
         ],
         "type": "candlestick",
         "x": [
          "2021-12-01T00:00:00",
          "2021-12-02T00:00:00",
          "2021-12-03T00:00:00",
          "2021-12-04T00:00:00",
          "2021-12-05T00:00:00",
          "2021-12-06T00:00:00",
          "2021-12-07T00:00:00",
          "2021-12-08T00:00:00",
          "2021-12-09T00:00:00",
          "2021-12-10T00:00:00",
          "2021-12-11T00:00:00",
          "2021-12-12T00:00:00",
          "2021-12-13T00:00:00",
          "2021-12-14T00:00:00",
          "2021-12-15T00:00:00",
          "2021-12-16T00:00:00",
          "2021-12-17T00:00:00",
          "2021-12-18T00:00:00",
          "2021-12-19T00:00:00",
          "2021-12-20T00:00:00",
          "2021-12-21T00:00:00",
          "2021-12-22T00:00:00",
          "2021-12-23T00:00:00",
          "2021-12-24T00:00:00",
          "2021-12-25T00:00:00",
          "2021-12-26T00:00:00",
          "2021-12-27T00:00:00",
          "2021-12-28T00:00:00",
          "2021-12-29T00:00:00",
          "2021-12-30T00:00:00",
          "2021-12-31T00:00:00"
         ]
        }
       ],
       "layout": {
        "template": {
         "data": {
          "bar": [
           {
            "error_x": {
             "color": "#2a3f5f"
            },
            "error_y": {
             "color": "#2a3f5f"
            },
            "marker": {
             "line": {
              "color": "#E5ECF6",
              "width": 0.5
             },
             "pattern": {
              "fillmode": "overlay",
              "size": 10,
              "solidity": 0.2
             }
            },
            "type": "bar"
           }
          ],
          "barpolar": [
           {
            "marker": {
             "line": {
              "color": "#E5ECF6",
              "width": 0.5
             },
             "pattern": {
              "fillmode": "overlay",
              "size": 10,
              "solidity": 0.2
             }
            },
            "type": "barpolar"
           }
          ],
          "carpet": [
           {
            "aaxis": {
             "endlinecolor": "#2a3f5f",
             "gridcolor": "white",
             "linecolor": "white",
             "minorgridcolor": "white",
             "startlinecolor": "#2a3f5f"
            },
            "baxis": {
             "endlinecolor": "#2a3f5f",
             "gridcolor": "white",
             "linecolor": "white",
             "minorgridcolor": "white",
             "startlinecolor": "#2a3f5f"
            },
            "type": "carpet"
           }
          ],
          "choropleth": [
           {
            "colorbar": {
             "outlinewidth": 0,
             "ticks": ""
            },
            "type": "choropleth"
           }
          ],
          "contour": [
           {
            "colorbar": {
             "outlinewidth": 0,
             "ticks": ""
            },
            "colorscale": [
             [
              0,
              "#0d0887"
             ],
             [
              0.1111111111111111,
              "#46039f"
             ],
             [
              0.2222222222222222,
              "#7201a8"
             ],
             [
              0.3333333333333333,
              "#9c179e"
             ],
             [
              0.4444444444444444,
              "#bd3786"
             ],
             [
              0.5555555555555556,
              "#d8576b"
             ],
             [
              0.6666666666666666,
              "#ed7953"
             ],
             [
              0.7777777777777778,
              "#fb9f3a"
             ],
             [
              0.8888888888888888,
              "#fdca26"
             ],
             [
              1,
              "#f0f921"
             ]
            ],
            "type": "contour"
           }
          ],
          "contourcarpet": [
           {
            "colorbar": {
             "outlinewidth": 0,
             "ticks": ""
            },
            "type": "contourcarpet"
           }
          ],
          "heatmap": [
           {
            "colorbar": {
             "outlinewidth": 0,
             "ticks": ""
            },
            "colorscale": [
             [
              0,
              "#0d0887"
             ],
             [
              0.1111111111111111,
              "#46039f"
             ],
             [
              0.2222222222222222,
              "#7201a8"
             ],
             [
              0.3333333333333333,
              "#9c179e"
             ],
             [
              0.4444444444444444,
              "#bd3786"
             ],
             [
              0.5555555555555556,
              "#d8576b"
             ],
             [
              0.6666666666666666,
              "#ed7953"
             ],
             [
              0.7777777777777778,
              "#fb9f3a"
             ],
             [
              0.8888888888888888,
              "#fdca26"
             ],
             [
              1,
              "#f0f921"
             ]
            ],
            "type": "heatmap"
           }
          ],
          "heatmapgl": [
           {
            "colorbar": {
             "outlinewidth": 0,
             "ticks": ""
            },
            "colorscale": [
             [
              0,
              "#0d0887"
             ],
             [
              0.1111111111111111,
              "#46039f"
             ],
             [
              0.2222222222222222,
              "#7201a8"
             ],
             [
              0.3333333333333333,
              "#9c179e"
             ],
             [
              0.4444444444444444,
              "#bd3786"
             ],
             [
              0.5555555555555556,
              "#d8576b"
             ],
             [
              0.6666666666666666,
              "#ed7953"
             ],
             [
              0.7777777777777778,
              "#fb9f3a"
             ],
             [
              0.8888888888888888,
              "#fdca26"
             ],
             [
              1,
              "#f0f921"
             ]
            ],
            "type": "heatmapgl"
           }
          ],
          "histogram": [
           {
            "marker": {
             "pattern": {
              "fillmode": "overlay",
              "size": 10,
              "solidity": 0.2
             }
            },
            "type": "histogram"
           }
          ],
          "histogram2d": [
           {
            "colorbar": {
             "outlinewidth": 0,
             "ticks": ""
            },
            "colorscale": [
             [
              0,
              "#0d0887"
             ],
             [
              0.1111111111111111,
              "#46039f"
             ],
             [
              0.2222222222222222,
              "#7201a8"
             ],
             [
              0.3333333333333333,
              "#9c179e"
             ],
             [
              0.4444444444444444,
              "#bd3786"
             ],
             [
              0.5555555555555556,
              "#d8576b"
             ],
             [
              0.6666666666666666,
              "#ed7953"
             ],
             [
              0.7777777777777778,
              "#fb9f3a"
             ],
             [
              0.8888888888888888,
              "#fdca26"
             ],
             [
              1,
              "#f0f921"
             ]
            ],
            "type": "histogram2d"
           }
          ],
          "histogram2dcontour": [
           {
            "colorbar": {
             "outlinewidth": 0,
             "ticks": ""
            },
            "colorscale": [
             [
              0,
              "#0d0887"
             ],
             [
              0.1111111111111111,
              "#46039f"
             ],
             [
              0.2222222222222222,
              "#7201a8"
             ],
             [
              0.3333333333333333,
              "#9c179e"
             ],
             [
              0.4444444444444444,
              "#bd3786"
             ],
             [
              0.5555555555555556,
              "#d8576b"
             ],
             [
              0.6666666666666666,
              "#ed7953"
             ],
             [
              0.7777777777777778,
              "#fb9f3a"
             ],
             [
              0.8888888888888888,
              "#fdca26"
             ],
             [
              1,
              "#f0f921"
             ]
            ],
            "type": "histogram2dcontour"
           }
          ],
          "mesh3d": [
           {
            "colorbar": {
             "outlinewidth": 0,
             "ticks": ""
            },
            "type": "mesh3d"
           }
          ],
          "parcoords": [
           {
            "line": {
             "colorbar": {
              "outlinewidth": 0,
              "ticks": ""
             }
            },
            "type": "parcoords"
           }
          ],
          "pie": [
           {
            "automargin": true,
            "type": "pie"
           }
          ],
          "scatter": [
           {
            "fillpattern": {
             "fillmode": "overlay",
             "size": 10,
             "solidity": 0.2
            },
            "type": "scatter"
           }
          ],
          "scatter3d": [
           {
            "line": {
             "colorbar": {
              "outlinewidth": 0,
              "ticks": ""
             }
            },
            "marker": {
             "colorbar": {
              "outlinewidth": 0,
              "ticks": ""
             }
            },
            "type": "scatter3d"
           }
          ],
          "scattercarpet": [
           {
            "marker": {
             "colorbar": {
              "outlinewidth": 0,
              "ticks": ""
             }
            },
            "type": "scattercarpet"
           }
          ],
          "scattergeo": [
           {
            "marker": {
             "colorbar": {
              "outlinewidth": 0,
              "ticks": ""
             }
            },
            "type": "scattergeo"
           }
          ],
          "scattergl": [
           {
            "marker": {
             "colorbar": {
              "outlinewidth": 0,
              "ticks": ""
             }
            },
            "type": "scattergl"
           }
          ],
          "scattermapbox": [
           {
            "marker": {
             "colorbar": {
              "outlinewidth": 0,
              "ticks": ""
             }
            },
            "type": "scattermapbox"
           }
          ],
          "scatterpolar": [
           {
            "marker": {
             "colorbar": {
              "outlinewidth": 0,
              "ticks": ""
             }
            },
            "type": "scatterpolar"
           }
          ],
          "scatterpolargl": [
           {
            "marker": {
             "colorbar": {
              "outlinewidth": 0,
              "ticks": ""
             }
            },
            "type": "scatterpolargl"
           }
          ],
          "scatterternary": [
           {
            "marker": {
             "colorbar": {
              "outlinewidth": 0,
              "ticks": ""
             }
            },
            "type": "scatterternary"
           }
          ],
          "surface": [
           {
            "colorbar": {
             "outlinewidth": 0,
             "ticks": ""
            },
            "colorscale": [
             [
              0,
              "#0d0887"
             ],
             [
              0.1111111111111111,
              "#46039f"
             ],
             [
              0.2222222222222222,
              "#7201a8"
             ],
             [
              0.3333333333333333,
              "#9c179e"
             ],
             [
              0.4444444444444444,
              "#bd3786"
             ],
             [
              0.5555555555555556,
              "#d8576b"
             ],
             [
              0.6666666666666666,
              "#ed7953"
             ],
             [
              0.7777777777777778,
              "#fb9f3a"
             ],
             [
              0.8888888888888888,
              "#fdca26"
             ],
             [
              1,
              "#f0f921"
             ]
            ],
            "type": "surface"
           }
          ],
          "table": [
           {
            "cells": {
             "fill": {
              "color": "#EBF0F8"
             },
             "line": {
              "color": "white"
             }
            },
            "header": {
             "fill": {
              "color": "#C8D4E3"
             },
             "line": {
              "color": "white"
             }
            },
            "type": "table"
           }
          ]
         },
         "layout": {
          "annotationdefaults": {
           "arrowcolor": "#2a3f5f",
           "arrowhead": 0,
           "arrowwidth": 1
          },
          "autotypenumbers": "strict",
          "coloraxis": {
           "colorbar": {
            "outlinewidth": 0,
            "ticks": ""
           }
          },
          "colorscale": {
           "diverging": [
            [
             0,
             "#8e0152"
            ],
            [
             0.1,
             "#c51b7d"
            ],
            [
             0.2,
             "#de77ae"
            ],
            [
             0.3,
             "#f1b6da"
            ],
            [
             0.4,
             "#fde0ef"
            ],
            [
             0.5,
             "#f7f7f7"
            ],
            [
             0.6,
             "#e6f5d0"
            ],
            [
             0.7,
             "#b8e186"
            ],
            [
             0.8,
             "#7fbc41"
            ],
            [
             0.9,
             "#4d9221"
            ],
            [
             1,
             "#276419"
            ]
           ],
           "sequential": [
            [
             0,
             "#0d0887"
            ],
            [
             0.1111111111111111,
             "#46039f"
            ],
            [
             0.2222222222222222,
             "#7201a8"
            ],
            [
             0.3333333333333333,
             "#9c179e"
            ],
            [
             0.4444444444444444,
             "#bd3786"
            ],
            [
             0.5555555555555556,
             "#d8576b"
            ],
            [
             0.6666666666666666,
             "#ed7953"
            ],
            [
             0.7777777777777778,
             "#fb9f3a"
            ],
            [
             0.8888888888888888,
             "#fdca26"
            ],
            [
             1,
             "#f0f921"
            ]
           ],
           "sequentialminus": [
            [
             0,
             "#0d0887"
            ],
            [
             0.1111111111111111,
             "#46039f"
            ],
            [
             0.2222222222222222,
             "#7201a8"
            ],
            [
             0.3333333333333333,
             "#9c179e"
            ],
            [
             0.4444444444444444,
             "#bd3786"
            ],
            [
             0.5555555555555556,
             "#d8576b"
            ],
            [
             0.6666666666666666,
             "#ed7953"
            ],
            [
             0.7777777777777778,
             "#fb9f3a"
            ],
            [
             0.8888888888888888,
             "#fdca26"
            ],
            [
             1,
             "#f0f921"
            ]
           ]
          },
          "colorway": [
           "#636efa",
           "#EF553B",
           "#00cc96",
           "#ab63fa",
           "#FFA15A",
           "#19d3f3",
           "#FF6692",
           "#B6E880",
           "#FF97FF",
           "#FECB52"
          ],
          "font": {
           "color": "#2a3f5f"
          },
          "geo": {
           "bgcolor": "white",
           "lakecolor": "white",
           "landcolor": "#E5ECF6",
           "showlakes": true,
           "showland": true,
           "subunitcolor": "white"
          },
          "hoverlabel": {
           "align": "left"
          },
          "hovermode": "closest",
          "mapbox": {
           "style": "light"
          },
          "paper_bgcolor": "white",
          "plot_bgcolor": "#E5ECF6",
          "polar": {
           "angularaxis": {
            "gridcolor": "white",
            "linecolor": "white",
            "ticks": ""
           },
           "bgcolor": "#E5ECF6",
           "radialaxis": {
            "gridcolor": "white",
            "linecolor": "white",
            "ticks": ""
           }
          },
          "scene": {
           "xaxis": {
            "backgroundcolor": "#E5ECF6",
            "gridcolor": "white",
            "gridwidth": 2,
            "linecolor": "white",
            "showbackground": true,
            "ticks": "",
            "zerolinecolor": "white"
           },
           "yaxis": {
            "backgroundcolor": "#E5ECF6",
            "gridcolor": "white",
            "gridwidth": 2,
            "linecolor": "white",
            "showbackground": true,
            "ticks": "",
            "zerolinecolor": "white"
           },
           "zaxis": {
            "backgroundcolor": "#E5ECF6",
            "gridcolor": "white",
            "gridwidth": 2,
            "linecolor": "white",
            "showbackground": true,
            "ticks": "",
            "zerolinecolor": "white"
           }
          },
          "shapedefaults": {
           "line": {
            "color": "#2a3f5f"
           }
          },
          "ternary": {
           "aaxis": {
            "gridcolor": "white",
            "linecolor": "white",
            "ticks": ""
           },
           "baxis": {
            "gridcolor": "white",
            "linecolor": "white",
            "ticks": ""
           },
           "bgcolor": "#E5ECF6",
           "caxis": {
            "gridcolor": "white",
            "linecolor": "white",
            "ticks": ""
           }
          },
          "title": {
           "x": 0.05
          },
          "xaxis": {
           "automargin": true,
           "gridcolor": "white",
           "linecolor": "white",
           "ticks": "",
           "title": {
            "standoff": 15
           },
           "zerolinecolor": "white",
           "zerolinewidth": 2
          },
          "yaxis": {
           "automargin": true,
           "gridcolor": "white",
           "linecolor": "white",
           "ticks": "",
           "title": {
            "standoff": 15
           },
           "zerolinecolor": "white",
           "zerolinewidth": 2
          }
         }
        },
        "title": {
         "text": "December 2021: Proof-of-Work Dissing"
        },
        "yaxis": {
         "title": {
          "text": "Price (USD)"
         }
        }
       }
      }
     },
     "metadata": {},
     "output_type": "display_data"
    }
   ],
   "source": [
    "import pandas as pd\n",
    "import plotly.graph_objects as go\n",
    "\n",
    "# Caricare il dataset da un file CSV\n",
    "bitcoin_df = pd.read_csv('data/btc_prices.csv', parse_dates=['Timestamp'], date_parser=lambda x: pd.to_datetime(x, unit='s'))\n",
    "\n",
    "# Impostare l'intervallo di date\n",
    "start_date = '2021-12-01'\n",
    "end_date = '2021-12-31'\n",
    "\n",
    "# Filtrare il DataFrame per l'intervallo di date\n",
    "filtered_df = bitcoin_df.set_index('Timestamp').loc[start_date:end_date]\n",
    "\n",
    "# Risample il DataFrame a intervalli di un'ora\n",
    "resampled_df = filtered_df.resample('d').agg({'Open': 'first', 'High': 'max', 'Low': 'min', 'Close': 'last', 'Volume': 'sum'}).dropna()\n",
    "\n",
    "# Creare il candlechart con i dati risample\n",
    "fig = go.Figure(data=[go.Candlestick(x=resampled_df.index,\n",
    "                                     open=resampled_df['Open'],\n",
    "                                     high=resampled_df['High'],\n",
    "                                     low=resampled_df['Low'],\n",
    "                                     close=resampled_df['Close'])])\n",
    "\n",
    "fig.update_layout(title='December 2021: Proof-of-Work Dissing',\n",
    "                  yaxis_title='Price (USD)')\n",
    "\n",
    "fig.show()"
   ]
  },
  {
   "cell_type": "code",
   "execution_count": 79,
   "metadata": {},
   "outputs": [
    {
     "data": {
      "image/png": "[encoded data removed]",
      "text/plain": [
       "<Figure size 1000x600 with 1 Axes>"
      ]
     },
     "metadata": {},
     "output_type": "display_data"
    }
   ],
   "source": [
    "# Define a custom color function with hex codes\n",
    "from matplotlib import pyplot as plt\n",
    "from wordcloud import WordCloud\n",
    "\n",
    "\n",
    "def custom_color_func(word, font_size, position, orientation, random_state=None, **kwargs):\n",
    "    highlight_words = {'Bitcoin', 'Tesla', 'BTC'}\n",
    "    if word in highlight_words:\n",
    "        return '#F7931A'  # Highlighted words in red (hex code)\n",
    "    else:\n",
    "        return '#CCCCCC'  # Other words in gray (hex code)\n",
    "\n",
    "# Generate the word cloud with the custom color function\n",
    "wordcloud = WordCloud(width=1000, height=600, background_color='white', color_func=custom_color_func).generate(all_text)\n",
    "\n",
    "# Display the word cloud\n",
    "plt.figure(figsize=(10, 6))\n",
    "plt.imshow(wordcloud, interpolation='bilinear')\n",
    "plt.axis('off')\n",
    "plt.show()\n"
   ]
  },
  {
   "cell_type": "code",
   "execution_count": 1,
   "metadata": {},
   "outputs": [
    {
     "ename": "NameError",
     "evalue": "name 'pd' is not defined",
     "output_type": "error",
     "traceback": [
      "\u001b[0;31m---------------------------------------------------------------------------\u001b[0m",
      "\u001b[0;31mNameError\u001b[0m                                 Traceback (most recent call last)",
      "Cell \u001b[0;32mIn[1], line 4\u001b[0m\n\u001b[1;32m      1\u001b[0m \u001b[38;5;28;01mimport\u001b[39;00m \u001b[38;5;21;01mplotly\u001b[39;00m\u001b[38;5;21;01m.\u001b[39;00m\u001b[38;5;21;01mexpress\u001b[39;00m \u001b[38;5;28;01mas\u001b[39;00m \u001b[38;5;21;01mpx\u001b[39;00m\n\u001b[1;32m      3\u001b[0m \u001b[38;5;66;03m# Create a DataFrame from the word counts\u001b[39;00m\n\u001b[0;32m----> 4\u001b[0m word_counts_df \u001b[38;5;241m=\u001b[39m \u001b[43mpd\u001b[49m\u001b[38;5;241m.\u001b[39mDataFrame\u001b[38;5;241m.\u001b[39mfrom_dict(word_counts, orient\u001b[38;5;241m=\u001b[39m\u001b[38;5;124m'\u001b[39m\u001b[38;5;124mindex\u001b[39m\u001b[38;5;124m'\u001b[39m)\u001b[38;5;241m.\u001b[39mreset_index()\n\u001b[1;32m      5\u001b[0m word_counts_df\u001b[38;5;241m.\u001b[39mcolumns \u001b[38;5;241m=\u001b[39m [\u001b[38;5;124m'\u001b[39m\u001b[38;5;124mword\u001b[39m\u001b[38;5;124m'\u001b[39m, \u001b[38;5;124m'\u001b[39m\u001b[38;5;124mcount\u001b[39m\u001b[38;5;124m'\u001b[39m]\n\u001b[1;32m      7\u001b[0m \u001b[38;5;66;03m# Define a custom color function with hex codes\u001b[39;00m\n",
      "\u001b[0;31mNameError\u001b[0m: name 'pd' is not defined"
     ]
    }
   ],
   "source": [
    "import plotly.express as px\n",
    "\n",
    "# Create a DataFrame from the word counts\n",
    "word_counts_df = pd.DataFrame.from_dict(word_counts, orient='index').reset_index()\n",
    "word_counts_df.columns = ['word', 'count']\n",
    "\n",
    "# Define a custom color function with hex codes\n",
    "def custom_color_func(word):\n",
    "    highlight_words = {'Bitcoin', 'Tesla', 'BTC'}\n",
    "    if word in highlight_words:\n",
    "        return '#F7931A'  # Highlighted words in red (hex code)\n",
    "    else:\n",
    "        return '#CCCCCC'  # Other words in gray (hex code)\n",
    "\n",
    "# Apply the custom color function to the DataFrame\n",
    "word_counts_df['color'] = word_counts_df['word'].apply(custom_color_func)\n",
    "\n",
    "# Create the word cloud figure using Plotly\n",
    "fig = px.treemap(word_counts_df, path=['word'], values='count', color='color', title='Word Cloud of Musk Tweets about Bitcoin')\n",
    "\n",
    "# Display the figure\n",
    "fig.show()\n"
   ]
  },
  {
   "cell_type": "code",
   "execution_count": 93,
   "metadata": {},
   "outputs": [
    {
     "data": {
      "application/vnd.plotly.v1+json": {
       "config": {
        "plotlyServerURL": "https://plot.ly"
       },
       "data": [
        {
         "domain": {
          "x": [
           0,
           1
          ],
          "y": [
           0,
           1
          ]
         },
         "hovertemplate": "word=%{label}<br>count=%{value}<extra></extra>",
         "labels": [
          "BTC",
          "Bitcoin",
          "Tesla"
         ],
         "legendgroup": "",
         "marker": {
          "line": {
           "color": "#000000",
           "width": 0
          }
         },
         "name": "",
         "pull": [
          0,
          0.1,
          0
         ],
         "rotation": 90,
         "showlegend": true,
         "type": "pie",
         "values": [
          3,
          16,
          7
         ]
        }
       ],
       "layout": {
        "legend": {
         "tracegroupgap": 0
        },
        "template": {
         "data": {
          "bar": [
           {
            "error_x": {
             "color": "#2a3f5f"
            },
            "error_y": {
             "color": "#2a3f5f"
            },
            "marker": {
             "line": {
              "color": "#E5ECF6",
              "width": 0.5
             },
             "pattern": {
              "fillmode": "overlay",
              "size": 10,
              "solidity": 0.2
             }
            },
            "type": "bar"
           }
          ],
          "barpolar": [
           {
            "marker": {
             "line": {
              "color": "#E5ECF6",
              "width": 0.5
             },
             "pattern": {
              "fillmode": "overlay",
              "size": 10,
              "solidity": 0.2
             }
            },
            "type": "barpolar"
           }
          ],
          "carpet": [
           {
            "aaxis": {
             "endlinecolor": "#2a3f5f",
             "gridcolor": "white",
             "linecolor": "white",
             "minorgridcolor": "white",
             "startlinecolor": "#2a3f5f"
            },
            "baxis": {
             "endlinecolor": "#2a3f5f",
             "gridcolor": "white",
             "linecolor": "white",
             "minorgridcolor": "white",
             "startlinecolor": "#2a3f5f"
            },
            "type": "carpet"
           }
          ],
          "choropleth": [
           {
            "colorbar": {
             "outlinewidth": 0,
             "ticks": ""
            },
            "type": "choropleth"
           }
          ],
          "contour": [
           {
            "colorbar": {
             "outlinewidth": 0,
             "ticks": ""
            },
            "colorscale": [
             [
              0,
              "#0d0887"
             ],
             [
              0.1111111111111111,
              "#46039f"
             ],
             [
              0.2222222222222222,
              "#7201a8"
             ],
             [
              0.3333333333333333,
              "#9c179e"
             ],
             [
              0.4444444444444444,
              "#bd3786"
             ],
             [
              0.5555555555555556,
              "#d8576b"
             ],
             [
              0.6666666666666666,
              "#ed7953"
             ],
             [
              0.7777777777777778,
              "#fb9f3a"
             ],
             [
              0.8888888888888888,
              "#fdca26"
             ],
             [
              1,
              "#f0f921"
             ]
            ],
            "type": "contour"
           }
          ],
          "contourcarpet": [
           {
            "colorbar": {
             "outlinewidth": 0,
             "ticks": ""
            },
            "type": "contourcarpet"
           }
          ],
          "heatmap": [
           {
            "colorbar": {
             "outlinewidth": 0,
             "ticks": ""
            },
            "colorscale": [
             [
              0,
              "#0d0887"
             ],
             [
              0.1111111111111111,
              "#46039f"
             ],
             [
              0.2222222222222222,
              "#7201a8"
             ],
             [
              0.3333333333333333,
              "#9c179e"
             ],
             [
              0.4444444444444444,
              "#bd3786"
             ],
             [
              0.5555555555555556,
              "#d8576b"
             ],
             [
              0.6666666666666666,
              "#ed7953"
             ],
             [
              0.7777777777777778,
              "#fb9f3a"
             ],
             [
              0.8888888888888888,
              "#fdca26"
             ],
             [
              1,
              "#f0f921"
             ]
            ],
            "type": "heatmap"
           }
          ],
          "heatmapgl": [
           {
            "colorbar": {
             "outlinewidth": 0,
             "ticks": ""
            },
            "colorscale": [
             [
              0,
              "#0d0887"
             ],
             [
              0.1111111111111111,
              "#46039f"
             ],
             [
              0.2222222222222222,
              "#7201a8"
             ],
             [
              0.3333333333333333,
              "#9c179e"
             ],
             [
              0.4444444444444444,
              "#bd3786"
             ],
             [
              0.5555555555555556,
              "#d8576b"
             ],
             [
              0.6666666666666666,
              "#ed7953"
             ],
             [
              0.7777777777777778,
              "#fb9f3a"
             ],
             [
              0.8888888888888888,
              "#fdca26"
             ],
             [
              1,
              "#f0f921"
             ]
            ],
            "type": "heatmapgl"
           }
          ],
          "histogram": [
           {
            "marker": {
             "pattern": {
              "fillmode": "overlay",
              "size": 10,
              "solidity": 0.2
             }
            },
            "type": "histogram"
           }
          ],
          "histogram2d": [
           {
            "colorbar": {
             "outlinewidth": 0,
             "ticks": ""
            },
            "colorscale": [
             [
              0,
              "#0d0887"
             ],
             [
              0.1111111111111111,
              "#46039f"
             ],
             [
              0.2222222222222222,
              "#7201a8"
             ],
             [
              0.3333333333333333,
              "#9c179e"
             ],
             [
              0.4444444444444444,
              "#bd3786"
             ],
             [
              0.5555555555555556,
              "#d8576b"
             ],
             [
              0.6666666666666666,
              "#ed7953"
             ],
             [
              0.7777777777777778,
              "#fb9f3a"
             ],
             [
              0.8888888888888888,
              "#fdca26"
             ],
             [
              1,
              "#f0f921"
             ]
            ],
            "type": "histogram2d"
           }
          ],
          "histogram2dcontour": [
           {
            "colorbar": {
             "outlinewidth": 0,
             "ticks": ""
            },
            "colorscale": [
             [
              0,
              "#0d0887"
             ],
             [
              0.1111111111111111,
              "#46039f"
             ],
             [
              0.2222222222222222,
              "#7201a8"
             ],
             [
              0.3333333333333333,
              "#9c179e"
             ],
             [
              0.4444444444444444,
              "#bd3786"
             ],
             [
              0.5555555555555556,
              "#d8576b"
             ],
             [
              0.6666666666666666,
              "#ed7953"
             ],
             [
              0.7777777777777778,
              "#fb9f3a"
             ],
             [
              0.8888888888888888,
              "#fdca26"
             ],
             [
              1,
              "#f0f921"
             ]
            ],
            "type": "histogram2dcontour"
           }
          ],
          "mesh3d": [
           {
            "colorbar": {
             "outlinewidth": 0,
             "ticks": ""
            },
            "type": "mesh3d"
           }
          ],
          "parcoords": [
           {
            "line": {
             "colorbar": {
              "outlinewidth": 0,
              "ticks": ""
             }
            },
            "type": "parcoords"
           }
          ],
          "pie": [
           {
            "automargin": true,
            "type": "pie"
           }
          ],
          "scatter": [
           {
            "fillpattern": {
             "fillmode": "overlay",
             "size": 10,
             "solidity": 0.2
            },
            "type": "scatter"
           }
          ],
          "scatter3d": [
           {
            "line": {
             "colorbar": {
              "outlinewidth": 0,
              "ticks": ""
             }
            },
            "marker": {
             "colorbar": {
              "outlinewidth": 0,
              "ticks": ""
             }
            },
            "type": "scatter3d"
           }
          ],
          "scattercarpet": [
           {
            "marker": {
             "colorbar": {
              "outlinewidth": 0,
              "ticks": ""
             }
            },
            "type": "scattercarpet"
           }
          ],
          "scattergeo": [
           {
            "marker": {
             "colorbar": {
              "outlinewidth": 0,
              "ticks": ""
             }
            },
            "type": "scattergeo"
           }
          ],
          "scattergl": [
           {
            "marker": {
             "colorbar": {
              "outlinewidth": 0,
              "ticks": ""
             }
            },
            "type": "scattergl"
           }
          ],
          "scattermapbox": [
           {
            "marker": {
             "colorbar": {
              "outlinewidth": 0,
              "ticks": ""
             }
            },
            "type": "scattermapbox"
           }
          ],
          "scatterpolar": [
           {
            "marker": {
             "colorbar": {
              "outlinewidth": 0,
              "ticks": ""
             }
            },
            "type": "scatterpolar"
           }
          ],
          "scatterpolargl": [
           {
            "marker": {
             "colorbar": {
              "outlinewidth": 0,
              "ticks": ""
             }
            },
            "type": "scatterpolargl"
           }
          ],
          "scatterternary": [
           {
            "marker": {
             "colorbar": {
              "outlinewidth": 0,
              "ticks": ""
             }
            },
            "type": "scatterternary"
           }
          ],
          "surface": [
           {
            "colorbar": {
             "outlinewidth": 0,
             "ticks": ""
            },
            "colorscale": [
             [
              0,
              "#0d0887"
             ],
             [
              0.1111111111111111,
              "#46039f"
             ],
             [
              0.2222222222222222,
              "#7201a8"
             ],
             [
              0.3333333333333333,
              "#9c179e"
             ],
             [
              0.4444444444444444,
              "#bd3786"
             ],
             [
              0.5555555555555556,
              "#d8576b"
             ],
             [
              0.6666666666666666,
              "#ed7953"
             ],
             [
              0.7777777777777778,
              "#fb9f3a"
             ],
             [
              0.8888888888888888,
              "#fdca26"
             ],
             [
              1,
              "#f0f921"
             ]
            ],
            "type": "surface"
           }
          ],
          "table": [
           {
            "cells": {
             "fill": {
              "color": "#EBF0F8"
             },
             "line": {
              "color": "white"
             }
            },
            "header": {
             "fill": {
              "color": "#C8D4E3"
             },
             "line": {
              "color": "white"
             }
            },
            "type": "table"
           }
          ]
         },
         "layout": {
          "annotationdefaults": {
           "arrowcolor": "#2a3f5f",
           "arrowhead": 0,
           "arrowwidth": 1
          },
          "autotypenumbers": "strict",
          "coloraxis": {
           "colorbar": {
            "outlinewidth": 0,
            "ticks": ""
           }
          },
          "colorscale": {
           "diverging": [
            [
             0,
             "#8e0152"
            ],
            [
             0.1,
             "#c51b7d"
            ],
            [
             0.2,
             "#de77ae"
            ],
            [
             0.3,
             "#f1b6da"
            ],
            [
             0.4,
             "#fde0ef"
            ],
            [
             0.5,
             "#f7f7f7"
            ],
            [
             0.6,
             "#e6f5d0"
            ],
            [
             0.7,
             "#b8e186"
            ],
            [
             0.8,
             "#7fbc41"
            ],
            [
             0.9,
             "#4d9221"
            ],
            [
             1,
             "#276419"
            ]
           ],
           "sequential": [
            [
             0,
             "#0d0887"
            ],
            [
             0.1111111111111111,
             "#46039f"
            ],
            [
             0.2222222222222222,
             "#7201a8"
            ],
            [
             0.3333333333333333,
             "#9c179e"
            ],
            [
             0.4444444444444444,
             "#bd3786"
            ],
            [
             0.5555555555555556,
             "#d8576b"
            ],
            [
             0.6666666666666666,
             "#ed7953"
            ],
            [
             0.7777777777777778,
             "#fb9f3a"
            ],
            [
             0.8888888888888888,
             "#fdca26"
            ],
            [
             1,
             "#f0f921"
            ]
           ],
           "sequentialminus": [
            [
             0,
             "#0d0887"
            ],
            [
             0.1111111111111111,
             "#46039f"
            ],
            [
             0.2222222222222222,
             "#7201a8"
            ],
            [
             0.3333333333333333,
             "#9c179e"
            ],
            [
             0.4444444444444444,
             "#bd3786"
            ],
            [
             0.5555555555555556,
             "#d8576b"
            ],
            [
             0.6666666666666666,
             "#ed7953"
            ],
            [
             0.7777777777777778,
             "#fb9f3a"
            ],
            [
             0.8888888888888888,
             "#fdca26"
            ],
            [
             1,
             "#f0f921"
            ]
           ]
          },
          "colorway": [
           "#636efa",
           "#EF553B",
           "#00cc96",
           "#ab63fa",
           "#FFA15A",
           "#19d3f3",
           "#FF6692",
           "#B6E880",
           "#FF97FF",
           "#FECB52"
          ],
          "font": {
           "color": "#2a3f5f"
          },
          "geo": {
           "bgcolor": "white",
           "lakecolor": "white",
           "landcolor": "#E5ECF6",
           "showlakes": true,
           "showland": true,
           "subunitcolor": "white"
          },
          "hoverlabel": {
           "align": "left"
          },
          "hovermode": "closest",
          "mapbox": {
           "style": "light"
          },
          "paper_bgcolor": "white",
          "plot_bgcolor": "#E5ECF6",
          "polar": {
           "angularaxis": {
            "gridcolor": "white",
            "linecolor": "white",
            "ticks": ""
           },
           "bgcolor": "#E5ECF6",
           "radialaxis": {
            "gridcolor": "white",
            "linecolor": "white",
            "ticks": ""
           }
          },
          "scene": {
           "xaxis": {
            "backgroundcolor": "#E5ECF6",
            "gridcolor": "white",
            "gridwidth": 2,
            "linecolor": "white",
            "showbackground": true,
            "ticks": "",
            "zerolinecolor": "white"
           },
           "yaxis": {
            "backgroundcolor": "#E5ECF6",
            "gridcolor": "white",
            "gridwidth": 2,
            "linecolor": "white",
            "showbackground": true,
            "ticks": "",
            "zerolinecolor": "white"
           },
           "zaxis": {
            "backgroundcolor": "#E5ECF6",
            "gridcolor": "white",
            "gridwidth": 2,
            "linecolor": "white",
            "showbackground": true,
            "ticks": "",
            "zerolinecolor": "white"
           }
          },
          "shapedefaults": {
           "line": {
            "color": "#2a3f5f"
           }
          },
          "ternary": {
           "aaxis": {
            "gridcolor": "white",
            "linecolor": "white",
            "ticks": ""
           },
           "baxis": {
            "gridcolor": "white",
            "linecolor": "white",
            "ticks": ""
           },
           "bgcolor": "#E5ECF6",
           "caxis": {
            "gridcolor": "white",
            "linecolor": "white",
            "ticks": ""
           }
          },
          "title": {
           "x": 0.05
          },
          "xaxis": {
           "automargin": true,
           "gridcolor": "white",
           "linecolor": "white",
           "ticks": "",
           "title": {
            "standoff": 15
           },
           "zerolinecolor": "white",
           "zerolinewidth": 2
          },
          "yaxis": {
           "automargin": true,
           "gridcolor": "white",
           "linecolor": "white",
           "ticks": "",
           "title": {
            "standoff": 15
           },
           "zerolinecolor": "white",
           "zerolinewidth": 2
          }
         }
        },
        "title": {
         "text": "Highlighted Words Distribution"
        }
       }
      }
     },
     "metadata": {},
     "output_type": "display_data"
    }
   ],
   "source": [
    "import plotly.express as px\n",
    "\n",
    "# List of highlighted words\n",
    "highlighted_words = ['Bitcoin', 'Tesla', 'BTC']\n",
    "\n",
    "# Count the occurrences of highlighted words in the word_counts_df\n",
    "highlighted_word_counts = word_counts_df[word_counts_df['word'].isin(highlighted_words)]\n",
    "\n",
    "# Create the pie chart with explode, shadow, and startangle\n",
    "fig_pie_highlighted = px.pie(highlighted_word_counts, names='word', values='count', title='Highlighted Words Distribution')\n",
    "\n",
    "# Update the layout to add explode, shadow, and startangle\n",
    "fig_pie_highlighted.update_traces(pull=[0, 0.1, 0], marker=dict(line=dict(color='#000000', width=0)), rotation=90)\n",
    "\n",
    "# Display the pie chart\n",
    "fig_pie_highlighted.show()"
   ]
  },
  {
   "cell_type": "markdown",
   "metadata": {},
   "source": [
    "# SENTIMENT ANALYSIS !!!"
   ]
  },
  {
   "cell_type": "code",
   "execution_count": 6,
   "metadata": {},
   "outputs": [
    {
     "name": "stdout",
     "output_type": "stream",
     "text": [
      "          Timestamp                                              Tweet  \\\n",
      "0  01/01/2021 00:58  @PPathole Dojo isn’t needed, but will make sel...   \n",
      "1  02/01/2021 03:20  @comma_ai Tesla Full Self-Driving will work at...   \n",
      "2  02/01/2021 12:23  @newscientist Um, we have giant fusion reactor...   \n",
      "3  02/01/2021 14:51  So proud of the Tesla team for achieving this ...   \n",
      "4  02/01/2021 14:59  @flcnhvy Tesla is responsible for 2/3 of all t...   \n",
      "\n",
      "   Sentiment  \n",
      "0   0.166667  \n",
      "1   0.175000  \n",
      "2   0.000000  \n",
      "3   0.439063  \n",
      "4   0.150000  \n"
     ]
    },
    {
     "data": {
      "application/vnd.plotly.v1+json": {
       "config": {
        "plotlyServerURL": "https://plot.ly"
       },
       "data": [
        {
         "hovertemplate": "Timestamp=%{x}<br>Sentiment=%{y}<extra></extra>",
         "legendgroup": "",
         "line": {
          "color": "#636efa",
          "dash": "solid"
         },
         "marker": {
          "symbol": "circle"
         },
         "mode": "lines",
         "name": "",
         "showlegend": false,
         "type": "scattergl",
         "x": [
          "01/01/2021 00:58",
          "02/01/2021 03:20",
          "02/01/2021 12:23",
          "02/01/2021 14:51",
          "02/01/2021 14:59",
          "02/01/2021 15:07",
          "03/01/2021 00:04",
          "04/01/2021 20:26",
          "04/01/2021 20:57",
          "05/01/2021 03:41",
          "07/01/2021 04:06",
          "07/01/2021 05:29",
          "07/01/2021 10:23",
          "07/01/2021 10:24",
          "07/01/2021 10:30",
          "07/01/2021 11:48",
          "07/01/2021 12:49",
          "07/01/2021 12:56",
          "07/01/2021 15:32",
          "07/01/2021 15:33",
          "07/01/2021 18:49",
          "07/01/2021 19:16",
          "07/01/2021 19:27",
          "07/01/2021 19:30",
          "07/01/2021 20:25",
          "07/01/2021 20:27",
          "07/01/2021 22:27",
          "07/01/2021 22:30",
          "07/01/2021 22:33",
          "08/01/2021 01:35",
          "08/01/2021 02:15",
          "08/01/2021 15:36",
          "08/01/2021 23:37",
          "09/01/2021 06:25",
          "09/01/2021 10:50",
          "09/01/2021 12:19",
          "09/01/2021 17:10",
          "09/01/2021 17:28",
          "09/01/2021 18:26",
          "09/01/2021 18:35",
          "09/01/2021 18:39",
          "09/01/2021 18:43",
          "09/01/2021 18:44",
          "09/01/2021 18:47",
          "09/01/2021 18:56",
          "09/01/2021 18:59",
          "09/01/2021 19:00",
          "09/01/2021 20:44",
          "09/01/2021 21:21",
          "09/01/2021 23:05",
          "09/01/2021 23:07",
          "10/01/2021 04:25",
          "10/01/2021 04:41",
          "11/01/2021 05:46",
          "11/01/2021 17:50",
          "11/01/2021 17:53",
          "11/01/2021 17:54",
          "11/01/2021 19:41",
          "11/01/2021 19:51",
          "11/01/2021 22:35",
          "11/01/2021 22:49",
          "12/01/2021 02:46",
          "12/01/2021 10:59",
          "12/01/2021 11:24",
          "12/01/2021 11:30",
          "12/01/2021 11:55",
          "12/01/2021 20:10",
          "12/01/2021 20:19",
          "12/01/2021 21:06",
          "12/01/2021 23:02",
          "13/01/2021 00:23",
          "13/01/2021 00:26",
          "13/01/2021 01:30",
          "13/01/2021 02:52",
          "13/01/2021 08:04",
          "13/01/2021 09:25",
          "13/01/2021 14:48",
          "13/01/2021 19:06",
          "13/01/2021 20:47",
          "13/01/2021 20:53",
          "13/01/2021 21:43",
          "13/01/2021 21:47",
          "13/01/2021 22:07",
          "14/01/2021 05:03",
          "14/01/2021 20:40",
          "15/01/2021 05:17",
          "15/01/2021 05:21",
          "15/01/2021 05:41",
          "15/01/2021 05:47",
          "15/01/2021 05:53",
          "15/01/2021 06:06",
          "15/01/2021 06:44",
          "15/01/2021 07:12",
          "15/01/2021 08:18",
          "15/01/2021 08:23",
          "15/01/2021 09:24",
          "15/01/2021 22:01",
          "15/01/2021 22:07",
          "16/01/2021 01:20",
          "16/01/2021 01:28",
          "16/01/2021 01:29",
          "16/01/2021 01:31",
          "16/01/2021 22:55",
          "17/01/2021 21:22",
          "18/01/2021 01:23",
          "18/01/2021 01:27",
          "18/01/2021 01:45",
          "18/01/2021 04:01",
          "18/01/2021 05:52",
          "18/01/2021 06:13",
          "18/01/2021 06:34",
          "18/01/2021 06:37",
          "18/01/2021 08:56",
          "18/01/2021 08:59",
          "20/01/2021 23:56",
          "21/01/2021 18:53",
          "21/01/2021 21:00",
          "21/01/2021 23:01",
          "21/01/2021 23:08",
          "21/01/2021 23:08",
          "22/01/2021 00:29",
          "22/01/2021 20:03",
          "22/01/2021 23:17",
          "23/01/2021 01:48",
          "23/01/2021 15:27",
          "23/01/2021 22:33",
          "24/01/2021 05:23",
          "24/01/2021 18:23",
          "24/01/2021 19:46",
          "24/01/2021 19:48",
          "24/01/2021 20:26",
          "25/01/2021 03:40",
          "25/01/2021 04:45",
          "25/01/2021 04:49",
          "25/01/2021 04:53",
          "25/01/2021 04:54",
          "25/01/2021 05:02",
          "25/01/2021 05:23",
          "25/01/2021 09:46",
          "25/01/2021 10:19",
          "25/01/2021 11:19",
          "25/01/2021 11:28",
          "26/01/2021 10:37",
          "26/01/2021 10:47",
          "26/01/2021 11:25",
          "26/01/2021 11:32",
          "26/01/2021 12:14",
          "26/01/2021 20:21",
          "26/01/2021 20:59",
          "26/01/2021 21:08",
          "26/01/2021 21:09",
          "26/01/2021 22:59",
          "26/01/2021 23:21",
          "28/01/2021 01:57",
          "28/01/2021 02:33",
          "28/01/2021 02:34",
          "28/01/2021 02:35",
          "28/01/2021 02:41",
          "28/01/2021 02:54",
          "28/01/2021 05:47",
          "28/01/2021 06:39",
          "28/01/2021 06:45",
          "28/01/2021 06:46",
          "28/01/2021 06:48",
          "28/01/2021 06:57",
          "28/01/2021 07:01",
          "28/01/2021 07:03",
          "28/01/2021 07:03",
          "28/01/2021 07:58",
          "28/01/2021 11:54",
          "28/01/2021 12:02",
          "28/01/2021 12:20",
          "28/01/2021 18:43",
          "28/01/2021 18:43",
          "28/01/2021 19:06",
          "28/01/2021 19:12",
          "28/01/2021 19:49",
          "28/01/2021 20:34",
          "28/01/2021 20:39",
          "28/01/2021 20:48",
          "28/01/2021 20:50",
          "28/01/2021 20:51",
          "28/01/2021 21:31",
          "28/01/2021 22:31",
          "28/01/2021 22:33",
          "28/01/2021 22:47",
          "28/01/2021 23:29",
          "28/01/2021 23:49",
          "29/01/2021 00:33",
          "29/01/2021 00:35",
          "29/01/2021 00:37",
          "29/01/2021 00:47",
          "29/01/2021 05:16",
          "29/01/2021 08:22",
          "29/01/2021 20:44",
          "29/01/2021 23:19",
          "29/01/2021 23:22",
          "30/01/2021 09:46",
          "30/01/2021 10:52",
          "30/01/2021 19:19",
          "30/01/2021 19:36",
          "30/01/2021 20:24",
          "30/01/2021 20:32",
          "30/01/2021 20:34",
          "30/01/2021 20:50",
          "30/01/2021 21:21",
          "31/01/2021 18:40",
          "31/01/2021 18:46",
          "31/01/2021 18:57",
          "31/01/2021 19:57",
          "31/01/2021 20:56",
          "31/01/2021 21:07",
          "31/01/2021 23:51",
          "31/01/2021 23:53",
          "31/01/2021 23:59",
          "01/02/2021 22:56",
          "01/02/2021 23:17",
          "01/02/2021 23:19",
          "01/02/2021 23:21",
          "02/02/2021 08:45",
          "04/02/2021 07:09",
          "04/02/2021 07:12",
          "04/02/2021 07:29",
          "04/02/2021 07:35",
          "04/02/2021 07:40",
          "04/02/2021 07:57",
          "04/02/2021 08:15",
          "04/02/2021 08:17",
          "04/02/2021 08:44",
          "04/02/2021 09:15",
          "04/02/2021 09:34",
          "04/02/2021 09:36",
          "04/02/2021 10:08",
          "04/02/2021 20:13",
          "04/02/2021 20:16",
          "04/02/2021 20:28",
          "04/02/2021 20:32",
          "04/02/2021 22:01",
          "05/02/2021 02:44",
          "05/02/2021 02:46",
          "05/02/2021 02:51",
          "05/02/2021 08:40",
          "05/02/2021 10:29",
          "05/02/2021 11:49",
          "06/02/2021 04:02",
          "06/02/2021 04:46",
          "06/02/2021 04:51",
          "06/02/2021 06:46",
          "06/02/2021 07:23",
          "06/02/2021 07:23",
          "06/02/2021 08:08",
          "06/02/2021 08:32",
          "06/02/2021 08:42",
          "06/02/2021 08:45",
          "06/02/2021 22:10",
          "06/02/2021 22:12",
          "06/02/2021 22:14",
          "06/02/2021 22:16",
          "06/02/2021 22:17",
          "06/02/2021 22:23",
          "07/02/2021 02:24",
          "07/02/2021 02:28",
          "07/02/2021 02:36",
          "07/02/2021 06:00",
          "07/02/2021 06:22",
          "07/02/2021 06:24",
          "07/02/2021 07:41",
          "07/02/2021 22:12",
          "07/02/2021 22:25",
          "07/02/2021 23:23",
          "07/02/2021 23:30",
          "08/02/2021 00:09",
          "08/02/2021 01:13",
          "08/02/2021 01:14",
          "08/02/2021 01:50",
          "08/02/2021 03:39",
          "08/02/2021 05:27",
          "08/02/2021 05:34",
          "08/02/2021 06:07",
          "09/02/2021 00:02",
          "09/02/2021 00:09",
          "09/02/2021 00:11",
          "09/02/2021 02:22",
          "09/02/2021 04:15",
          "09/02/2021 06:20",
          "09/02/2021 06:28",
          "09/02/2021 06:32",
          "09/02/2021 14:13",
          "10/02/2021 06:35",
          "10/02/2021 07:13",
          "10/02/2021 07:18",
          "10/02/2021 07:22",
          "10/02/2021 07:51",
          "10/02/2021 08:57",
          "10/02/2021 15:00",
          "10/02/2021 15:08",
          "10/02/2021 16:39",
          "10/02/2021 16:51",
          "10/02/2021 19:47",
          "10/02/2021 19:53",
          "10/02/2021 21:15",
          "11/02/2021 01:03",
          "11/02/2021 01:04",
          "11/02/2021 20:05",
          "11/02/2021 20:41",
          "11/02/2021 23:27",
          "11/02/2021 23:28",
          "12/02/2021 05:01",
          "12/02/2021 10:15",
          "12/02/2021 23:07",
          "13/02/2021 02:00",
          "13/02/2021 14:12",
          "13/02/2021 21:07",
          "13/02/2021 21:19",
          "14/02/2021 02:16",
          "14/02/2021 23:25",
          "14/02/2021 23:33",
          "15/02/2021 01:11",
          "15/02/2021 01:13",
          "15/02/2021 09:52",
          "15/02/2021 10:05",
          "15/02/2021 10:08",
          "16/02/2021 02:39",
          "16/02/2021 02:42",
          "16/02/2021 04:25",
          "16/02/2021 05:14",
          "16/02/2021 16:05",
          "16/02/2021 16:09",
          "16/02/2021 16:18",
          "17/02/2021 04:52",
          "17/02/2021 08:55",
          "18/02/2021 05:56",
          "18/02/2021 23:49",
          "19/02/2021 03:01",
          "19/02/2021 03:11",
          "19/02/2021 04:20",
          "19/02/2021 11:16",
          "19/02/2021 11:30",
          "19/02/2021 20:34",
          "19/02/2021 21:06",
          "19/02/2021 22:25",
          "19/02/2021 22:27",
          "20/02/2021 06:07",
          "20/02/2021 07:02",
          "20/02/2021 08:31",
          "20/02/2021 08:42",
          "20/02/2021 09:16",
          "20/02/2021 10:06",
          "20/02/2021 20:39",
          "20/02/2021 20:52",
          "20/02/2021 21:06",
          "20/02/2021 23:42",
          "21/02/2021 01:11",
          "21/02/2021 13:09",
          "21/02/2021 13:10",
          "21/02/2021 21:25",
          "21/02/2021 21:27",
          "21/02/2021 21:59",
          "21/02/2021 23:11",
          "22/02/2021 08:13",
          "22/02/2021 08:53",
          "22/02/2021 09:30",
          "22/02/2021 20:12",
          "22/02/2021 20:20",
          "22/02/2021 20:21",
          "22/02/2021 20:21",
          "22/02/2021 20:22",
          "22/02/2021 23:25",
          "23/02/2021 08:18",
          "23/02/2021 08:20",
          "23/02/2021 10:46",
          "23/02/2021 11:50",
          "23/02/2021 11:53",
          "23/02/2021 11:54",
          "24/02/2021 07:01",
          "24/02/2021 07:12",
          "24/02/2021 07:24",
          "24/02/2021 07:26",
          "24/02/2021 07:41",
          "24/02/2021 07:46",
          "24/02/2021 08:12",
          "24/02/2021 08:24",
          "24/02/2021 10:52",
          "24/02/2021 13:00",
          "24/02/2021 13:10",
          "24/02/2021 13:15",
          "25/02/2021 01:25",
          "25/02/2021 01:28",
          "25/02/2021 05:15",
          "25/02/2021 05:16",
          "25/02/2021 06:35",
          "25/02/2021 11:10",
          "25/02/2021 11:19",
          "25/02/2021 11:52",
          "25/02/2021 11:57",
          "25/02/2021 19:37",
          "25/02/2021 21:07",
          "25/02/2021 21:34",
          "25/02/2021 21:36",
          "25/02/2021 21:44",
          "25/02/2021 21:47",
          "25/02/2021 21:50",
          "25/02/2021 22:08",
          "26/02/2021 02:12",
          "26/02/2021 08:46",
          "26/02/2021 09:03",
          "26/02/2021 09:05",
          "26/02/2021 09:50",
          "26/02/2021 10:04",
          "01/03/2021 17:55",
          "01/03/2021 18:59",
          "01/03/2021 19:01",
          "01/03/2021 19:57",
          "01/03/2021 22:08",
          "01/03/2021 22:11",
          "01/03/2021 22:23",
          "01/03/2021 22:24",
          "01/03/2021 22:25",
          "02/03/2021 08:36",
          "02/03/2021 17:50",
          "02/03/2021 18:41",
          "02/03/2021 20:26",
          "02/03/2021 20:26",
          "02/03/2021 20:31",
          "02/03/2021 21:07",
          "02/03/2021 21:15",
          "02/03/2021 21:19",
          "02/03/2021 22:27",
          "03/03/2021 03:16",
          "03/03/2021 03:21",
          "03/03/2021 03:21",
          "03/03/2021 03:35",
          "03/03/2021 03:46",
          "03/03/2021 03:50",
          "03/03/2021 04:22",
          "03/03/2021 04:29",
          "03/03/2021 05:13",
          "03/03/2021 11:30",
          "03/03/2021 11:59",
          "03/03/2021 20:10",
          "03/03/2021 20:39",
          "04/03/2021 00:35",
          "04/03/2021 00:37",
          "04/03/2021 00:40",
          "04/03/2021 04:24",
          "04/03/2021 23:04",
          "04/03/2021 23:25",
          "05/03/2021 06:39",
          "05/03/2021 10:32",
          "05/03/2021 10:35",
          "05/03/2021 22:37",
          "05/03/2021 23:26",
          "06/03/2021 01:43",
          "06/03/2021 01:54",
          "06/03/2021 01:57",
          "06/03/2021 04:00",
          "06/03/2021 04:05",
          "06/03/2021 04:08",
          "06/03/2021 04:40",
          "06/03/2021 22:35",
          "06/03/2021 22:47",
          "06/03/2021 22:53",
          "06/03/2021 23:08",
          "06/03/2021 23:32",
          "06/03/2021 23:35",
          "08/03/2021 08:46",
          "08/03/2021 10:14",
          "08/03/2021 11:30",
          "08/03/2021 12:00",
          "08/03/2021 12:03",
          "08/03/2021 13:24",
          "08/03/2021 22:24",
          "09/03/2021 00:09",
          "09/03/2021 08:22",
          "09/03/2021 10:37",
          "09/03/2021 10:43",
          "09/03/2021 10:58",
          "09/03/2021 20:09",
          "09/03/2021 20:18",
          "09/03/2021 23:27",
          "10/03/2021 00:07",
          "10/03/2021 01:21",
          "10/03/2021 03:23",
          "10/03/2021 14:32",
          "11/03/2021 07:13",
          "11/03/2021 07:51",
          "11/03/2021 07:54",
          "11/03/2021 08:48",
          "11/03/2021 11:11",
          "11/03/2021 11:14",
          "11/03/2021 12:45",
          "11/03/2021 12:47",
          "11/03/2021 13:12",
          "11/03/2021 13:53",
          "12/03/2021 04:06",
          "12/03/2021 04:10",
          "12/03/2021 18:58",
          "12/03/2021 19:00",
          "12/03/2021 23:13",
          "12/03/2021 23:51",
          "12/03/2021 23:56",
          "13/03/2021 00:01",
          "13/03/2021 02:10",
          "13/03/2021 07:20",
          "13/03/2021 23:32",
          "13/03/2021 23:40",
          "13/03/2021 23:46",
          "13/03/2021 23:51",
          "14/03/2021 01:59",
          "14/03/2021 02:01",
          "14/03/2021 03:54",
          "14/03/2021 03:58",
          "14/03/2021 04:10",
          "14/03/2021 04:49",
          "14/03/2021 04:58",
          "14/03/2021 13:38",
          "14/03/2021 13:49",
          "14/03/2021 13:55",
          "14/03/2021 14:00",
          "14/03/2021 14:10",
          "14/03/2021 14:17",
          "15/03/2021 00:28",
          "15/03/2021 01:37",
          "15/03/2021 19:52",
          "15/03/2021 23:11",
          "16/03/2021 23:41",
          "17/03/2021 01:18",
          "17/03/2021 01:20",
          "17/03/2021 01:21",
          "18/03/2021 06:38",
          "18/03/2021 07:09",
          "18/03/2021 21:16",
          "18/03/2021 21:17",
          "18/03/2021 23:15",
          "18/03/2021 23:44",
          "18/03/2021 23:50",
          "19/03/2021 01:40",
          "19/03/2021 01:42",
          "19/03/2021 02:40",
          "19/03/2021 06:08",
          "19/03/2021 06:10",
          "19/03/2021 06:54",
          "19/03/2021 07:12",
          "19/03/2021 07:28",
          "19/03/2021 07:32",
          "19/03/2021 08:25",
          "19/03/2021 21:43",
          "20/03/2021 04:40",
          "20/03/2021 05:34",
          "20/03/2021 09:21",
          "20/03/2021 13:04",
          "20/03/2021 14:07",
          "20/03/2021 15:52",
          "21/03/2021 02:52",
          "21/03/2021 03:06",
          "21/03/2021 04:19",
          "21/03/2021 04:21",
          "21/03/2021 04:22",
          "21/03/2021 04:23",
          "21/03/2021 04:25",
          "21/03/2021 04:32",
          "21/03/2021 05:31",
          "21/03/2021 08:42",
          "22/03/2021 02:10",
          "23/03/2021 00:35",
          "23/03/2021 00:52",
          "23/03/2021 00:58",
          "23/03/2021 00:59",
          "23/03/2021 01:09",
          "23/03/2021 01:14",
          "23/03/2021 01:24",
          "23/03/2021 08:56",
          "24/03/2021 06:13",
          "24/03/2021 06:22",
          "24/03/2021 07:02",
          "24/03/2021 07:09",
          "24/03/2021 07:10",
          "24/03/2021 07:17",
          "24/03/2021 20:16",
          "24/03/2021 23:29",
          "25/03/2021 07:33",
          "25/03/2021 07:41",
          "25/03/2021 07:48",
          "25/03/2021 07:54",
          "25/03/2021 10:25",
          "25/03/2021 10:33",
          "25/03/2021 10:35",
          "25/03/2021 13:13",
          "25/03/2021 22:27",
          "25/03/2021 22:32",
          "25/03/2021 22:33",
          "26/03/2021 00:41",
          "26/03/2021 08:15",
          "26/03/2021 08:18",
          "26/03/2021 18:10",
          "26/03/2021 19:33",
          "26/03/2021 20:28",
          "27/03/2021 02:44",
          "27/03/2021 03:09",
          "27/03/2021 03:16",
          "27/03/2021 03:34",
          "27/03/2021 03:48",
          "27/03/2021 08:49",
          "27/03/2021 20:34",
          "27/03/2021 20:35",
          "27/03/2021 20:36",
          "27/03/2021 20:37",
          "28/03/2021 11:10",
          "28/03/2021 12:07",
          "28/03/2021 12:32",
          "28/03/2021 12:33",
          "28/03/2021 18:12",
          "29/03/2021 15:33",
          "29/03/2021 21:43",
          "30/03/2021 05:38",
          "30/03/2021 10:25",
          "30/03/2021 13:30",
          "30/03/2021 13:31",
          "30/03/2021 13:38",
          "30/03/2021 13:49",
          "30/03/2021 14:06",
          "30/03/2021 14:09",
          "30/03/2021 14:17",
          "30/03/2021 14:23",
          "30/03/2021 14:27",
          "30/03/2021 14:29",
          "30/03/2021 14:37",
          "30/03/2021 14:39",
          "30/03/2021 14:44",
          "30/03/2021 22:11",
          "30/03/2021 22:30",
          "31/03/2021 19:23",
          "31/03/2021 23:35",
          "01/04/2021 08:54",
          "01/04/2021 10:23",
          "01/04/2021 10:25",
          "02/04/2021 08:33",
          "02/04/2021 19:13",
          "03/04/2021 00:18",
          "03/04/2021 04:31",
          "03/04/2021 05:38",
          "03/04/2021 11:30",
          "04/04/2021 01:03",
          "04/04/2021 06:25",
          "04/04/2021 10:53",
          "04/04/2021 18:25",
          "04/04/2021 22:25",
          "04/04/2021 22:27",
          "04/04/2021 22:28",
          "04/04/2021 22:36",
          "05/04/2021 02:23",
          "05/04/2021 02:39",
          "05/04/2021 10:28",
          "05/04/2021 10:46",
          "05/04/2021 10:47",
          "05/04/2021 10:49",
          "05/04/2021 11:01",
          "05/04/2021 11:05",
          "05/04/2021 11:20",
          "05/04/2021 11:21",
          "05/04/2021 11:29",
          "05/04/2021 12:57",
          "06/04/2021 00:30",
          "06/04/2021 02:23",
          "06/04/2021 19:28",
          "07/04/2021 10:36",
          "07/04/2021 10:40",
          "07/04/2021 19:13",
          "07/04/2021 19:19",
          "07/04/2021 19:20",
          "07/04/2021 19:35",
          "07/04/2021 19:36",
          "07/04/2021 20:02",
          "07/04/2021 20:04",
          "07/04/2021 20:09",
          "07/04/2021 20:11",
          "08/04/2021 09:41",
          "08/04/2021 20:37",
          "08/04/2021 20:40",
          "08/04/2021 20:43",
          "08/04/2021 20:45",
          "09/04/2021 00:16",
          "09/04/2021 00:19",
          "09/04/2021 00:19",
          "09/04/2021 00:24",
          "09/04/2021 00:29",
          "09/04/2021 01:38",
          "09/04/2021 01:41",
          "09/04/2021 01:41",
          "09/04/2021 01:48",
          "09/04/2021 02:57",
          "09/04/2021 03:01",
          "09/04/2021 03:06",
          "09/04/2021 04:11",
          "09/04/2021 07:32",
          "09/04/2021 07:35",
          "09/04/2021 07:35",
          "09/04/2021 11:21",
          "09/04/2021 11:24",
          "09/04/2021 19:13",
          "09/04/2021 19:14",
          "09/04/2021 19:39",
          "09/04/2021 19:41",
          "09/04/2021 19:41",
          "09/04/2021 22:21",
          "09/04/2021 22:24",
          "10/04/2021 00:33",
          "10/04/2021 01:04",
          "10/04/2021 01:07",
          "10/04/2021 06:41",
          "10/04/2021 06:44",
          "10/04/2021 06:51",
          "10/04/2021 07:12",
          "10/04/2021 07:15",
          "10/04/2021 07:25",
          "10/04/2021 07:29",
          "10/04/2021 07:29",
          "10/04/2021 07:45",
          "10/04/2021 07:45",
          "10/04/2021 08:16",
          "10/04/2021 08:23",
          "10/04/2021 08:32",
          "10/04/2021 19:46",
          "10/04/2021 19:49",
          "10/04/2021 20:22",
          "10/04/2021 22:09",
          "10/04/2021 23:52",
          "10/04/2021 23:54",
          "10/04/2021 23:56",
          "11/04/2021 06:18",
          "11/04/2021 12:23",
          "11/04/2021 14:49",
          "11/04/2021 15:48",
          "11/04/2021 15:50",
          "13/04/2021 19:25",
          "14/04/2021 00:41",
          "14/04/2021 07:48",
          "14/04/2021 07:50",
          "14/04/2021 08:53",
          "14/04/2021 09:01",
          "14/04/2021 09:42",
          "14/04/2021 15:56",
          "14/04/2021 16:00",
          "14/04/2021 21:57",
          "14/04/2021 22:00",
          "14/04/2021 22:02",
          "14/04/2021 22:17",
          "14/04/2021 22:19",
          "14/04/2021 22:19",
          "14/04/2021 22:22",
          "14/04/2021 22:27",
          "14/04/2021 22:32",
          "14/04/2021 22:35",
          "14/04/2021 22:54",
          "14/04/2021 23:21",
          "14/04/2021 23:30",
          "14/04/2021 23:48",
          "15/04/2021 03:42",
          "15/04/2021 03:47",
          "15/04/2021 04:19",
          "15/04/2021 04:28",
          "15/04/2021 04:33",
          "15/04/2021 04:38",
          "15/04/2021 06:30",
          "15/04/2021 15:54",
          "15/04/2021 21:10",
          "15/04/2021 23:33",
          "15/04/2021 23:44",
          "16/04/2021 00:50",
          "16/04/2021 01:52",
          "16/04/2021 01:59",
          "16/04/2021 02:00",
          "16/04/2021 02:13",
          "16/04/2021 17:01",
          "16/04/2021 21:55",
          "16/04/2021 22:16",
          "17/04/2021 04:16",
          "17/04/2021 04:46",
          "17/04/2021 04:51",
          "17/04/2021 05:46",
          "17/04/2021 22:32",
          "17/04/2021 22:39",
          "18/04/2021 21:00",
          "19/04/2021 02:10",
          "19/04/2021 21:14",
          "20/04/2021 03:19",
          "20/04/2021 03:20",
          "20/04/2021 18:37",
          "20/04/2021 18:47",
          "20/04/2021 18:49",
          "20/04/2021 19:27",
          "20/04/2021 19:28",
          "20/04/2021 19:32",
          "21/04/2021 03:51",
          "21/04/2021 04:00",
          "21/04/2021 15:30",
          "21/04/2021 23:23",
          "22/04/2021 01:27",
          "22/04/2021 01:51",
          "22/04/2021 05:14",
          "22/04/2021 05:38",
          "22/04/2021 05:39",
          "22/04/2021 05:47",
          "22/04/2021 05:49",
          "22/04/2021 06:02",
          "22/04/2021 06:05",
          "22/04/2021 12:31",
          "22/04/2021 20:20",
          "22/04/2021 20:50",
          "22/04/2021 20:52",
          "22/04/2021 20:57",
          "22/04/2021 22:25",
          "22/04/2021 22:50",
          "23/04/2021 08:13",
          "23/04/2021 09:47",
          "23/04/2021 14:06",
          "23/04/2021 14:18",
          "23/04/2021 14:23",
          "23/04/2021 14:38",
          "24/04/2021 08:54",
          "24/04/2021 08:55",
          "24/04/2021 09:03",
          "24/04/2021 09:23",
          "25/04/2021 02:40",
          "25/04/2021 03:09",
          "25/04/2021 03:20",
          "25/04/2021 19:41",
          "26/04/2021 06:08",
          "26/04/2021 06:11",
          "26/04/2021 18:10",
          "26/04/2021 19:11",
          "26/04/2021 22:54",
          "26/04/2021 22:56",
          "26/04/2021 23:15",
          "26/04/2021 23:17",
          "26/04/2021 23:31",
          "27/04/2021 00:13",
          "27/04/2021 00:15",
          "27/04/2021 00:37",
          "27/04/2021 20:24",
          "27/04/2021 20:25",
          "27/04/2021 21:34",
          "27/04/2021 22:32",
          "27/04/2021 22:45",
          "27/04/2021 23:01",
          "28/04/2021 03:25",
          "28/04/2021 04:44",
          "28/04/2021 04:53",
          "28/04/2021 06:20",
          "28/04/2021 06:21",
          "28/04/2021 07:33",
          "28/04/2021 08:43",
          "28/04/2021 08:51",
          "28/04/2021 08:54",
          "28/04/2021 19:49",
          "28/04/2021 21:48",
          "28/04/2021 21:50",
          "28/04/2021 21:55",
          "28/04/2021 22:22",
          "28/04/2021 23:57",
          "29/04/2021 00:05",
          "29/04/2021 01:02",
          "29/04/2021 01:04",
          "29/04/2021 01:05",
          "29/04/2021 01:07",
          "29/04/2021 22:10",
          "29/04/2021 22:13",
          "29/04/2021 22:16",
          "29/04/2021 22:19",
          "29/04/2021 22:30",
          "29/04/2021 22:45",
          "01/05/2021 21:36",
          "01/05/2021 21:49",
          "01/05/2021 21:51",
          "01/05/2021 21:53",
          "01/05/2021 21:56",
          "02/05/2021 01:56",
          "02/05/2021 03:13",
          "02/05/2021 20:24",
          "02/05/2021 21:09",
          "02/05/2021 22:17",
          "03/05/2021 06:20",
          "03/05/2021 07:56",
          "03/05/2021 17:27",
          "04/05/2021 21:22",
          "04/05/2021 23:06",
          "05/05/2021 04:22",
          "05/05/2021 04:27",
          "05/05/2021 06:01",
          "05/05/2021 22:22",
          "05/05/2021 22:37",
          "06/05/2021 05:00",
          "06/05/2021 07:16",
          "06/05/2021 15:59",
          "06/05/2021 16:01",
          "06/05/2021 16:26",
          "06/05/2021 18:14",
          "06/05/2021 18:19",
          "06/05/2021 19:23",
          "06/05/2021 19:26",
          "06/05/2021 19:26",
          "07/05/2021 00:41",
          "07/05/2021 04:02",
          "07/05/2021 04:24",
          "07/05/2021 04:24",
          "07/05/2021 06:14",
          "07/05/2021 07:29",
          "07/05/2021 14:35",
          "07/05/2021 17:57",
          "07/05/2021 20:57",
          "07/05/2021 21:05",
          "07/05/2021 21:11",
          "07/05/2021 23:23",
          "08/05/2021 01:22",
          "08/05/2021 06:42",
          "08/05/2021 07:05",
          "08/05/2021 07:19",
          "08/05/2021 20:39",
          "08/05/2021 22:52",
          "09/05/2021 13:21",
          "09/05/2021 22:41",
          "10/05/2021 00:39",
          "10/05/2021 01:09",
          "10/05/2021 04:29",
          "10/05/2021 04:43",
          "10/05/2021 10:06",
          "10/05/2021 22:12",
          "11/05/2021 07:04",
          "11/05/2021 08:09",
          "11/05/2021 08:13",
          "11/05/2021 18:27",
          "12/05/2021 07:57",
          "12/05/2021 10:38",
          "12/05/2021 10:40",
          "12/05/2021 10:41",
          "12/05/2021 10:44",
          "12/05/2021 10:45",
          "12/05/2021 20:18",
          "12/05/2021 21:34",
          "13/05/2021 09:54",
          "13/05/2021 20:21",
          "13/05/2021 20:59",
          "13/05/2021 21:11",
          "13/05/2021 22:19",
          "13/05/2021 22:45",
          "13/05/2021 23:11",
          "13/05/2021 23:30",
          "14/05/2021 04:42",
          "14/05/2021 05:58",
          "14/05/2021 16:47",
          "15/05/2021 04:11",
          "16/05/2021 01:20",
          "16/05/2021 02:03",
          "16/05/2021 05:46",
          "16/05/2021 05:56",
          "16/05/2021 14:35",
          "16/05/2021 17:06",
          "16/05/2021 17:21",
          "16/05/2021 17:34",
          "16/05/2021 18:07",
          "16/05/2021 18:17",
          "16/05/2021 18:24",
          "16/05/2021 18:48",
          "16/05/2021 19:37",
          "17/05/2021 05:56",
          "17/05/2021 08:39",
          "18/05/2021 09:25",
          "18/05/2021 09:45",
          "18/05/2021 09:52",
          "18/05/2021 10:00",
          "18/05/2021 11:46",
          "18/05/2021 13:43",
          "19/05/2021 01:00",
          "19/05/2021 01:07",
          "19/05/2021 01:08",
          "19/05/2021 14:42",
          "19/05/2021 15:41",
          "19/05/2021 17:42",
          "20/05/2021 01:25",
          "20/05/2021 01:45",
          "20/05/2021 05:16",
          "20/05/2021 05:41",
          "20/05/2021 07:54",
          "20/05/2021 10:41",
          "20/05/2021 12:13",
          "20/05/2021 12:56",
          "20/05/2021 13:02",
          "20/05/2021 13:13",
          "20/05/2021 13:14",
          "20/05/2021 13:31",
          "20/05/2021 13:57",
          "20/05/2021 17:39",
          "20/05/2021 17:39",
          "20/05/2021 17:46",
          "20/05/2021 17:50",
          "20/05/2021 17:53",
          "20/05/2021 17:56",
          "20/05/2021 18:00",
          "20/05/2021 20:00",
          "20/05/2021 20:13",
          "20/05/2021 20:20",
          "20/05/2021 20:22",
          "21/05/2021 01:31",
          "21/05/2021 01:35",
          "21/05/2021 01:40",
          "21/05/2021 19:26",
          "22/05/2021 00:43",
          "22/05/2021 07:04",
          "22/05/2021 09:22",
          "22/05/2021 10:25",
          "22/05/2021 10:27",
          "22/05/2021 22:07",
          "22/05/2021 22:22",
          "23/05/2021 01:41",
          "24/05/2021 05:25",
          "24/05/2021 19:42",
          "24/05/2021 19:49",
          "24/05/2021 20:29",
          "25/05/2021 05:37",
          "25/05/2021 20:16",
          "26/05/2021 00:14",
          "26/05/2021 00:14",
          "26/05/2021 00:22",
          "26/05/2021 00:25",
          "26/05/2021 00:27",
          "26/05/2021 07:35",
          "26/05/2021 18:39",
          "26/05/2021 18:47",
          "26/05/2021 18:49",
          "26/05/2021 18:52",
          "27/05/2021 00:41",
          "27/05/2021 01:17",
          "27/05/2021 06:49",
          "27/05/2021 16:29",
          "27/05/2021 21:32",
          "28/05/2021 03:47",
          "28/05/2021 04:07",
          "28/05/2021 04:56",
          "28/05/2021 06:59",
          "28/05/2021 08:29",
          "29/05/2021 02:11",
          "29/05/2021 04:47",
          "29/05/2021 05:01",
          "29/05/2021 05:16",
          "29/05/2021 05:33",
          "29/05/2021 05:36",
          "29/05/2021 05:46",
          "29/05/2021 05:53",
          "29/05/2021 05:54",
          "29/05/2021 19:30",
          "29/05/2021 22:03",
          "30/05/2021 00:48",
          "30/05/2021 01:23",
          "30/05/2021 01:29",
          "30/05/2021 05:48",
          "30/05/2021 16:56",
          "30/05/2021 17:13",
          "30/05/2021 19:42",
          "30/05/2021 21:24",
          "31/05/2021 04:28",
          "31/05/2021 22:26",
          "31/05/2021 22:32",
          "31/05/2021 22:34",
          "01/06/2021 05:42",
          "01/06/2021 05:45",
          "01/06/2021 05:57",
          "01/06/2021 05:59",
          "01/06/2021 23:28",
          "01/06/2021 23:46",
          "01/06/2021 23:54",
          "02/06/2021 04:11",
          "02/06/2021 07:05",
          "02/06/2021 07:59",
          "02/06/2021 08:02",
          "02/06/2021 08:36",
          "02/06/2021 09:51",
          "02/06/2021 09:57",
          "02/06/2021 11:34",
          "02/06/2021 11:48",
          "02/06/2021 11:52",
          "02/06/2021 11:53",
          "02/06/2021 11:59",
          "03/06/2021 01:26",
          "03/06/2021 06:50",
          "03/06/2021 20:47",
          "04/06/2021 01:07",
          "04/06/2021 01:16",
          "04/06/2021 01:54",
          "04/06/2021 02:49",
          "04/06/2021 03:25",
          "04/06/2021 03:45",
          "04/06/2021 03:51",
          "04/06/2021 03:57",
          "04/06/2021 04:22",
          "04/06/2021 04:24",
          "04/06/2021 04:59",
          "04/06/2021 05:27",
          "04/06/2021 23:09",
          "04/06/2021 23:19",
          "05/06/2021 03:29",
          "05/06/2021 07:41",
          "05/06/2021 08:21",
          "05/06/2021 08:39",
          "05/06/2021 18:55",
          "05/06/2021 20:21",
          "05/06/2021 20:30",
          "05/06/2021 21:18",
          "06/06/2021 08:36",
          "06/06/2021 10:29",
          "06/06/2021 10:46",
          "06/06/2021 10:58",
          "06/06/2021 11:03",
          "06/06/2021 11:07",
          "06/06/2021 11:11",
          "06/06/2021 11:18",
          "06/06/2021 19:25",
          "06/06/2021 20:19",
          "06/06/2021 20:21",
          "06/06/2021 20:41",
          "06/06/2021 20:45",
          "06/06/2021 20:46",
          "06/06/2021 20:48",
          "06/06/2021 20:49",
          "06/06/2021 22:11",
          "06/06/2021 22:11",
          "07/06/2021 01:57",
          "07/06/2021 03:52",
          "07/06/2021 04:03",
          "07/06/2021 20:50",
          "07/06/2021 21:58",
          "07/06/2021 22:13",
          "09/06/2021 04:49",
          "09/06/2021 17:41",
          "09/06/2021 17:44",
          "09/06/2021 18:00",
          "09/06/2021 18:11",
          "09/06/2021 20:04",
          "09/06/2021 20:07",
          "09/06/2021 23:32",
          "10/06/2021 02:53",
          "10/06/2021 19:38",
          "10/06/2021 21:13",
          "10/06/2021 21:27",
          "11/06/2021 04:28",
          "11/06/2021 04:38",
          "11/06/2021 04:39",
          "11/06/2021 04:45",
          "11/06/2021 04:47",
          "11/06/2021 06:40",
          "11/06/2021 20:32",
          "12/06/2021 11:24",
          "13/06/2021 03:44",
          "13/06/2021 03:46",
          "13/06/2021 06:42",
          "13/06/2021 17:12",
          "13/06/2021 17:21",
          "13/06/2021 17:27",
          "13/06/2021 17:36",
          "13/06/2021 17:42",
          "14/06/2021 04:01",
          "14/06/2021 04:02",
          "14/06/2021 05:04",
          "14/06/2021 06:52",
          "14/06/2021 07:12",
          "14/06/2021 07:15",
          "14/06/2021 07:19",
          "14/06/2021 08:13",
          "14/06/2021 08:21",
          "14/06/2021 08:22",
          "14/06/2021 09:15",
          "14/06/2021 09:22",
          "15/06/2021 00:20",
          "15/06/2021 07:47",
          "15/06/2021 08:06",
          "15/06/2021 12:09",
          "15/06/2021 19:00",
          "16/06/2021 03:43",
          "16/06/2021 04:56",
          "16/06/2021 04:58",
          "16/06/2021 05:00",
          "16/06/2021 05:39",
          "16/06/2021 06:44",
          "16/06/2021 08:19",
          "16/06/2021 09:08",
          "16/06/2021 19:30",
          "16/06/2021 22:37",
          "17/06/2021 02:14",
          "17/06/2021 02:23",
          "17/06/2021 11:06",
          "17/06/2021 11:07",
          "17/06/2021 18:04",
          "17/06/2021 18:08",
          "17/06/2021 18:13",
          "17/06/2021 18:23",
          "17/06/2021 18:32",
          "17/06/2021 18:37",
          "17/06/2021 18:47",
          "18/06/2021 09:52",
          "18/06/2021 22:35",
          "18/06/2021 23:24",
          "18/06/2021 23:25",
          "18/06/2021 23:25",
          "19/06/2021 02:07",
          "19/06/2021 02:16",
          "20/06/2021 03:13",
          "20/06/2021 20:19",
          "21/06/2021 18:53",
          "21/06/2021 18:59",
          "21/06/2021 20:48",
          "21/06/2021 23:41",
          "22/06/2021 05:59",
          "23/06/2021 13:06",
          "23/06/2021 23:34",
          "24/06/2021 01:10",
          "24/06/2021 01:44",
          "24/06/2021 06:09",
          "24/06/2021 06:28",
          "24/06/2021 07:50",
          "24/06/2021 10:10",
          "25/06/2021 01:55",
          "25/06/2021 02:00",
          "25/06/2021 02:02",
          "25/06/2021 02:03",
          "25/06/2021 02:08",
          "25/06/2021 02:11",
          "25/06/2021 02:18",
          "25/06/2021 02:24",
          "25/06/2021 02:54",
          "25/06/2021 03:02",
          "25/06/2021 03:04",
          "25/06/2021 03:11",
          "25/06/2021 06:46",
          "25/06/2021 08:55",
          "25/06/2021 08:59",
          "25/06/2021 09:15",
          "25/06/2021 09:29",
          "25/06/2021 10:42",
          "25/06/2021 11:03",
          "25/06/2021 11:09",
          "25/06/2021 11:13",
          "25/06/2021 11:26",
          "25/06/2021 11:38",
          "25/06/2021 11:40",
          "25/06/2021 19:53",
          "25/06/2021 21:59",
          "25/06/2021 22:51",
          "25/06/2021 22:58",
          "25/06/2021 23:17",
          "27/06/2021 14:11",
          "27/06/2021 14:40",
          "28/06/2021 04:26",
          "28/06/2021 04:31",
          "28/06/2021 04:45",
          "28/06/2021 20:25",
          "29/06/2021 03:18",
          "29/06/2021 04:46",
          "29/06/2021 18:00",
          "29/06/2021 18:57",
          "29/06/2021 19:06",
          "29/06/2021 19:41",
          "29/06/2021 19:55",
          "29/06/2021 19:56",
          "29/06/2021 20:13",
          "29/06/2021 20:14",
          "30/06/2021 19:33",
          "30/06/2021 19:52",
          "30/06/2021 19:59",
          "30/06/2021 20:09",
          "30/06/2021 20:11",
          "30/06/2021 20:12",
          "30/06/2021 20:20",
          "30/06/2021 23:42",
          "01/07/2021 01:16",
          "01/07/2021 01:25",
          "01/07/2021 01:30",
          "01/07/2021 01:38",
          "01/07/2021 01:44",
          "01/07/2021 07:49",
          "01/07/2021 08:09",
          "01/07/2021 08:14",
          "01/07/2021 08:21",
          "01/07/2021 08:42",
          "01/07/2021 08:43",
          "01/07/2021 08:46",
          "01/07/2021 08:59",
          "01/07/2021 09:24",
          "01/07/2021 09:54",
          "01/07/2021 09:57",
          "01/07/2021 11:00",
          "01/07/2021 11:17",
          "01/07/2021 18:44",
          "01/07/2021 18:58",
          "01/07/2021 21:14",
          "01/07/2021 23:10",
          "02/07/2021 03:07",
          "02/07/2021 03:09",
          "02/07/2021 03:17",
          "02/07/2021 03:23",
          "02/07/2021 08:31",
          "02/07/2021 08:44",
          "02/07/2021 09:03",
          "02/07/2021 12:54",
          "02/07/2021 13:05",
          "02/07/2021 13:09",
          "02/07/2021 13:12",
          "02/07/2021 13:20",
          "02/07/2021 21:12",
          "02/07/2021 21:14",
          "02/07/2021 21:17",
          "02/07/2021 21:18",
          "02/07/2021 21:19",
          "02/07/2021 21:21",
          "02/07/2021 23:03",
          "03/07/2021 03:57",
          "03/07/2021 07:46",
          "03/07/2021 08:03",
          "03/07/2021 11:06",
          "03/07/2021 21:23",
          "03/07/2021 21:28",
          "04/07/2021 04:42",
          "04/07/2021 06:29",
          "04/07/2021 08:15",
          "04/07/2021 17:53",
          "04/07/2021 17:59",
          "04/07/2021 18:06",
          "04/07/2021 18:07",
          "04/07/2021 21:09",
          "04/07/2021 21:26",
          "04/07/2021 21:32",
          "04/07/2021 21:33",
          "04/07/2021 21:52",
          "05/07/2021 07:12",
          "05/07/2021 08:53",
          "05/07/2021 09:30",
          "05/07/2021 10:25",
          "05/07/2021 11:00",
          "05/07/2021 14:48",
          "06/07/2021 00:45",
          "06/07/2021 02:14",
          "06/07/2021 02:31",
          "06/07/2021 02:33",
          "06/07/2021 02:34",
          "06/07/2021 18:34",
          "06/07/2021 22:09",
          "07/07/2021 16:50",
          "07/07/2021 16:52",
          "07/07/2021 16:58",
          "07/07/2021 16:58",
          "07/07/2021 18:40",
          "07/07/2021 18:46",
          "07/07/2021 18:48",
          "07/07/2021 18:51",
          "07/07/2021 18:53",
          "07/07/2021 20:01",
          "07/07/2021 20:38",
          "07/07/2021 23:31",
          "08/07/2021 05:54",
          "08/07/2021 06:09",
          "08/07/2021 06:11",
          "08/07/2021 06:18",
          "08/07/2021 06:24",
          "08/07/2021 06:35",
          "08/07/2021 06:39",
          "08/07/2021 07:11",
          "08/07/2021 07:25",
          "08/07/2021 21:45",
          "08/07/2021 21:45",
          "08/07/2021 21:52",
          "08/07/2021 22:28",
          "08/07/2021 22:32",
          "08/07/2021 22:34",
          "08/07/2021 22:36",
          "08/07/2021 22:36",
          "08/07/2021 22:39",
          "08/07/2021 22:46",
          "08/07/2021 23:08",
          "08/07/2021 23:12",
          "08/07/2021 23:33",
          "08/07/2021 23:47",
          "09/07/2021 00:16",
          "09/07/2021 00:20",
          "09/07/2021 01:18",
          "09/07/2021 06:50",
          "09/07/2021 07:15",
          "09/07/2021 10:03",
          "09/07/2021 20:39",
          "09/07/2021 20:50",
          "09/07/2021 21:50",
          "09/07/2021 21:50",
          "09/07/2021 22:05",
          "09/07/2021 22:21",
          "09/07/2021 23:47",
          "09/07/2021 23:56",
          "10/07/2021 00:01",
          "10/07/2021 03:11",
          "10/07/2021 03:19",
          "10/07/2021 03:31",
          "10/07/2021 05:47",
          "10/07/2021 05:48",
          "10/07/2021 05:54",
          "10/07/2021 06:00",
          "10/07/2021 16:09",
          "10/07/2021 16:14",
          "10/07/2021 16:15",
          "10/07/2021 17:11",
          "10/07/2021 17:14",
          "10/07/2021 17:18",
          "10/07/2021 17:18",
          "10/07/2021 17:23",
          "10/07/2021 17:28",
          "10/07/2021 18:50",
          "10/07/2021 18:55",
          "11/07/2021 09:41",
          "11/07/2021 16:26",
          "11/07/2021 18:05",
          "11/07/2021 18:06",
          "12/07/2021 04:02",
          "12/07/2021 04:07",
          "12/07/2021 17:18",
          "12/07/2021 21:32",
          "12/07/2021 21:35",
          "12/07/2021 21:38",
          "12/07/2021 21:40",
          "12/07/2021 22:07",
          "12/07/2021 22:18",
          "13/07/2021 02:30",
          "13/07/2021 02:33",
          "13/07/2021 02:33",
          "13/07/2021 02:37",
          "13/07/2021 02:39",
          "13/07/2021 03:05",
          "13/07/2021 23:14",
          "13/07/2021 23:32",
          "13/07/2021 23:33",
          "13/07/2021 23:37",
          "14/07/2021 04:13",
          "14/07/2021 04:18",
          "14/07/2021 15:58",
          "14/07/2021 16:19",
          "14/07/2021 16:23",
          "14/07/2021 16:32",
          "14/07/2021 17:48",
          "14/07/2021 17:49",
          "14/07/2021 17:51",
          "14/07/2021 18:38",
          "14/07/2021 18:41",
          "14/07/2021 19:46",
          "14/07/2021 21:30",
          "14/07/2021 21:36",
          "14/07/2021 23:35",
          "15/07/2021 01:15",
          "15/07/2021 01:19",
          "15/07/2021 01:32",
          "15/07/2021 04:24",
          "15/07/2021 04:25",
          "15/07/2021 05:06",
          "15/07/2021 05:08",
          "15/07/2021 05:44",
          "15/07/2021 05:51",
          "15/07/2021 05:59",
          "15/07/2021 06:00",
          "15/07/2021 10:14",
          "15/07/2021 17:54",
          "15/07/2021 18:01",
          "15/07/2021 18:03",
          "15/07/2021 18:11",
          "15/07/2021 18:13",
          "15/07/2021 21:15",
          "15/07/2021 21:17",
          "16/07/2021 03:35",
          "16/07/2021 05:21",
          "16/07/2021 15:57",
          "16/07/2021 16:04",
          "16/07/2021 16:39",
          "16/07/2021 19:17",
          "16/07/2021 22:49",
          "17/07/2021 00:21",
          "17/07/2021 01:53",
          "17/07/2021 03:53",
          "17/07/2021 06:30",
          "17/07/2021 06:33",
          "17/07/2021 06:36",
          "17/07/2021 06:38",
          "17/07/2021 06:40",
          "17/07/2021 16:32",
          "17/07/2021 16:34",
          "17/07/2021 16:36",
          "17/07/2021 16:50",
          "17/07/2021 16:53",
          "17/07/2021 17:08",
          "17/07/2021 17:21",
          "17/07/2021 17:22",
          "17/07/2021 17:38",
          "17/07/2021 17:44",
          "17/07/2021 18:00",
          "17/07/2021 19:28",
          "17/07/2021 21:35",
          "17/07/2021 22:02",
          "17/07/2021 22:04",
          "18/07/2021 02:53",
          "18/07/2021 03:00",
          "18/07/2021 07:38",
          "18/07/2021 15:23",
          "19/07/2021 02:43",
          "19/07/2021 03:23",
          "19/07/2021 03:59",
          "19/07/2021 19:25",
          "19/07/2021 19:37",
          "20/07/2021 00:07",
          "20/07/2021 00:17",
          "20/07/2021 01:22",
          "20/07/2021 07:46",
          "20/07/2021 11:55",
          "20/07/2021 21:13",
          "20/07/2021 21:13",
          "20/07/2021 21:14",
          "21/07/2021 04:16",
          "21/07/2021 20:39",
          "21/07/2021 20:44",
          "21/07/2021 20:47",
          "21/07/2021 20:48",
          "22/07/2021 12:59",
          "22/07/2021 19:36",
          "22/07/2021 19:38",
          "22/07/2021 19:40",
          "23/07/2021 04:36",
          "23/07/2021 04:39",
          "23/07/2021 07:31",
          "23/07/2021 07:36",
          "23/07/2021 07:40",
          "23/07/2021 07:44",
          "23/07/2021 19:15",
          "23/07/2021 19:16",
          "23/07/2021 19:35",
          "23/07/2021 19:44",
          "23/07/2021 19:47",
          "23/07/2021 19:57",
          "23/07/2021 20:01",
          "24/07/2021 02:37",
          "24/07/2021 02:39",
          "24/07/2021 03:32",
          "24/07/2021 05:45",
          "24/07/2021 06:35",
          "24/07/2021 07:29",
          "24/07/2021 07:37",
          "24/07/2021 10:33",
          "24/07/2021 10:46",
          "24/07/2021 10:56",
          "24/07/2021 11:17",
          "24/07/2021 11:50",
          "25/07/2021 03:22",
          "25/07/2021 04:02",
          "25/07/2021 04:02",
          "25/07/2021 04:02",
          "25/07/2021 04:04",
          "25/07/2021 04:08",
          "25/07/2021 04:23",
          "25/07/2021 04:31",
          "25/07/2021 06:31",
          "25/07/2021 06:34",
          "25/07/2021 07:42",
          "25/07/2021 18:26",
          "25/07/2021 18:38",
          "25/07/2021 18:39",
          "25/07/2021 18:43",
          "25/07/2021 18:48",
          "25/07/2021 18:50",
          "25/07/2021 18:53",
          "26/07/2021 01:54",
          "26/07/2021 02:14",
          "26/07/2021 02:18",
          "26/07/2021 03:32",
          "26/07/2021 03:42",
          "26/07/2021 06:21",
          "26/07/2021 06:22",
          "26/07/2021 08:11",
          "26/07/2021 20:50",
          "26/07/2021 23:11",
          "27/07/2021 00:03",
          "27/07/2021 01:02",
          "27/07/2021 01:32",
          "27/07/2021 04:57",
          "27/07/2021 04:59",
          "27/07/2021 06:37",
          "27/07/2021 14:41",
          "27/07/2021 18:00",
          "27/07/2021 18:09",
          "27/07/2021 18:18",
          "27/07/2021 18:20",
          "28/07/2021 05:17",
          "28/07/2021 17:05",
          "28/07/2021 18:57",
          "28/07/2021 19:04",
          "28/07/2021 23:41",
          "28/07/2021 23:44",
          "29/07/2021 02:37",
          "29/07/2021 02:51",
          "29/07/2021 03:07",
          "29/07/2021 03:42",
          "29/07/2021 03:59",
          "29/07/2021 04:51",
          "29/07/2021 07:54",
          "29/07/2021 15:51",
          "29/07/2021 15:51",
          "29/07/2021 16:45",
          "29/07/2021 16:50",
          "29/07/2021 16:59",
          "29/07/2021 18:38",
          "29/07/2021 18:53",
          "29/07/2021 19:11",
          "29/07/2021 19:18",
          "29/07/2021 19:22",
          "29/07/2021 19:52",
          "29/07/2021 20:06",
          "29/07/2021 23:08",
          "29/07/2021 23:16",
          "30/07/2021 00:17",
          "30/07/2021 04:17",
          "30/07/2021 04:20",
          "30/07/2021 04:38",
          "30/07/2021 04:52",
          "30/07/2021 05:31",
          "30/07/2021 14:41",
          "30/07/2021 15:22",
          "30/07/2021 16:27",
          "30/07/2021 16:49",
          "30/07/2021 16:55",
          "30/07/2021 17:08",
          "30/07/2021 20:17",
          "30/07/2021 20:25",
          "30/07/2021 20:41",
          "30/07/2021 20:51",
          "30/07/2021 22:47",
          "30/07/2021 22:56",
          "30/07/2021 23:05",
          "31/07/2021 03:37",
          "31/07/2021 04:16",
          "31/07/2021 04:20",
          "31/07/2021 04:23",
          "31/07/2021 06:38",
          "31/07/2021 08:58",
          "31/07/2021 09:01",
          "31/07/2021 09:14",
          "31/07/2021 15:32",
          "31/07/2021 15:59",
          "31/07/2021 16:05",
          "31/07/2021 16:26",
          "31/07/2021 20:00",
          "31/07/2021 20:03",
          "31/07/2021 20:06",
          "31/07/2021 20:13",
          "31/07/2021 20:18",
          "31/07/2021 20:24",
          "31/07/2021 20:49",
          "31/07/2021 20:54",
          "31/07/2021 21:22",
          "31/07/2021 22:08",
          "31/07/2021 22:24",
          "31/07/2021 22:44",
          "01/08/2021 00:03",
          "01/08/2021 00:08",
          "01/08/2021 00:42",
          "01/08/2021 00:49",
          "01/08/2021 07:56",
          "02/08/2021 01:31",
          "02/08/2021 15:01",
          "02/08/2021 15:49",
          "02/08/2021 20:12",
          "02/08/2021 21:47",
          "02/08/2021 22:02",
          "02/08/2021 22:11",
          "03/08/2021 16:59",
          "03/08/2021 17:19",
          "03/08/2021 17:35",
          "03/08/2021 17:48",
          "03/08/2021 18:34",
          "03/08/2021 22:59",
          "04/08/2021 04:08",
          "04/08/2021 04:16",
          "04/08/2021 04:25",
          "04/08/2021 04:33",
          "04/08/2021 04:42",
          "04/08/2021 12:47",
          "04/08/2021 13:54",
          "04/08/2021 22:00",
          "04/08/2021 22:01",
          "04/08/2021 23:13",
          "05/08/2021 02:12",
          "05/08/2021 02:15",
          "05/08/2021 04:16",
          "05/08/2021 04:17",
          "05/08/2021 04:23",
          "05/08/2021 05:18",
          "05/08/2021 05:36",
          "05/08/2021 05:38",
          "05/08/2021 06:02",
          "05/08/2021 17:52",
          "05/08/2021 18:42",
          "05/08/2021 20:57",
          "05/08/2021 20:58",
          "05/08/2021 21:14",
          "05/08/2021 21:35",
          "05/08/2021 21:36",
          "05/08/2021 23:01",
          "06/08/2021 05:12",
          "06/08/2021 05:30",
          "06/08/2021 06:32",
          "06/08/2021 07:12",
          "06/08/2021 14:51",
          "06/08/2021 14:56",
          "06/08/2021 15:23",
          "06/08/2021 15:26",
          "06/08/2021 15:39",
          "06/08/2021 15:58",
          "06/08/2021 16:07",
          "06/08/2021 16:09",
          "06/08/2021 16:21",
          "06/08/2021 16:22",
          "06/08/2021 16:28",
          "06/08/2021 16:39",
          "06/08/2021 17:21",
          "06/08/2021 17:24",
          "06/08/2021 17:30",
          "06/08/2021 17:46",
          "06/08/2021 21:49",
          "06/08/2021 22:58",
          "07/08/2021 02:16",
          "07/08/2021 03:38",
          "09/08/2021 08:39",
          "09/08/2021 08:41",
          "10/08/2021 14:23",
          "10/08/2021 14:23",
          "10/08/2021 16:14",
          "10/08/2021 21:58",
          "11/08/2021 15:04",
          "11/08/2021 15:11",
          "11/08/2021 16:56",
          "11/08/2021 17:41",
          "11/08/2021 20:23",
          "12/08/2021 01:54",
          "12/08/2021 02:03",
          "12/08/2021 02:06",
          "12/08/2021 03:54",
          "12/08/2021 04:00",
          "12/08/2021 04:07",
          "12/08/2021 10:24",
          "12/08/2021 18:09",
          "12/08/2021 22:43",
          "13/08/2021 08:39",
          "13/08/2021 13:37",
          "13/08/2021 13:38",
          "13/08/2021 14:43",
          "13/08/2021 15:08",
          "13/08/2021 19:32",
          "13/08/2021 19:33",
          "13/08/2021 20:07",
          "13/08/2021 21:00",
          "13/08/2021 21:16",
          "13/08/2021 21:33",
          "13/08/2021 21:35",
          "13/08/2021 21:46",
          "13/08/2021 22:19",
          "13/08/2021 22:32",
          "13/08/2021 22:37",
          "13/08/2021 22:41",
          "13/08/2021 22:49",
          "13/08/2021 22:51",
          "13/08/2021 22:53",
          "13/08/2021 22:54",
          "13/08/2021 23:36",
          "14/08/2021 06:48",
          "14/08/2021 06:59",
          "14/08/2021 07:03",
          "14/08/2021 07:04",
          "14/08/2021 07:10",
          "14/08/2021 07:18",
          "14/08/2021 14:03",
          "14/08/2021 14:06",
          "14/08/2021 14:21",
          "14/08/2021 14:24",
          "14/08/2021 14:52",
          "14/08/2021 14:58",
          "14/08/2021 15:02",
          "14/08/2021 15:13",
          "14/08/2021 15:24",
          "14/08/2021 16:43",
          "14/08/2021 18:21",
          "14/08/2021 18:23",
          "15/08/2021 01:13",
          "15/08/2021 01:19",
          "15/08/2021 08:34",
          "15/08/2021 15:49",
          "15/08/2021 15:51",
          "15/08/2021 16:05",
          "16/08/2021 01:54",
          "17/08/2021 14:19",
          "18/08/2021 03:14",
          "18/08/2021 03:16",
          "18/08/2021 09:43",
          "18/08/2021 09:49",
          "18/08/2021 10:22",
          "18/08/2021 16:38",
          "18/08/2021 17:22",
          "18/08/2021 17:41",
          "18/08/2021 17:46",
          "18/08/2021 17:55",
          "18/08/2021 20:28",
          "19/08/2021 04:22",
          "20/08/2021 00:57",
          "20/08/2021 03:15",
          "20/08/2021 03:17",
          "20/08/2021 06:14",
          "20/08/2021 06:38",
          "20/08/2021 20:01",
          "20/08/2021 20:05",
          "21/08/2021 04:26",
          "21/08/2021 04:44",
          "21/08/2021 05:10",
          "21/08/2021 05:25",
          "21/08/2021 05:27",
          "21/08/2021 05:31",
          "23/08/2021 06:19",
          "23/08/2021 06:50",
          "23/08/2021 08:34",
          "23/08/2021 19:56",
          "23/08/2021 20:02",
          "23/08/2021 20:03",
          "23/08/2021 20:10",
          "23/08/2021 20:27",
          "23/08/2021 20:43",
          "23/08/2021 21:47",
          "23/08/2021 21:49",
          "23/08/2021 21:52",
          "24/08/2021 00:59",
          "24/08/2021 05:27",
          "24/08/2021 20:29",
          "24/08/2021 20:31",
          "24/08/2021 20:33",
          "24/08/2021 20:36",
          "25/08/2021 04:58",
          "25/08/2021 22:12",
          "25/08/2021 22:25",
          "25/08/2021 22:26",
          "26/08/2021 03:56",
          "26/08/2021 04:59",
          "26/08/2021 05:42",
          "26/08/2021 06:27",
          "26/08/2021 09:05",
          "26/08/2021 23:46",
          "27/08/2021 05:27",
          "27/08/2021 05:39",
          "27/08/2021 09:09",
          "27/08/2021 20:34",
          "28/08/2021 04:32",
          "28/08/2021 07:15",
          "28/08/2021 07:16",
          "28/08/2021 07:30",
          "28/08/2021 07:33",
          "28/08/2021 07:43",
          "28/08/2021 07:47",
          "28/08/2021 13:16",
          "28/08/2021 20:38",
          "28/08/2021 23:37",
          "29/08/2021 03:35",
          "29/08/2021 04:55",
          "29/08/2021 06:33",
          "29/08/2021 19:35",
          "30/08/2021 00:27",
          "30/08/2021 01:01",
          "30/08/2021 01:27",
          "30/08/2021 08:24",
          "30/08/2021 08:28",
          "30/08/2021 09:02",
          "30/08/2021 09:04",
          "30/08/2021 09:12",
          "30/08/2021 09:36",
          "30/08/2021 09:41",
          "30/08/2021 09:55",
          "30/08/2021 11:02",
          "30/08/2021 20:39",
          "30/08/2021 21:04",
          "30/08/2021 21:25",
          "30/08/2021 23:17",
          "30/08/2021 23:52",
          "31/08/2021 00:03",
          "31/08/2021 00:23",
          "31/08/2021 00:25",
          "31/08/2021 07:14",
          "31/08/2021 07:15",
          "31/08/2021 07:21",
          "31/08/2021 15:35",
          "31/08/2021 19:09",
          "31/08/2021 21:30",
          "01/09/2021 02:44",
          "01/09/2021 16:13",
          "01/09/2021 16:21",
          "01/09/2021 16:42",
          "01/09/2021 16:46",
          "01/09/2021 16:54",
          "01/09/2021 16:57",
          "01/09/2021 17:35",
          "01/09/2021 17:40",
          "01/09/2021 17:42",
          "01/09/2021 18:39",
          "01/09/2021 18:50",
          "01/09/2021 20:57",
          "02/09/2021 00:32",
          "02/09/2021 00:53",
          "02/09/2021 00:55",
          "02/09/2021 00:59",
          "02/09/2021 02:26",
          "02/09/2021 06:45",
          "02/09/2021 17:00",
          "02/09/2021 17:05",
          "02/09/2021 17:28",
          "02/09/2021 18:16",
          "02/09/2021 18:17",
          "02/09/2021 18:18",
          "03/09/2021 01:38",
          "03/09/2021 05:58",
          "03/09/2021 06:08",
          "03/09/2021 08:47",
          "03/09/2021 16:05",
          "03/09/2021 16:10",
          "03/09/2021 18:21",
          "03/09/2021 18:50",
          "04/09/2021 06:51",
          "04/09/2021 07:18",
          "04/09/2021 08:33",
          "04/09/2021 17:17",
          "06/09/2021 19:12",
          "06/09/2021 19:16",
          "06/09/2021 19:19",
          "06/09/2021 21:39",
          "06/09/2021 21:44",
          "06/09/2021 23:23",
          "06/09/2021 23:33",
          "07/09/2021 17:36",
          "07/09/2021 18:28",
          "08/09/2021 21:54",
          "08/09/2021 21:56",
          "09/09/2021 09:10",
          "09/09/2021 09:29",
          "09/09/2021 09:56",
          "09/09/2021 10:00",
          "09/09/2021 10:04",
          "09/09/2021 10:40",
          "09/09/2021 10:44",
          "09/09/2021 10:51",
          "09/09/2021 13:59",
          "09/09/2021 14:03",
          "09/09/2021 21:51",
          "09/09/2021 21:58",
          "09/09/2021 22:04",
          "09/09/2021 22:08",
          "09/09/2021 22:09",
          "10/09/2021 09:50",
          "10/09/2021 10:59",
          "10/09/2021 11:33",
          "10/09/2021 19:39",
          "10/09/2021 19:47",
          "10/09/2021 19:50",
          "10/09/2021 20:16",
          "10/09/2021 21:30",
          "10/09/2021 23:15",
          "11/09/2021 04:04",
          "11/09/2021 12:53",
          "11/09/2021 18:06",
          "11/09/2021 18:16",
          "11/09/2021 18:18",
          "11/09/2021 19:02",
          "11/09/2021 19:32",
          "11/09/2021 20:41",
          "12/09/2021 03:11",
          "12/09/2021 03:14",
          "12/09/2021 18:14",
          "12/09/2021 18:45",
          "12/09/2021 21:06",
          "12/09/2021 21:13",
          "12/09/2021 21:19",
          "12/09/2021 21:20",
          "12/09/2021 21:21",
          "12/09/2021 21:24",
          "12/09/2021 21:38",
          "12/09/2021 22:22",
          "12/09/2021 22:32",
          "12/09/2021 23:13",
          "12/09/2021 23:58",
          "13/09/2021 00:01",
          "13/09/2021 00:38",
          "13/09/2021 01:02",
          "13/09/2021 03:05",
          "13/09/2021 04:09",
          "13/09/2021 04:12",
          "13/09/2021 07:57",
          "14/09/2021 00:30",
          "14/09/2021 11:11",
          "14/09/2021 11:14",
          "14/09/2021 19:55",
          "15/09/2021 05:58",
          "16/09/2021 05:27",
          "16/09/2021 17:20",
          "16/09/2021 17:39",
          "16/09/2021 18:23",
          "16/09/2021 19:02",
          "16/09/2021 19:47",
          "16/09/2021 19:51",
          "16/09/2021 21:58",
          "17/09/2021 06:03",
          "17/09/2021 06:05",
          "17/09/2021 06:11",
          "17/09/2021 06:14",
          "17/09/2021 06:15",
          "17/09/2021 06:25",
          "17/09/2021 06:34",
          "17/09/2021 07:48",
          "17/09/2021 08:21",
          "17/09/2021 18:12",
          "17/09/2021 21:36",
          "18/09/2021 01:16",
          "18/09/2021 01:43",
          "18/09/2021 04:54",
          "18/09/2021 06:11",
          "18/09/2021 06:52",
          "18/09/2021 06:54",
          "18/09/2021 07:01",
          "18/09/2021 08:26",
          "18/09/2021 11:46",
          "18/09/2021 11:47",
          "18/09/2021 12:00",
          "18/09/2021 12:14",
          "18/09/2021 12:26",
          "18/09/2021 12:38",
          "18/09/2021 13:34",
          "18/09/2021 13:51",
          "18/09/2021 19:01",
          "18/09/2021 19:21",
          "18/09/2021 21:43",
          "18/09/2021 21:54",
          "18/09/2021 22:16",
          "18/09/2021 23:13",
          "19/09/2021 02:15",
          "19/09/2021 14:38",
          "19/09/2021 14:39",
          "19/09/2021 18:58",
          "19/09/2021 19:00",
          "19/09/2021 19:07",
          "19/09/2021 20:27",
          "19/09/2021 21:08",
          "19/09/2021 21:15",
          "20/09/2021 03:02",
          "20/09/2021 03:02",
          "20/09/2021 03:04",
          "20/09/2021 03:05",
          "20/09/2021 03:05",
          "20/09/2021 03:06",
          "20/09/2021 03:07",
          "20/09/2021 04:31",
          "20/09/2021 06:34",
          "20/09/2021 06:36",
          "20/09/2021 18:19",
          "21/09/2021 03:41",
          "21/09/2021 03:48",
          "21/09/2021 04:01",
          "21/09/2021 04:22",
          "21/09/2021 17:06",
          "22/09/2021 01:01",
          "22/09/2021 01:05",
          "22/09/2021 02:20",
          "22/09/2021 06:44",
          "22/09/2021 17:27",
          "22/09/2021 17:40",
          "22/09/2021 17:54",
          "22/09/2021 18:18",
          "22/09/2021 18:40",
          "22/09/2021 20:43",
          "22/09/2021 20:50",
          "22/09/2021 20:53",
          "23/09/2021 07:27",
          "24/09/2021 00:44",
          "24/09/2021 00:44",
          "24/09/2021 00:46",
          "24/09/2021 18:54",
          "25/09/2021 00:31",
          "25/09/2021 00:38",
          "25/09/2021 08:13",
          "25/09/2021 18:52",
          "25/09/2021 19:24",
          "25/09/2021 19:44",
          "25/09/2021 19:47",
          "26/09/2021 00:06",
          "26/09/2021 08:38",
          "26/09/2021 08:47",
          "26/09/2021 09:31",
          "26/09/2021 18:30",
          "26/09/2021 18:39",
          "26/09/2021 18:41",
          "27/09/2021 05:24",
          "27/09/2021 08:04",
          "27/09/2021 08:34",
          "27/09/2021 20:34",
          "27/09/2021 20:35",
          "27/09/2021 20:36",
          "27/09/2021 23:22",
          "27/09/2021 23:45",
          "28/09/2021 04:23",
          "28/09/2021 04:27",
          "28/09/2021 05:01",
          "28/09/2021 15:48",
          "28/09/2021 16:02",
          "28/09/2021 17:36",
          "28/09/2021 20:44",
          "29/09/2021 17:34",
          "29/09/2021 17:37",
          "29/09/2021 19:53",
          "29/09/2021 22:20",
          "29/09/2021 22:38",
          "29/09/2021 22:39",
          "30/09/2021 05:40",
          "30/09/2021 12:01",
          "30/09/2021 19:17",
          "01/10/2021 10:51",
          "01/10/2021 10:54",
          "02/10/2021 03:00",
          "02/10/2021 17:55",
          "02/10/2021 17:58",
          "02/10/2021 18:03",
          "02/10/2021 18:04",
          "02/10/2021 20:06",
          "02/10/2021 22:08",
          "02/10/2021 22:40",
          "02/10/2021 22:42",
          "02/10/2021 23:26",
          "03/10/2021 01:12",
          "03/10/2021 08:08",
          "03/10/2021 12:35",
          "03/10/2021 12:43",
          "03/10/2021 12:47",
          "03/10/2021 12:55",
          "03/10/2021 21:37",
          "03/10/2021 22:36",
          "04/10/2021 01:41",
          "04/10/2021 18:04",
          "05/10/2021 18:05",
          "05/10/2021 20:01",
          "07/10/2021 13:26",
          "07/10/2021 13:30",
          "07/10/2021 13:31",
          "07/10/2021 13:36",
          "07/10/2021 13:38",
          "07/10/2021 13:43",
          "07/10/2021 13:49",
          "07/10/2021 13:50",
          "07/10/2021 14:45",
          "07/10/2021 14:45",
          "07/10/2021 14:47",
          "07/10/2021 14:50",
          "07/10/2021 21:39",
          "08/10/2021 09:04",
          "08/10/2021 09:08",
          "08/10/2021 09:11",
          "08/10/2021 16:57",
          "08/10/2021 17:55",
          "08/10/2021 17:57",
          "09/10/2021 08:16",
          "09/10/2021 08:19",
          "09/10/2021 08:24",
          "09/10/2021 08:49",
          "09/10/2021 13:50",
          "09/10/2021 20:17",
          "09/10/2021 20:22",
          "09/10/2021 20:25",
          "09/10/2021 20:34",
          "09/10/2021 20:55",
          "09/10/2021 23:31",
          "10/10/2021 05:56",
          "10/10/2021 06:13",
          "10/10/2021 13:54",
          "11/10/2021 04:57",
          "11/10/2021 05:09",
          "11/10/2021 05:58",
          "11/10/2021 06:14",
          "11/10/2021 07:07",
          "11/10/2021 07:10",
          "11/10/2021 08:00",
          "11/10/2021 15:13",
          "11/10/2021 15:36",
          "11/10/2021 15:37",
          "11/10/2021 15:44",
          "11/10/2021 16:37",
          "11/10/2021 17:10",
          "11/10/2021 17:30",
          "12/10/2021 00:13",
          "12/10/2021 01:17",
          "12/10/2021 01:20",
          "12/10/2021 03:31",
          "12/10/2021 06:34",
          "12/10/2021 20:25",
          "12/10/2021 21:29",
          "12/10/2021 21:40",
          "12/10/2021 21:42",
          "12/10/2021 21:44",
          "12/10/2021 23:02",
          "13/10/2021 13:19",
          "14/10/2021 00:16",
          "14/10/2021 00:22",
          "14/10/2021 00:28",
          "14/10/2021 02:47",
          "14/10/2021 06:06",
          "14/10/2021 07:57",
          "14/10/2021 08:34",
          "14/10/2021 08:39",
          "14/10/2021 08:40",
          "14/10/2021 15:05",
          "14/10/2021 15:13",
          "14/10/2021 15:14",
          "14/10/2021 15:16",
          "14/10/2021 15:22",
          "14/10/2021 15:42",
          "14/10/2021 16:05",
          "14/10/2021 16:42",
          "14/10/2021 20:05",
          "14/10/2021 20:06",
          "14/10/2021 20:10",
          "15/10/2021 03:18",
          "15/10/2021 03:19",
          "15/10/2021 04:46",
          "15/10/2021 04:52",
          "16/10/2021 05:13",
          "16/10/2021 05:14",
          "17/10/2021 02:31",
          "17/10/2021 02:42",
          "17/10/2021 02:46",
          "17/10/2021 03:04",
          "17/10/2021 03:13",
          "17/10/2021 03:40",
          "17/10/2021 20:29",
          "17/10/2021 22:20",
          "17/10/2021 22:22",
          "17/10/2021 22:24",
          "17/10/2021 22:30",
          "17/10/2021 23:07",
          "18/10/2021 03:01",
          "18/10/2021 09:49",
          "18/10/2021 21:31",
          "19/10/2021 01:22",
          "19/10/2021 01:24",
          "19/10/2021 12:16",
          "19/10/2021 16:41",
          "19/10/2021 17:13",
          "19/10/2021 17:42",
          "19/10/2021 23:51",
          "20/10/2021 00:02",
          "20/10/2021 02:43",
          "20/10/2021 16:11",
          "20/10/2021 16:16",
          "20/10/2021 16:54",
          "20/10/2021 17:18",
          "20/10/2021 17:22",
          "21/10/2021 01:50",
          "21/10/2021 02:19",
          "21/10/2021 02:20",
          "21/10/2021 02:21",
          "21/10/2021 02:23",
          "21/10/2021 02:24",
          "21/10/2021 03:07",
          "21/10/2021 07:51",
          "21/10/2021 17:32",
          "21/10/2021 17:44",
          "21/10/2021 22:47",
          "22/10/2021 01:02",
          "22/10/2021 01:03",
          "22/10/2021 01:04",
          "22/10/2021 01:05",
          "22/10/2021 01:08",
          "22/10/2021 02:41",
          "22/10/2021 02:54",
          "22/10/2021 15:33",
          "22/10/2021 15:38",
          "22/10/2021 17:26",
          "22/10/2021 17:26",
          "22/10/2021 18:11",
          "22/10/2021 18:14",
          "22/10/2021 18:17",
          "22/10/2021 18:30",
          "22/10/2021 18:55",
          "22/10/2021 18:56",
          "22/10/2021 19:59",
          "23/10/2021 13:43",
          "23/10/2021 13:49",
          "23/10/2021 14:50",
          "24/10/2021 00:48",
          "24/10/2021 08:11",
          "24/10/2021 08:37",
          "24/10/2021 10:48",
          "24/10/2021 10:55",
          "24/10/2021 17:38",
          "24/10/2021 17:47",
          "24/10/2021 17:51",
          "24/10/2021 17:53",
          "24/10/2021 17:54",
          "24/10/2021 18:01",
          "24/10/2021 18:44",
          "24/10/2021 18:55",
          "24/10/2021 19:16",
          "24/10/2021 20:38",
          "25/10/2021 00:49",
          "25/10/2021 01:08",
          "25/10/2021 01:32",
          "25/10/2021 01:50",
          "25/10/2021 02:07",
          "25/10/2021 02:11",
          "25/10/2021 07:32",
          "25/10/2021 08:02",
          "25/10/2021 08:09",
          "25/10/2021 10:02",
          "25/10/2021 17:09",
          "25/10/2021 19:15",
          "25/10/2021 19:53",
          "25/10/2021 19:59",
          "25/10/2021 20:04",
          "25/10/2021 20:09",
          "25/10/2021 20:11",
          "26/10/2021 00:22",
          "26/10/2021 00:28",
          "26/10/2021 00:30",
          "26/10/2021 01:31",
          "26/10/2021 01:33",
          "26/10/2021 02:24",
          "26/10/2021 02:31",
          "26/10/2021 12:10",
          "26/10/2021 12:12",
          "26/10/2021 12:34",
          "26/10/2021 12:56",
          "26/10/2021 17:29",
          "26/10/2021 20:56",
          "27/10/2021 01:08",
          "27/10/2021 20:29",
          "27/10/2021 20:35",
          "27/10/2021 21:11",
          "27/10/2021 21:26",
          "27/10/2021 21:33",
          "27/10/2021 21:40",
          "27/10/2021 21:52",
          "27/10/2021 23:16",
          "27/10/2021 23:32",
          "28/10/2021 05:13",
          "28/10/2021 15:30",
          "28/10/2021 15:33",
          "28/10/2021 15:52",
          "28/10/2021 15:54",
          "28/10/2021 16:55",
          "28/10/2021 17:34",
          "28/10/2021 17:35",
          "28/10/2021 21:40",
          "28/10/2021 22:35",
          "29/10/2021 02:56",
          "29/10/2021 03:25",
          "29/10/2021 05:12",
          "29/10/2021 05:20",
          "29/10/2021 05:22",
          "29/10/2021 06:33",
          "29/10/2021 06:35",
          "29/10/2021 06:36",
          "29/10/2021 16:00",
          "29/10/2021 16:06",
          "29/10/2021 16:56",
          "29/10/2021 16:57",
          "29/10/2021 17:03",
          "30/10/2021 01:07",
          "30/10/2021 01:47",
          "30/10/2021 02:05",
          "30/10/2021 05:32",
          "31/10/2021 00:43",
          "31/10/2021 00:44",
          "31/10/2021 13:50",
          "31/10/2021 13:55",
          "31/10/2021 18:20",
          "31/10/2021 19:35",
          "31/10/2021 21:17",
          "31/10/2021 21:21",
          "31/10/2021 21:42",
          "31/10/2021 21:51",
          "31/10/2021 21:54",
          "31/10/2021 21:55",
          "31/10/2021 22:09",
          "01/11/2021 00:20",
          "01/11/2021 03:30",
          "01/11/2021 14:55",
          "01/11/2021 15:12",
          "01/11/2021 15:58",
          "01/11/2021 16:00",
          "01/11/2021 16:09",
          "01/11/2021 16:18",
          "01/11/2021 16:32",
          "01/11/2021 16:32",
          "01/11/2021 18:03",
          "01/11/2021 18:38",
          "01/11/2021 18:45",
          "01/11/2021 18:53",
          "01/11/2021 20:05",
          "02/11/2021 00:12",
          "02/11/2021 01:48",
          "02/11/2021 06:22",
          "02/11/2021 19:42",
          "02/11/2021 20:00",
          "02/11/2021 20:02",
          "02/11/2021 20:36",
          "02/11/2021 22:57",
          "03/11/2021 00:00",
          "03/11/2021 00:00",
          "03/11/2021 07:34",
          "03/11/2021 18:19",
          "03/11/2021 18:46",
          "03/11/2021 19:28",
          "03/11/2021 20:51",
          "04/11/2021 05:59",
          "04/11/2021 06:08",
          "04/11/2021 14:15",
          "04/11/2021 14:33",
          "04/11/2021 15:02",
          "04/11/2021 16:26",
          "04/11/2021 18:20",
          "04/11/2021 19:22",
          "04/11/2021 19:25",
          "04/11/2021 21:30",
          "04/11/2021 22:11",
          "05/11/2021 14:46",
          "06/11/2021 01:30",
          "06/11/2021 01:32",
          "06/11/2021 19:03",
          "06/11/2021 19:17",
          "06/11/2021 19:22",
          "06/11/2021 19:23",
          "06/11/2021 19:28",
          "06/11/2021 19:30",
          "06/11/2021 20:05",
          "06/11/2021 20:31",
          "06/11/2021 21:03",
          "07/11/2021 18:35",
          "07/11/2021 18:39",
          "07/11/2021 19:23",
          "07/11/2021 19:26",
          "07/11/2021 21:29",
          "07/11/2021 22:48",
          "07/11/2021 23:20",
          "07/11/2021 23:57",
          "08/11/2021 00:06",
          "08/11/2021 01:15",
          "08/11/2021 17:56",
          "08/11/2021 19:13",
          "08/11/2021 19:16",
          "08/11/2021 19:20",
          "08/11/2021 19:28",
          "08/11/2021 21:18",
          "09/11/2021 06:08",
          "09/11/2021 06:21",
          "09/11/2021 06:33",
          "09/11/2021 07:34",
          "09/11/2021 08:13",
          "09/11/2021 15:32",
          "10/11/2021 07:54",
          "10/11/2021 17:06",
          "10/11/2021 17:16",
          "10/11/2021 17:18",
          "10/11/2021 17:38",
          "10/11/2021 17:55",
          "10/11/2021 18:02",
          "11/11/2021 04:44",
          "11/11/2021 21:13",
          "12/11/2021 01:22",
          "12/11/2021 01:25",
          "12/11/2021 01:27",
          "12/11/2021 18:17",
          "13/11/2021 00:56",
          "13/11/2021 01:08",
          "13/11/2021 01:15",
          "13/11/2021 10:30",
          "13/11/2021 11:16",
          "13/11/2021 12:15",
          "13/11/2021 12:38",
          "13/11/2021 16:47",
          "13/11/2021 17:55",
          "13/11/2021 17:56",
          "13/11/2021 17:58",
          "13/11/2021 18:00",
          "13/11/2021 18:08",
          "13/11/2021 18:19",
          "13/11/2021 18:22",
          "13/11/2021 20:19",
          "13/11/2021 23:40",
          "14/11/2021 14:29",
          "14/11/2021 14:39",
          "14/11/2021 15:24",
          "14/11/2021 21:33",
          "14/11/2021 21:35",
          "14/11/2021 23:48",
          "15/11/2021 00:39",
          "15/11/2021 01:06",
          "15/11/2021 01:48",
          "15/11/2021 03:02",
          "15/11/2021 16:53",
          "15/11/2021 16:56",
          "15/11/2021 17:04",
          "15/11/2021 17:18",
          "15/11/2021 17:36",
          "15/11/2021 17:50",
          "15/11/2021 17:54",
          "15/11/2021 18:03",
          "15/11/2021 18:13",
          "15/11/2021 18:58",
          "15/11/2021 20:01",
          "15/11/2021 22:13",
          "16/11/2021 00:44",
          "16/11/2021 00:56",
          "16/11/2021 02:11",
          "16/11/2021 20:47",
          "16/11/2021 21:24",
          "17/11/2021 03:20",
          "17/11/2021 03:32",
          "17/11/2021 03:45",
          "17/11/2021 17:00",
          "18/11/2021 00:21",
          "18/11/2021 00:34",
          "18/11/2021 00:36",
          "18/11/2021 07:31",
          "18/11/2021 08:09",
          "18/11/2021 16:34",
          "18/11/2021 16:39",
          "18/11/2021 17:35",
          "18/11/2021 18:04",
          "18/11/2021 18:07",
          "18/11/2021 18:11",
          "18/11/2021 19:05",
          "18/11/2021 22:11",
          "18/11/2021 22:20",
          "18/11/2021 22:22",
          "18/11/2021 22:25",
          "19/11/2021 03:01",
          "19/11/2021 04:08",
          "19/11/2021 04:16",
          "19/11/2021 04:38",
          "19/11/2021 04:38",
          "19/11/2021 09:34",
          "19/11/2021 10:12",
          "19/11/2021 17:40",
          "19/11/2021 17:42",
          "19/11/2021 17:57",
          "19/11/2021 18:01",
          "19/11/2021 19:13",
          "19/11/2021 19:53",
          "19/11/2021 19:54",
          "19/11/2021 20:47",
          "19/11/2021 20:50",
          "19/11/2021 21:03",
          "19/11/2021 21:24",
          "19/11/2021 21:30",
          "19/11/2021 21:45",
          "20/11/2021 02:26",
          "20/11/2021 02:28",
          "20/11/2021 02:32",
          "20/11/2021 02:55",
          "20/11/2021 06:20",
          "20/11/2021 23:13",
          "20/11/2021 23:17",
          "20/11/2021 23:21",
          "20/11/2021 23:41",
          "21/11/2021 01:09",
          "21/11/2021 01:11",
          "21/11/2021 01:14",
          "21/11/2021 04:28",
          "21/11/2021 19:51",
          "21/11/2021 22:14",
          "21/11/2021 22:21",
          "22/11/2021 02:03",
          "22/11/2021 04:15",
          "22/11/2021 04:22",
          "22/11/2021 04:28",
          "22/11/2021 04:30",
          "22/11/2021 04:41",
          "22/11/2021 05:13",
          "22/11/2021 05:15",
          "22/11/2021 05:20",
          "22/11/2021 05:27",
          "22/11/2021 05:48",
          "22/11/2021 07:07",
          "22/11/2021 17:46",
          "22/11/2021 17:59",
          "22/11/2021 18:21",
          "22/11/2021 18:21",
          "22/11/2021 18:40",
          "22/11/2021 20:14",
          "22/11/2021 20:42",
          "22/11/2021 20:45",
          "22/11/2021 20:47",
          "22/11/2021 21:08",
          "22/11/2021 21:40",
          "22/11/2021 22:08",
          "23/11/2021 07:36",
          "23/11/2021 09:08",
          "23/11/2021 09:27",
          "23/11/2021 09:31",
          "23/11/2021 09:44",
          "23/11/2021 09:49",
          "23/11/2021 09:56",
          "23/11/2021 10:00",
          "23/11/2021 10:22",
          "23/11/2021 10:45",
          "23/11/2021 17:05",
          "23/11/2021 17:10",
          "23/11/2021 17:20",
          "23/11/2021 17:34",
          "23/11/2021 17:39",
          "23/11/2021 18:57",
          "23/11/2021 23:39",
          "24/11/2021 04:49",
          "24/11/2021 05:48",
          "24/11/2021 06:10",
          "24/11/2021 16:36",
          "24/11/2021 16:39",
          "24/11/2021 16:42",
          "24/11/2021 16:46",
          "24/11/2021 17:28",
          "24/11/2021 17:36",
          "24/11/2021 21:23",
          "25/11/2021 01:35",
          "25/11/2021 01:47",
          "25/11/2021 03:32",
          "25/11/2021 05:09",
          "25/11/2021 09:14",
          "25/11/2021 09:15",
          "25/11/2021 11:15",
          "25/11/2021 19:54",
          "25/11/2021 19:56",
          "25/11/2021 22:38",
          "25/11/2021 23:25",
          "25/11/2021 23:26",
          "25/11/2021 23:40",
          "26/11/2021 13:16",
          "26/11/2021 19:21",
          "26/11/2021 19:27",
          "27/11/2021 00:45",
          "27/11/2021 00:47",
          "27/11/2021 00:59",
          "27/11/2021 02:22",
          "27/11/2021 02:38",
          "27/11/2021 08:09",
          "27/11/2021 08:12",
          "27/11/2021 08:13",
          "27/11/2021 21:25",
          "28/11/2021 19:44",
          "29/11/2021 18:14",
          "29/11/2021 18:25",
          "29/11/2021 18:36",
          "29/11/2021 20:06",
          "29/11/2021 20:11",
          "29/11/2021 20:13",
          "29/11/2021 20:15",
          "29/11/2021 20:18",
          "29/11/2021 20:52",
          "29/11/2021 20:53",
          "29/11/2021 23:52",
          "30/11/2021 00:13",
          "30/11/2021 00:24",
          "30/11/2021 05:38",
          "30/11/2021 19:15",
          "30/11/2021 19:21",
          "30/11/2021 19:22",
          "30/11/2021 20:55",
          "30/11/2021 21:21",
          "30/11/2021 21:24",
          "30/11/2021 21:31",
          "30/11/2021 22:59",
          "01/12/2021 00:23",
          "01/12/2021 00:36",
          "01/12/2021 01:18",
          "01/12/2021 07:19",
          "01/12/2021 07:40",
          "01/12/2021 07:43",
          "01/12/2021 08:03",
          "01/12/2021 08:04",
          "01/12/2021 08:12",
          "01/12/2021 16:00",
          "01/12/2021 16:00",
          "01/12/2021 16:25",
          "02/12/2021 00:39",
          "02/12/2021 02:34",
          "02/12/2021 07:15",
          "02/12/2021 08:18",
          "02/12/2021 08:19",
          "02/12/2021 08:31",
          "02/12/2021 08:38",
          "02/12/2021 08:47",
          "02/12/2021 19:08",
          "02/12/2021 21:11",
          "02/12/2021 22:28",
          "03/12/2021 15:51",
          "03/12/2021 15:52",
          "03/12/2021 15:55",
          "03/12/2021 15:56",
          "03/12/2021 15:57",
          "03/12/2021 16:05",
          "03/12/2021 16:06",
          "03/12/2021 16:06",
          "03/12/2021 16:07",
          "03/12/2021 16:09",
          "03/12/2021 19:18",
          "03/12/2021 19:22",
          "03/12/2021 19:28",
          "03/12/2021 23:35",
          "04/12/2021 00:08",
          "04/12/2021 01:01",
          "04/12/2021 01:29",
          "04/12/2021 15:08",
          "04/12/2021 15:09",
          "04/12/2021 15:36",
          "04/12/2021 15:37",
          "04/12/2021 20:12",
          "05/12/2021 03:33",
          "05/12/2021 03:35",
          "05/12/2021 19:14",
          "06/12/2021 01:44",
          "06/12/2021 05:42",
          "06/12/2021 20:25",
          "06/12/2021 20:44",
          "06/12/2021 21:10",
          "06/12/2021 21:14",
          "06/12/2021 21:16",
          "06/12/2021 21:35",
          "07/12/2021 01:30",
          "07/12/2021 01:33",
          "07/12/2021 01:41",
          "07/12/2021 03:11",
          "07/12/2021 03:57",
          "07/12/2021 04:10",
          "07/12/2021 07:56",
          "07/12/2021 14:15",
          "07/12/2021 16:34",
          "07/12/2021 21:39",
          "07/12/2021 21:41",
          "07/12/2021 21:46",
          "07/12/2021 21:53",
          "08/12/2021 05:00",
          "08/12/2021 05:01",
          "08/12/2021 17:04",
          "08/12/2021 17:21",
          "08/12/2021 17:24",
          "08/12/2021 17:26",
          "08/12/2021 17:28",
          "08/12/2021 17:29",
          "08/12/2021 19:19",
          "08/12/2021 20:51",
          "08/12/2021 20:52",
          "08/12/2021 20:53",
          "08/12/2021 20:56",
          "08/12/2021 21:04",
          "08/12/2021 21:11",
          "09/12/2021 07:09",
          "09/12/2021 13:38",
          "09/12/2021 17:39",
          "09/12/2021 18:00",
          "09/12/2021 18:09",
          "09/12/2021 18:11",
          "09/12/2021 18:11",
          "09/12/2021 20:19",
          "09/12/2021 20:43",
          "10/12/2021 02:51",
          "10/12/2021 03:59",
          "10/12/2021 04:02",
          "10/12/2021 04:20",
          "10/12/2021 04:21",
          "10/12/2021 04:42",
          "10/12/2021 06:44",
          "10/12/2021 07:19",
          "10/12/2021 07:20",
          "10/12/2021 17:19",
          "10/12/2021 17:29",
          "10/12/2021 17:37",
          "10/12/2021 17:52",
          "10/12/2021 18:12",
          "10/12/2021 18:14",
          "10/12/2021 18:20",
          "10/12/2021 19:10",
          "10/12/2021 22:04",
          "10/12/2021 22:05",
          "10/12/2021 23:33",
          "11/12/2021 05:25",
          "11/12/2021 05:36",
          "11/12/2021 05:37",
          "11/12/2021 07:46",
          "11/12/2021 07:54",
          "11/12/2021 17:22",
          "11/12/2021 17:23",
          "11/12/2021 17:28",
          "11/12/2021 18:28",
          "11/12/2021 20:12",
          "11/12/2021 20:20",
          "11/12/2021 20:33",
          "12/12/2021 00:23",
          "12/12/2021 03:44",
          "12/12/2021 09:11",
          "12/12/2021 09:51",
          "12/12/2021 11:01",
          "12/12/2021 11:21",
          "12/12/2021 11:43",
          "12/12/2021 11:45",
          "12/12/2021 11:51",
          "12/12/2021 12:27",
          "12/12/2021 12:29",
          "12/12/2021 12:47",
          "12/12/2021 12:49",
          "12/12/2021 19:17",
          "12/12/2021 20:00",
          "12/12/2021 20:42",
          "13/12/2021 00:26",
          "13/12/2021 18:23",
          "13/12/2021 18:49",
          "13/12/2021 18:55",
          "13/12/2021 19:08",
          "13/12/2021 20:32",
          "13/12/2021 20:43",
          "13/12/2021 21:27",
          "13/12/2021 22:08",
          "13/12/2021 22:21",
          "13/12/2021 22:21",
          "14/12/2021 10:34",
          "14/12/2021 10:54",
          "14/12/2021 12:44",
          "14/12/2021 15:56",
          "14/12/2021 16:01",
          "14/12/2021 16:16",
          "14/12/2021 18:47",
          "14/12/2021 19:11",
          "14/12/2021 19:30",
          "14/12/2021 20:11",
          "14/12/2021 20:36",
          "14/12/2021 20:49",
          "14/12/2021 22:22",
          "14/12/2021 22:27",
          "14/12/2021 22:27",
          "14/12/2021 23:30",
          "14/12/2021 23:33",
          "15/12/2021 16:05",
          "15/12/2021 16:26",
          "15/12/2021 18:04",
          "15/12/2021 18:20",
          "15/12/2021 18:32",
          "15/12/2021 19:14",
          "15/12/2021 20:22",
          "15/12/2021 20:27",
          "15/12/2021 20:31",
          "16/12/2021 01:23",
          "16/12/2021 01:56",
          "16/12/2021 03:43",
          "16/12/2021 04:35",
          "16/12/2021 08:16",
          "16/12/2021 08:40",
          "16/12/2021 09:59",
          "16/12/2021 18:23",
          "16/12/2021 18:59",
          "16/12/2021 19:00",
          "16/12/2021 19:02",
          "16/12/2021 19:27",
          "16/12/2021 19:30",
          "16/12/2021 20:37",
          "16/12/2021 20:40",
          "16/12/2021 20:47",
          "16/12/2021 20:50",
          "16/12/2021 21:16",
          "16/12/2021 21:54",
          "16/12/2021 22:51",
          "16/12/2021 23:08",
          "17/12/2021 04:26",
          "17/12/2021 08:12",
          "17/12/2021 08:15",
          "17/12/2021 08:40",
          "17/12/2021 09:27",
          "17/12/2021 09:39",
          "17/12/2021 10:06",
          "17/12/2021 11:23",
          "17/12/2021 23:45",
          "18/12/2021 01:15",
          "18/12/2021 04:01",
          "18/12/2021 04:21",
          "18/12/2021 04:23",
          "18/12/2021 04:44",
          "18/12/2021 04:49",
          "18/12/2021 04:49",
          "18/12/2021 04:51",
          "18/12/2021 04:51",
          "18/12/2021 04:51",
          "18/12/2021 05:12",
          "18/12/2021 07:40",
          "18/12/2021 08:20",
          "18/12/2021 08:35",
          "19/12/2021 01:00",
          "19/12/2021 02:26",
          "19/12/2021 02:33",
          "19/12/2021 04:41",
          "19/12/2021 09:18",
          "19/12/2021 19:17",
          "19/12/2021 19:26",
          "19/12/2021 19:45",
          "19/12/2021 20:51",
          "19/12/2021 22:52",
          "19/12/2021 22:53",
          "20/12/2021 01:24",
          "20/12/2021 01:38",
          "20/12/2021 01:46",
          "20/12/2021 01:46",
          "20/12/2021 02:24",
          "20/12/2021 02:25",
          "20/12/2021 02:29",
          "20/12/2021 04:27",
          "20/12/2021 04:52",
          "20/12/2021 23:54",
          "21/12/2021 00:10",
          "21/12/2021 05:36",
          "21/12/2021 05:42",
          "21/12/2021 05:46",
          "21/12/2021 16:23",
          "21/12/2021 16:23",
          "21/12/2021 16:28",
          "21/12/2021 16:41",
          "21/12/2021 17:22",
          "21/12/2021 18:36",
          "22/12/2021 15:56",
          "22/12/2021 16:00",
          "22/12/2021 17:22",
          "22/12/2021 17:49",
          "22/12/2021 17:51",
          "22/12/2021 18:32",
          "22/12/2021 21:12",
          "22/12/2021 22:09",
          "22/12/2021 22:11",
          "22/12/2021 22:15",
          "22/12/2021 22:18",
          "22/12/2021 23:12",
          "22/12/2021 23:17",
          "22/12/2021 23:56",
          "23/12/2021 00:35",
          "23/12/2021 01:16",
          "23/12/2021 07:11",
          "23/12/2021 19:36",
          "23/12/2021 22:28",
          "24/12/2021 15:44",
          "24/12/2021 15:49",
          "24/12/2021 18:47",
          "24/12/2021 18:50",
          "24/12/2021 18:51",
          "24/12/2021 18:53",
          "24/12/2021 20:17",
          "24/12/2021 20:40",
          "24/12/2021 20:46",
          "24/12/2021 21:25",
          "24/12/2021 21:32",
          "25/12/2021 20:07",
          "25/12/2021 20:17",
          "25/12/2021 21:53",
          "26/12/2021 01:04",
          "26/12/2021 01:05",
          "26/12/2021 12:11",
          "26/12/2021 19:13",
          "26/12/2021 19:20",
          "26/12/2021 19:41",
          "27/12/2021 03:49",
          "27/12/2021 03:51",
          "27/12/2021 03:56",
          "27/12/2021 04:08",
          "27/12/2021 04:10",
          "27/12/2021 04:12",
          "27/12/2021 04:23",
          "27/12/2021 11:39",
          "27/12/2021 18:54",
          "27/12/2021 20:16",
          "28/12/2021 21:18",
          "29/12/2021 08:36",
          "29/12/2021 08:38",
          "29/12/2021 15:54",
          "29/12/2021 16:22",
          "29/12/2021 16:31",
          "29/12/2021 17:21",
          "30/12/2021 06:18",
          "30/12/2021 06:27",
          "30/12/2021 07:09",
          "30/12/2021 08:42",
          "30/12/2021 17:35",
          "30/12/2021 18:15",
          "30/12/2021 18:23",
          "30/12/2021 20:28",
          "30/12/2021 20:47",
          "30/12/2021 21:11",
          "31/12/2021 02:23"
         ],
         "xaxis": "x",
         "y": [
          0.16666666666666666,
          0.175,
          0,
          0.4390625,
          0.15000000000000002,
          0,
          0,
          0,
          0.0630952380952381,
          0.35,
          0,
          0.21250000000000002,
          0.375,
          0,
          0.16666666666666666,
          0.1,
          0.16666666666666666,
          0,
          -0.05,
          0,
          0,
          0,
          0,
          0.35,
          -0.225,
          -0.20833333333333334,
          0,
          0.05,
          0,
          0.12666666666666668,
          0,
          0.06666666666666667,
          0.008333333333333331,
          -0.7142857142857143,
          0.38809523809523805,
          0,
          1,
          0,
          0.375,
          0.12611111111111112,
          0,
          0.16523809523809524,
          0.3,
          0.7,
          0,
          -0.05,
          0.35,
          0,
          0,
          0,
          0,
          0,
          0.4,
          0.5,
          0.07333333333333333,
          0.8,
          0.5,
          0,
          0.5,
          0,
          0.5,
          0.4,
          0,
          0,
          0,
          0,
          0,
          0,
          -0.22500000000000003,
          0,
          0.2,
          0.25,
          0,
          0.2,
          0,
          0,
          0,
          -0.051851851851851864,
          0.5,
          0.06818181818181818,
          0.125,
          0.625,
          0.875,
          0,
          0.12297979797979797,
          0.2,
          0.6,
          -0.16666666666666666,
          0.12083333333333333,
          0.7,
          0.625,
          0.6000000000000001,
          0.16666666666666666,
          0.7,
          0,
          0.13636363636363635,
          0,
          0.75,
          0.2,
          0.7,
          1,
          0,
          0,
          0.7,
          0,
          0.5,
          0.5,
          0.2,
          0.12148148148148148,
          0.38666666666666666,
          0.30476190476190473,
          0,
          0,
          0,
          0.25,
          0,
          0.22916666666666666,
          0.225,
          1,
          0,
          0.35,
          0.3,
          0.0425,
          0.2916666666666667,
          0.05,
          0.08541666666666665,
          0,
          0,
          0,
          0,
          0,
          0,
          0.5,
          -0.5,
          0,
          0,
          0,
          -0.027777777777777776,
          0,
          -0.09999999999999992,
          0.16666666666666666,
          -0.6,
          0,
          0.3333333333333333,
          0.5,
          0,
          0,
          0,
          0,
          0,
          0,
          0,
          0.15000000000000002,
          0,
          0,
          0,
          0.04166666666666667,
          0.39285714285714285,
          0,
          0,
          -0.15,
          -0.39999999999999997,
          -0.2,
          0,
          0,
          0.4666666666666667,
          0.13636363636363635,
          -0.1875,
          0.0625,
          0.9,
          0,
          0,
          -0.061111111111111116,
          0.2,
          0,
          0.125,
          0,
          0.43,
          0,
          0.0625,
          0.3666666666666667,
          0,
          0.8,
          0,
          0,
          0,
          0.2,
          0,
          -0.125,
          0.5,
          0,
          0.13636363636363635,
          0.8,
          0,
          0,
          0,
          0.140625,
          0,
          0,
          0,
          0,
          0.85,
          0.6,
          0.2,
          0,
          0.2942857142857143,
          0.3,
          0.6071428571428571,
          0.16666666666666666,
          0.5,
          0,
          0,
          0.2,
          0.18333333333333332,
          0.4,
          0.09027777777777778,
          0,
          0,
          0.4,
          0,
          -0.3888888888888889,
          0.16,
          0,
          0,
          0.375,
          0.8,
          0,
          0.6,
          0,
          -0.375,
          0,
          0,
          0,
          -0.15555555555555559,
          0,
          0.08,
          0.08148148148148145,
          0,
          0.25,
          0.25,
          0.1375,
          0,
          0,
          0,
          0.125,
          0,
          0,
          1,
          0.5,
          0,
          0,
          0,
          0,
          0,
          1,
          0,
          0,
          0,
          0,
          0.24444444444444444,
          0,
          0.35,
          0,
          0,
          0,
          0.4375,
          0,
          0,
          0,
          0.11249999999999999,
          0.5,
          0,
          0,
          0,
          0,
          0.1,
          -0.125,
          0.16,
          0,
          -0.2,
          0,
          0,
          0,
          0,
          0.014393939393939395,
          -0.2,
          0.2,
          0,
          -0.3,
          0,
          0.275,
          0,
          0,
          0.2,
          0.08,
          0,
          0.2,
          0,
          0,
          0,
          0.375,
          0,
          0.3,
          0.48522727272727273,
          0.3453125,
          0,
          1,
          0,
          -0.25,
          0,
          0.7,
          0,
          0,
          0,
          0.3,
          0.21875,
          0.5,
          0,
          0,
          0,
          0,
          0.2,
          -0.5,
          0,
          0,
          -0.15,
          0,
          0,
          -0.1,
          0.2857142857142857,
          0,
          0,
          -0.15625,
          0.0013888888888888933,
          0.08571428571428572,
          0.42500000000000004,
          0,
          0,
          0,
          0,
          0,
          0,
          -0.08333333333333333,
          0.48000000000000004,
          0,
          0.056249999999999994,
          0.30803571428571425,
          0.09999999999999999,
          0,
          0,
          0,
          0,
          0,
          0,
          0,
          0.875,
          0,
          0,
          0,
          0,
          0.31666666666666665,
          0,
          0.13333333333333336,
          0.3,
          0,
          0,
          0,
          0.2,
          0.3416666666666667,
          0,
          0,
          0,
          0,
          0,
          0,
          0,
          -0.07142857142857142,
          0.5,
          0.125,
          0,
          0.8,
          0.25,
          0,
          0,
          0,
          0.5,
          0.25,
          0.09000000000000001,
          0,
          0.7,
          0,
          0,
          0,
          -0.15625,
          0.0861111111111111,
          -0.125,
          1,
          0.36250000000000004,
          -0.15555555555555559,
          0.2,
          0,
          -0.8,
          0,
          0,
          0,
          0,
          0,
          0,
          0,
          0,
          0.25,
          0.018181818181818174,
          1,
          0,
          0.2869047619047619,
          -0.2,
          0.5,
          0.5,
          -0.375,
          0,
          0,
          0,
          0.35,
          0,
          0.26,
          0,
          0,
          0,
          0.08,
          0.07785714285714285,
          0,
          0.3125,
          0.4,
          0.7,
          0.8,
          0.052500000000000005,
          0.13333333333333333,
          0,
          0,
          0,
          -0.003333333333333327,
          0,
          0,
          0.55,
          0,
          0.07378787878787878,
          0,
          0,
          0,
          0,
          0,
          0,
          0.27777777777777773,
          0.125,
          0.11666666666666665,
          -0.27083333333333337,
          0,
          0,
          0,
          0.0175,
          0.125,
          0,
          0.06666666666666665,
          0.01666666666666669,
          0.2857142857142857,
          0,
          0,
          0.26666666666666666,
          0.3291666666666667,
          0.225,
          0,
          0.13809523809523808,
          0,
          0.5,
          0.2,
          -0.05,
          0,
          -0.065,
          0.38,
          0,
          0.15,
          0,
          -0.03611111111111111,
          -0.125,
          -0.15833333333333333,
          -0.041666666666666664,
          0,
          -0.023809523809523808,
          0.2,
          0,
          0.125,
          1,
          0.35,
          0,
          -0.15,
          0,
          -1,
          0,
          0.2,
          0.19642857142857142,
          0.13999999999999999,
          0,
          0,
          0.5,
          -0.050909090909090904,
          0,
          0.25,
          0,
          0,
          0,
          0,
          0,
          0,
          0.05000000000000001,
          0,
          0,
          0.8,
          1,
          0.5,
          0.7,
          0.5,
          0,
          0,
          0,
          0,
          0.14285714285714285,
          0,
          0.5,
          0,
          0,
          0.25,
          0.2,
          0,
          0.12777777777777774,
          0.8,
          0,
          0.33,
          0,
          0,
          0,
          0,
          -0.0625,
          0,
          0,
          0,
          0,
          0,
          0,
          0.12946428571428573,
          0,
          0,
          0.125,
          0,
          0,
          -0.1322916666666667,
          0.4,
          0.3,
          0,
          0,
          0,
          0.2861111111111111,
          0.4,
          0.35,
          0,
          0.11071428571428572,
          0.4621212121212121,
          0,
          0.625,
          0,
          0,
          0.65,
          -0.5458333333333334,
          0,
          0.2,
          0,
          0.025,
          0.13333333333333333,
          0,
          0.125,
          0,
          0.44999999999999996,
          0.7,
          0,
          0,
          0,
          0,
          0,
          0,
          0.09999999999999995,
          0.20000000000000004,
          0,
          0,
          -0.0625,
          0,
          0.09999999999999999,
          0.2,
          0.4222222222222222,
          0.8,
          0.2619047619047619,
          0,
          0.13636363636363635,
          0.275,
          0.16666666666666669,
          -0.05,
          0.2857142857142857,
          0.625,
          0.26785714285714285,
          0,
          0.6,
          0,
          0,
          0,
          -0.25,
          0.3833333333333333,
          0,
          -0.1527777777777778,
          0.33,
          0.028571428571428553,
          0.125,
          0.033333333333333326,
          0.2045,
          0.5,
          0.3125,
          0.3333333333333333,
          0,
          0.25,
          0.14444444444444446,
          0.625,
          0,
          0.18333333333333335,
          0.15625,
          0.2857142857142857,
          0.35,
          0,
          0.125,
          0,
          0,
          0.37073863636363635,
          0,
          -0.19264069264069264,
          0,
          0.35,
          0,
          0,
          0.5625,
          0.5249999999999999,
          -0.5,
          -0.07142857142857142,
          0.25,
          0,
          1,
          0,
          0.0625,
          0.13166666666666665,
          0,
          0.475,
          -0.05625,
          0.6,
          1,
          0,
          0.35714285714285715,
          0.17045454545454544,
          0.32407407407407407,
          0.16,
          0,
          0,
          -0.75,
          0,
          0.65,
          0.6,
          0,
          0,
          0.24333333333333335,
          0,
          0.2875,
          0,
          0.1,
          0.4,
          0,
          0.225,
          0,
          -0.05,
          0.5,
          0,
          0.25,
          0.25,
          0.06666666666666667,
          0.15,
          0,
          -0.3375,
          0.625,
          0,
          0.875,
          0.07500000000000001,
          0,
          0.225,
          0,
          0.4000000000000001,
          0.25,
          -0.1309523809523809,
          -0.3888888888888889,
          0,
          0,
          0,
          0,
          0,
          0.625,
          0,
          0.2525,
          0,
          0,
          0.225,
          0.1,
          0.2,
          0,
          0.5,
          0,
          0,
          0,
          0.2111111111111111,
          0.21428571428571427,
          0.175,
          0.225,
          0.7,
          0.03422619047619048,
          0,
          0.25,
          0,
          0.2,
          0,
          0.9,
          0,
          0.675,
          0,
          -0.21666666666666667,
          0.2,
          0.024999999999999967,
          0,
          0.32000000000000006,
          0,
          0,
          0,
          0,
          1,
          -0.3,
          0,
          0.015625,
          0,
          0,
          0,
          0.07142857142857144,
          0.625,
          0,
          0,
          0.625,
          0,
          0.2,
          0,
          0,
          0.038293650793650776,
          0,
          0,
          0.20357142857142857,
          0,
          0.625,
          0,
          0.4000000000000001,
          0.075,
          0,
          0,
          0.029523809523809525,
          0,
          0,
          0,
          0,
          0,
          0.25,
          0.1,
          0.8,
          0,
          -0.075,
          -0.08845238095238095,
          0,
          0.15666666666666668,
          0.145,
          1,
          0.25,
          0,
          0.2,
          0.8,
          0.3181818181818182,
          0,
          0.275,
          0.25,
          0,
          0,
          0.15833333333333333,
          0,
          0.13333333333333333,
          0.2633333333333333,
          0.07500000000000001,
          0.3506666666666667,
          0.35,
          0.6,
          0.06666666666666665,
          0,
          -0.34375,
          -0.15555555555555559,
          0,
          0.2,
          0.8,
          0.275,
          0,
          0,
          0,
          0,
          0.4,
          0,
          0.25,
          0,
          0,
          0,
          0.85,
          0,
          0,
          0.15757575757575756,
          1,
          0,
          0.08522727272727272,
          0.11666666666666665,
          0.7,
          0.3500000000000001,
          0,
          0,
          -0.09999999999999999,
          0.8,
          0.35,
          0.25,
          0,
          -0.009523809523809518,
          0,
          0,
          -0.0625,
          0.1872727272727273,
          0.19,
          0.39999999999999997,
          0,
          0.4875,
          0,
          0,
          0.1,
          0,
          0,
          0.35,
          0.4375,
          0.2,
          0.25,
          -0.5,
          0,
          0.35,
          0,
          0.23214285714285715,
          -0.011111111111111108,
          0,
          0.125,
          0.35,
          0,
          0.196875,
          0,
          0.3125,
          0.13749999999999998,
          0,
          0,
          0,
          0,
          0,
          0,
          0.5,
          0.2,
          0.375,
          0.75,
          0.07083333333333333,
          0.9,
          -0.04722222222222222,
          0.14500000000000002,
          0,
          0.1,
          0,
          0,
          0,
          0,
          0,
          0.35,
          0.2,
          0.6,
          0.25,
          -0.8,
          0.275,
          0,
          0,
          0,
          0,
          0.6,
          0.25,
          0,
          0,
          0,
          0,
          0,
          0,
          0,
          0,
          0,
          0.13636363636363635,
          0.8,
          0.225,
          0,
          0.17857142857142858,
          0,
          0.2,
          0,
          0,
          0.5,
          0.2,
          0,
          0.2,
          0,
          0,
          0.25,
          0,
          0,
          0,
          0.10714285714285714,
          0,
          0.21428571428571427,
          0.14452380952380953,
          0,
          0,
          0.2,
          -0.48333333333333334,
          0,
          0.2,
          0.13333333333333333,
          0.004166666666666652,
          0.2,
          0.4375,
          0,
          0,
          0.5,
          0,
          0,
          0.3481481481481481,
          0,
          0.35,
          -0.048333333333333305,
          0,
          -0.625,
          0,
          0,
          0.16,
          0.12214285714285715,
          0,
          0,
          0,
          0,
          0,
          0,
          0.4375,
          0.39999999999999997,
          0,
          0,
          -0.0625,
          0.19107142857142856,
          0.75,
          0,
          0,
          0,
          0.3125,
          0.2,
          0.25,
          0,
          0.35,
          0,
          0.2,
          0,
          0.16845238095238094,
          0,
          0,
          0,
          0.385,
          0.3,
          0.5,
          0.7,
          -0.13185185185185186,
          -0.047619047619047616,
          0,
          0,
          0,
          0.16805555555555554,
          -0.22916666666666666,
          0.082,
          0.45,
          0.18571428571428572,
          -0.04166666666666667,
          0.44000000000000006,
          0.125,
          0,
          0.5333333333333333,
          0.45,
          0.175,
          -0.2916666666666667,
          0.16874999999999998,
          0,
          0,
          0,
          0.06666666666666667,
          0,
          0.48333333333333334,
          0,
          0.01428571428571429,
          0,
          0.25,
          0.10714285714285714,
          0,
          0.25,
          0,
          0.07500000000000004,
          0,
          0,
          0,
          -0.033333333333333326,
          0.125,
          0.125,
          0.25,
          0.625,
          0,
          0,
          0,
          0,
          0.4333333333333333,
          -0.012500000000000002,
          0,
          0.5,
          -1,
          0,
          0,
          0.275,
          -0.15,
          0,
          0.8,
          0,
          0,
          0,
          0.35,
          -0.06833333333333333,
          0,
          0,
          0,
          0,
          0.19,
          -0.07387820512820513,
          0.14583333333333331,
          0,
          0.6,
          0.13636363636363635,
          0,
          0.3,
          0,
          0.5,
          0,
          0,
          0,
          0.022222222222222227,
          0,
          0,
          0,
          0,
          0.24,
          -0.5,
          0,
          0,
          -0.13680555555555554,
          0,
          0,
          0,
          0,
          0,
          0,
          0,
          0,
          0.6,
          0,
          0,
          0.8,
          0,
          1,
          0,
          0,
          0,
          0,
          0,
          0.225,
          0,
          0.1,
          0.6,
          0.2333333333333333,
          -0.15000000000000002,
          0.2,
          0,
          0.25,
          0,
          0,
          0,
          -0.1875,
          0,
          0.18571428571428572,
          0,
          0.1,
          0,
          0,
          0.7,
          0.6,
          -0.09999999999999999,
          0.17045454545454544,
          0,
          0,
          0.25,
          0.175,
          0,
          0,
          0,
          0,
          1,
          -0.12000000000000002,
          0.1875,
          -0.5,
          0.3055555555555555,
          0.3125,
          0.25,
          0,
          0.35,
          0,
          0,
          1,
          0.625,
          0.2,
          0,
          0.47232142857142856,
          0,
          0,
          1,
          0.25,
          0,
          0.25,
          0.35,
          0.10875000000000001,
          0.1466666666666667,
          0.18892045454545453,
          0.20454545454545456,
          0,
          0.35,
          0,
          0.5,
          0.25,
          0.17694805194805197,
          0.1,
          0,
          0,
          0,
          0.1,
          0.35,
          -0.5,
          0.06666666666666665,
          0.33,
          0,
          0.12361111111111112,
          0.13636363636363635,
          0.30833333333333335,
          0.39375,
          0,
          0.6,
          0,
          0.03333333333333333,
          0.5,
          0,
          0.2875,
          0.35,
          -0.2916666666666667,
          0.35,
          0,
          0.35,
          0,
          1,
          0.09999999999999999,
          0.625,
          0.35,
          0.1619047619047619,
          0.2,
          0,
          0.35,
          0.55,
          0.21666666666666667,
          0,
          0.6,
          0,
          1,
          0,
          0,
          0.03749999999999999,
          -0.65,
          0.4,
          0,
          0.1875,
          0.36916666666666664,
          -0.10166666666666664,
          0.125,
          0,
          -0.025000000000000022,
          0.375,
          0,
          0,
          0,
          0.24285714285714285,
          0.41500000000000004,
          -0.15625,
          -0.3,
          0,
          0,
          -0.07708333333333334,
          0,
          0,
          0,
          0.13636363636363635,
          0.2,
          0,
          0,
          0,
          0,
          0.35,
          0.06666666666666665,
          0,
          0.41875,
          0.4,
          0,
          0.4,
          0.0888888888888889,
          0.07291666666666667,
          0.5,
          0,
          0.35,
          0,
          -0.09097222222222223,
          0.4,
          0.6,
          -0.45,
          0.3499999999999999,
          0.3125,
          0,
          -0.1675,
          0,
          0.09523809523809523,
          0.75,
          0.5,
          -0.25625,
          0.032222222222222215,
          0.4083333333333333,
          0.19583333333333333,
          0,
          0,
          -0.0625,
          -0.05,
          0,
          -0.15848214285714285,
          0,
          -0.25,
          1,
          0.26666666666666666,
          0.06818181818181818,
          0.10000000000000002,
          0.9,
          0.2,
          -0.3125,
          0,
          0,
          0,
          0,
          0.3,
          0.06666666666666665,
          0,
          -0.025000000000000005,
          0.06666666666666665,
          0.2833333333333333,
          0.1625,
          0.05,
          0.55,
          0,
          0.1388888888888889,
          0.10075757575757574,
          0.125,
          0,
          0,
          0.30000000000000004,
          0.5,
          0.78125,
          -0.1277777777777778,
          0,
          0.35,
          0.125,
          0,
          0,
          0,
          0.8,
          0.35,
          0.10940476190476191,
          0,
          0,
          0.06349206349206349,
          0.13636363636363635,
          0.8,
          0.1,
          0.35,
          0,
          -0.4,
          0,
          1,
          0.3,
          0.05,
          0.17395833333333333,
          0.5,
          0,
          0,
          0.4,
          0.07083333333333333,
          0,
          0,
          1,
          -1,
          0.1,
          0.018181818181818174,
          0.13333333333333333,
          0,
          0.8,
          0,
          0,
          1,
          0.10000000000000003,
          0.16,
          -0.375,
          -0.05,
          0,
          0,
          0.3715909090909091,
          0,
          0,
          0,
          0.21428571428571427,
          0.1,
          0,
          0,
          0,
          -0.07142857142857142,
          0,
          0,
          0,
          0.1,
          -0.25,
          0,
          0.2,
          0,
          0,
          0.35,
          0,
          0,
          0,
          -0.5,
          0.4,
          0.7,
          0,
          0,
          0.06984126984126984,
          0.35416666666666663,
          0,
          0,
          -0.34,
          0,
          0.4,
          0.09943181818181818,
          0.15,
          0.2,
          0,
          0,
          -0.5583333333333332,
          0.2833333333333333,
          0.1333333333333333,
          0,
          0,
          0.33999999999999997,
          0,
          1,
          0.35,
          0,
          0.27777777777777773,
          0.27666666666666667,
          0,
          0,
          0.05700757575757576,
          0.036166666666666666,
          0,
          -0.06666666666666667,
          0.35,
          0,
          0.45,
          0,
          1,
          -0.041666666666666664,
          0.35,
          0,
          0.1,
          0.25,
          0.4375,
          0,
          0,
          0.35,
          0.5,
          0.2,
          0,
          0,
          0,
          0.3,
          0,
          0.5,
          0.3375,
          0.2875,
          -0.125,
          0.16666666666666669,
          0,
          0.875,
          0,
          0,
          0.03125,
          0.30375,
          0,
          0,
          0,
          0,
          0.0390625,
          0.06458333333333334,
          0.4,
          0,
          0,
          0.43125,
          0.4681818181818182,
          0.013888888888888895,
          0.14333333333333337,
          0,
          -0.002777777777777778,
          0.45,
          0.7,
          0,
          0,
          0,
          0.23409090909090907,
          0.1361111111111111,
          0.11499999999999999,
          0.3666666666666667,
          0.1253571428571429,
          0,
          -0.02857142857142857,
          0,
          0,
          0.25,
          0.0625,
          -0.08333333333333333,
          0,
          0,
          0.6500000000000001,
          0,
          0,
          0,
          0.26785714285714285,
          -0.05,
          0,
          -0.1,
          0.2,
          0,
          0.35,
          0.16666666666666666,
          0,
          0,
          0,
          0.6,
          0,
          0.2,
          0.6,
          -0.0625,
          0.4375,
          0.20571428571428574,
          0,
          0,
          0,
          0,
          0,
          0.25,
          0.13636363636363635,
          0.2,
          0.6,
          0,
          0.5,
          0.14444444444444446,
          0,
          0.2,
          1,
          1,
          0.11681818181818181,
          0,
          0,
          0.6,
          0.12,
          0.10833333333333334,
          0.16,
          -0.375,
          0,
          0.18125,
          0,
          0,
          0.52,
          0,
          0.26944444444444443,
          0.4833333333333334,
          0,
          -0.25,
          -0.04999999999999999,
          1,
          0.25,
          0.2,
          0.43333333333333335,
          0,
          0.30000000000000004,
          0,
          0.25,
          0.2113095238095238,
          0.22777777777777777,
          0.5,
          0.14565476190476193,
          0.25,
          0.3,
          0.2,
          0,
          0,
          0.2,
          0,
          0,
          0,
          0,
          0,
          0,
          0,
          0.7500000000000001,
          0,
          0,
          0.08,
          0.35000000000000003,
          -0.14583333333333334,
          0,
          0.005555555555555564,
          0.1875,
          0,
          0.6499999999999999,
          0.35,
          0.4,
          0.09000000000000001,
          0,
          0.6000000000000001,
          0,
          0,
          0.215,
          0,
          0.41866666666666663,
          -0.0058333333333333345,
          0.3333333333333333,
          0,
          0.35,
          0.7,
          0,
          0.55625,
          0.565,
          0.29333333333333333,
          0.35,
          0.25,
          0.2,
          0.025,
          0.3125,
          0,
          0.5,
          0,
          -0.23645833333333333,
          0.2333333333333333,
          0.6,
          0,
          0,
          0.5,
          0,
          0,
          0.35,
          0,
          0,
          0.18333333333333335,
          -0.05,
          0.06666666666666665,
          -0.36458333333333337,
          0.39999999999999997,
          0.0625,
          0.5,
          0,
          -0.07142857142857142,
          0,
          0,
          0.2941666666666667,
          0,
          0.25,
          0,
          0.2,
          0,
          0,
          -0.7000000000000001,
          0.0875,
          0.12857142857142856,
          0,
          0.16964285714285715,
          0.5,
          0.19444444444444445,
          0.16874999999999998,
          -0.625,
          0.1,
          0.25,
          0,
          0,
          -0.5,
          0.25,
          -0.08333333333333333,
          0,
          0,
          0,
          0,
          0,
          0,
          0,
          0.5,
          -0.29583333333333334,
          0.1722222222222222,
          0.05964285714285714,
          0.1125,
          0.18124999999999997,
          0.04545454545454545,
          0,
          0,
          0,
          0.25,
          -0.125,
          0,
          0,
          0,
          0,
          0,
          0.25,
          0.2333333333333333,
          0.06666666666666665,
          -0.5,
          -0.3888888888888889,
          0,
          -0.019642857142857156,
          0.09999999999999999,
          0.06666666666666665,
          0.25,
          0.29791666666666666,
          0,
          0.6000000000000001,
          0.35,
          0.5,
          0.013809523809523805,
          0.04285714285714286,
          0.25,
          0.43333333333333335,
          0,
          0,
          0.1,
          0.7999999999999999,
          -0.024999999999999994,
          0,
          0,
          0.6499999999999999,
          0,
          0,
          0.05,
          -0.16666666666666666,
          0,
          0,
          0,
          0,
          0,
          0.065,
          0,
          0.3,
          -0.0375,
          0,
          0.06944444444444445,
          0.07401098901098901,
          0,
          0,
          0,
          0.2,
          0.35,
          0.1875,
          0.375,
          0.0875,
          0,
          0.125,
          0.5,
          0.0056547619047618985,
          -0.1,
          0.05284090909090909,
          0.09337121212121212,
          0.5,
          0.4,
          -0.05,
          -0.2,
          0,
          0.7,
          0,
          0,
          0.5,
          0,
          0.325,
          0,
          0.05,
          0.2166666666666667,
          0,
          1,
          -0.125,
          0.5,
          0.25,
          0,
          0,
          0,
          -0.045,
          0.05508658008658008,
          0,
          -0.09999999999999992,
          0,
          0.875,
          0.016666666666666673,
          0.20833333333333331,
          0,
          0.8,
          0,
          0.8,
          0,
          0,
          0,
          0,
          0,
          0,
          0,
          0,
          0,
          0,
          0,
          -0.3333333333333333,
          0.41666666666666663,
          0.07,
          0.06944444444444443,
          0.8,
          0,
          -0.0875,
          0.34545454545454546,
          0.057142857142857155,
          0.078125,
          0,
          0,
          0,
          0.35,
          -0.625,
          0,
          0,
          0,
          0,
          1,
          0,
          0,
          0.0625,
          0.03333333333333333,
          0,
          0.375,
          0.09206349206349206,
          0.8,
          1,
          0,
          0.5,
          0.35,
          0,
          0.11742424242424243,
          0.246875,
          0,
          0,
          0,
          -0.05,
          -0.006666666666666654,
          0,
          0,
          0,
          0,
          0,
          0,
          0,
          0,
          0,
          0.35,
          0.175,
          0.16249999999999998,
          0,
          0.1,
          0,
          0,
          0,
          0.4,
          0.23958333333333334,
          0.13636363636363635,
          0,
          -0.05428571428571429,
          0,
          0,
          0,
          0.5625,
          0,
          0.25,
          0.16818181818181818,
          0.23750000000000002,
          0.6,
          0,
          0.05000000000000002,
          0,
          0.225,
          0.6,
          0,
          0,
          0,
          0,
          0,
          -0.022222222222222216,
          0,
          0,
          0.4454545454545454,
          0.35555555555555557,
          0,
          0,
          0.225,
          0.7,
          0.5,
          -0.3,
          0.02500000000000001,
          0.5,
          0,
          0,
          0,
          -0.16666666666666666,
          0,
          0,
          0.7,
          0.25,
          0.4,
          0,
          0,
          0,
          0,
          0.375,
          0.42000000000000004,
          0,
          0,
          0.25,
          -0.8749999999999998,
          0,
          -0.1,
          0.35,
          0,
          0.35,
          0.5,
          0,
          0.1,
          0.7,
          0,
          0,
          0,
          0,
          0,
          -0.125,
          0.1,
          -0.08333333333333334,
          0,
          0,
          0.8,
          0.17045454545454544,
          0,
          0,
          0.3296717171717171,
          0,
          0,
          0,
          0.5,
          0,
          0.045,
          0,
          0.7,
          0.3499999999999999,
          0.395,
          0.48333333333333334,
          0,
          0.7,
          0,
          0,
          0.21440476190476188,
          0.16666666666666666,
          0,
          -0.020309523809523816,
          0.2681818181818182,
          0.07404761904761904,
          0.07833333333333332,
          -0.25,
          0,
          0,
          0.3875,
          -0.11868686868686869,
          0.15844155844155844,
          -0.04999999999999999,
          0,
          0.5,
          0.3,
          1,
          0,
          0.375,
          0,
          0,
          0,
          0,
          0,
          0,
          0,
          0.2,
          -0.2333333333333333,
          0,
          0,
          0.2857142857142857,
          0,
          0.1,
          0,
          0.3,
          -0.041666666666666664,
          0,
          0,
          0.25,
          0,
          0,
          0.225,
          0,
          0.39642857142857146,
          0.125,
          0.08,
          0.2142857142857143,
          0.8,
          0,
          0,
          0,
          0,
          0.2895,
          0.125,
          0.16145833333333331,
          0,
          0.6,
          -0.1,
          0,
          0.25,
          0,
          0,
          0,
          0,
          0,
          0,
          0.39999999999999997,
          0,
          0,
          0.35,
          0,
          0.75,
          0,
          0,
          -0.1,
          0,
          0,
          -0.2916666666666667,
          0.04791666666666666,
          0,
          0,
          0,
          0.25,
          0.4,
          0.5,
          0,
          0,
          0.7,
          0.9375,
          0,
          0.875,
          0,
          0,
          0.7,
          -0.023809523809523808,
          0.5,
          0,
          0.1125,
          0.2857142857142857,
          -0.0625,
          0.2333333333333333,
          0.4,
          0,
          0,
          0.2,
          0,
          0.25,
          0,
          0,
          0.25,
          0.08,
          0,
          0.5305555555555556,
          0,
          0,
          0,
          -0.8,
          0.020833333333333315,
          0,
          0.5,
          0,
          0,
          0.15,
          0.5,
          -0.1875,
          0,
          0.2,
          0.7,
          0.4166666666666667,
          0,
          0.29375,
          0,
          0,
          0.7,
          0,
          0,
          0.7,
          0.75,
          0.5,
          0.25,
          0,
          0.5,
          -0.1875,
          0.17777777777777778,
          0.25,
          0.35,
          -0.051948051948051965,
          0,
          0,
          1,
          -0.07936507936507937,
          0,
          0,
          0,
          0,
          0,
          0.3666666666666667,
          0,
          0,
          0,
          0,
          0,
          0.2375,
          0.13636363636363635,
          0,
          0.3866666666666667,
          0,
          0.275,
          -0.3833333333333333,
          0.3,
          0,
          0,
          0,
          0.35,
          0.2,
          0.5,
          0.5,
          0,
          0,
          0,
          0,
          0,
          0,
          -0.2,
          0.013888888888888895,
          0.125,
          0.024999999999999994,
          0,
          0.1,
          -0.3333333333333333,
          -0.9765625,
          0,
          0.2,
          0.9,
          0,
          0,
          0,
          1,
          0.875,
          0,
          1,
          0.48333333333333334,
          0,
          0,
          0,
          0,
          0.48666666666666664,
          0.2,
          0,
          0.7500000000000001,
          0.2,
          0.41818181818181815,
          0.7,
          0,
          0,
          0,
          0,
          0.7,
          0.30370370370370375,
          0.75,
          0.125,
          0,
          -0.033333333333333305,
          0,
          0,
          0.5666666666666667,
          -0.36458333333333337,
          0,
          0.3666666666666667,
          1,
          0.190625,
          0.0037878787878787845,
          0.5,
          0.29374999999999996,
          0.275,
          0.14285714285714288,
          0.3,
          0.5,
          0,
          -0.10208333333333335,
          0.7166666666666667,
          0.25,
          -0.2375,
          0.25,
          0,
          -0.175,
          0,
          0,
          -0.15,
          0.7000000000000001,
          -0.03333333333333333,
          0.25333333333333335,
          0,
          0.625,
          0,
          0.35,
          0.24513888888888888,
          0.28125,
          0,
          0.25,
          0,
          0,
          0,
          0.4,
          0,
          0.19999999999999998,
          1,
          0,
          0.2333333333333333,
          0,
          -0.2916666666666667,
          0,
          0.3333333333333333,
          0,
          0,
          0.15833333333333335,
          0,
          -0.36458333333333337,
          -0.5,
          0,
          0,
          0,
          0,
          0,
          0,
          0,
          0,
          0,
          0,
          0,
          0,
          0.75,
          0,
          -0.05,
          -0.10416666666666666,
          0,
          0.16,
          -0.10416666666666666,
          0.35,
          0.2,
          0.2,
          0.625,
          1,
          0.31666666666666665,
          0,
          0,
          0,
          0.21250000000000002,
          0,
          0,
          0.3125,
          0.225,
          0.2,
          0,
          0,
          0.24000000000000005,
          0,
          0,
          0.25,
          0,
          -0.06875,
          0,
          0.7,
          1,
          0,
          0.375,
          0.7500000000000001,
          0,
          0,
          0,
          0.43333333333333335,
          -0.16666666666666666,
          0,
          -0.0625,
          0.25,
          0.35,
          -0.1,
          0,
          0,
          0,
          0,
          0.2,
          0.25,
          0,
          0.2,
          0,
          0,
          0,
          0,
          0.35,
          0.21114285714285713,
          0,
          0,
          0.21153846153846154,
          0.1,
          0.2,
          0.25,
          1,
          -0.125,
          0,
          -0.3125,
          1,
          0,
          0,
          0,
          -0.4,
          0,
          0,
          0,
          0,
          0,
          0,
          0.2,
          0.13636363636363635,
          -0.0625,
          0,
          -0.03571428571428571,
          0.2857142857142857,
          0.04,
          0,
          0,
          0.175,
          -0.15333333333333332,
          0.3,
          0.43333333333333335,
          0,
          0,
          0.7,
          0,
          0,
          0,
          0.475,
          0,
          0,
          0,
          0,
          0,
          0.03712121212121212,
          -0.19999999999999998,
          0.125,
          0.10500000000000001,
          -0.06,
          -0.2,
          0.0625,
          0.4333333333333333,
          0.05000000000000001,
          0,
          0.2,
          0.4222222222222222,
          0,
          0.41111111111111115,
          0,
          0,
          0,
          0.55,
          -0.2,
          0.1,
          0.15833333333333333,
          0,
          0,
          0.14206349206349203,
          0,
          0.65,
          3.96508223080413e-18,
          0,
          0.2,
          0.4,
          0.07500000000000001,
          0,
          0.005714285714285716,
          0.25,
          -0.148,
          0,
          0,
          0,
          0,
          0,
          0,
          -0.2,
          0.06818181818181818,
          0.1,
          0,
          0,
          0,
          0,
          0.25,
          0,
          0,
          -0.5,
          0.2,
          0,
          0,
          0,
          0.08,
          0.25,
          0.26785714285714285,
          0.07500000000000001,
          0,
          0,
          0.3,
          0.4166666666666667,
          0,
          0,
          0,
          0,
          -0.16666666666666666,
          0.1,
          0.25,
          -0.125,
          0,
          0,
          -0.25,
          -0.1888888888888889,
          0.875,
          0,
          0,
          -0.07142857142857142,
          0.2,
          0.5859375,
          -0.15555555555555559,
          0.5,
          0,
          0.32,
          0,
          0,
          0,
          -0.14285714285714285,
          1,
          0,
          0,
          0,
          0,
          0,
          0.275,
          0,
          0,
          0.425,
          0,
          0.25,
          0,
          0,
          0,
          0,
          0.25,
          0,
          0,
          0,
          0,
          0.33999999999999997,
          0.284375,
          0.1,
          -0.04999999999999999,
          0,
          0,
          0,
          0,
          0,
          0,
          0,
          0,
          0.06111111111111111,
          0.5,
          0,
          0,
          0.25,
          0.625,
          0,
          0,
          0,
          0,
          0.5,
          0.35,
          0.1875,
          0.4,
          -0.001851851851851859,
          0,
          0,
          0,
          0.35,
          0,
          -0.1875,
          0,
          0.2,
          0.45199999999999996,
          0.20694444444444446,
          0.2125,
          0,
          0.24675324675324672,
          0,
          0.1434090909090909,
          0,
          0,
          0,
          0.6625,
          -0.10000000000000002,
          0.03541666666666671,
          0,
          1,
          0,
          0.2783333333333333,
          0.02,
          0,
          0,
          1,
          0,
          0.425,
          0.6,
          0.08106060606060606,
          0.06666666666666667,
          0,
          0.10875000000000001,
          0.1,
          0.18522727272727274,
          0.5,
          0,
          0.25,
          0,
          0,
          0,
          -0.125,
          0.5,
          0.39999999999999997,
          0,
          0.3333333333333333,
          -0.125,
          0.16875000000000004,
          0.225,
          -0.5,
          -0.03125,
          0.25,
          0.075,
          0.08541666666666665,
          -0.4,
          0.25,
          0,
          0,
          0.4000000000000001,
          0,
          0,
          0.19861111111111115,
          0.13055555555555556,
          0.22753968253968251,
          0,
          0,
          0,
          0,
          0,
          0.1361111111111111,
          0.2,
          0,
          0,
          0,
          0,
          0,
          0.25,
          0.21770833333333334,
          0.35,
          0,
          0,
          -0.05000000000000002,
          0,
          0,
          0,
          0,
          0.19074074074074074,
          1,
          0,
          -0.21666666666666667,
          0.35,
          0,
          0.03939393939393939,
          0.2857142857142857,
          0.2,
          0,
          0,
          0,
          0,
          0,
          0.08333333333333333,
          0,
          0,
          0.5,
          0,
          0,
          -0.21666666666666667,
          0.2,
          0.08333333333333333,
          0,
          -0.07142857142857142,
          -0.033333333333333326,
          0,
          0.5,
          0.13636363636363635,
          0.13333333333333333,
          0.15333333333333332,
          0,
          0,
          0,
          0,
          0,
          0,
          0,
          -0.3,
          0,
          0,
          0,
          -0.3333333333333333,
          0,
          0.14250000000000002,
          0,
          0.5,
          0.0875,
          0,
          0,
          0,
          -0.027777777777777773,
          0,
          0.35,
          0,
          0.1,
          0,
          0,
          0.45,
          0,
          0,
          -0.25,
          0,
          0,
          0.042857142857142864,
          0.125,
          0.28409090909090906,
          -0.03125,
          0.7,
          0.25,
          0,
          0.25,
          0.8,
          0,
          0.20555555555555557,
          0,
          0.020833333333333315,
          0,
          0,
          0.2791666666666667,
          0,
          0,
          0,
          0,
          0,
          -0.275,
          0,
          0,
          -0.5208333333333333,
          0.5833333333333334,
          0.25,
          0.275,
          1,
          0.7125,
          -0.16666666666666666,
          0,
          -0.03749999999999999,
          0.06666666666666667,
          0,
          0,
          0.7,
          0.25,
          0,
          0,
          0.3,
          0.6,
          0,
          -0.05222222222222222,
          1,
          0,
          0,
          0.012121212121212116,
          0.9,
          -1,
          0.05,
          0,
          0,
          0,
          0,
          0,
          0,
          0.1275,
          0.18,
          0.1,
          0.14375,
          -0.03888888888888889,
          0,
          0.13333333333333333,
          0,
          0,
          -0.4125,
          0,
          0.8,
          0,
          -0.2,
          0.175,
          0.5,
          0,
          0,
          0.25,
          0,
          0,
          0,
          0,
          0,
          0,
          0,
          0,
          0,
          0,
          -0.125,
          0,
          0,
          0.8,
          0.06666666666666667,
          -1,
          0,
          0,
          0,
          0,
          -0.096875,
          0,
          0.625,
          0.31666666666666665,
          0.4166666666666667,
          0,
          0.25,
          0.21666666666666667,
          0,
          0.2,
          0,
          0,
          0,
          0,
          0,
          0,
          0.5,
          0.7,
          0.08125,
          0.013888888888888895,
          0.35,
          0,
          0.6666666666666666,
          1,
          -0.4000000000000001,
          0,
          -0.2222222222222222,
          0.25,
          0.25,
          0,
          0.12351190476190475,
          0,
          0,
          0.35,
          0,
          0,
          0.1,
          -0.025,
          0,
          0,
          0,
          0,
          0,
          0,
          0,
          0,
          0.11666666666666668,
          0.3125,
          0,
          0.3125,
          0.5,
          0,
          -0.060185185185185196,
          0.25,
          0.85,
          0,
          0.7500000000000001,
          0,
          0,
          0,
          0,
          0,
          0,
          0,
          0,
          0,
          0,
          0.6000000000000001,
          0,
          0,
          0,
          0.2,
          0.05,
          0,
          0,
          -0.05,
          0.25,
          0.22083333333333333,
          -0.7142857142857143,
          0,
          -0.2,
          0,
          0,
          0.4,
          0,
          0,
          0,
          0,
          0.2,
          0,
          0.2,
          -0.024999999999999994,
          0.375,
          -0.1875,
          0.1,
          0,
          -0.5,
          0.1,
          0,
          0,
          0,
          0,
          0,
          -0.5,
          0,
          0,
          -0.16666666666666666,
          0,
          0.35,
          0.35,
          0.5,
          0,
          0,
          0,
          0.2,
          0,
          0.5,
          0,
          -1,
          0.125,
          0.4,
          0,
          0,
          0,
          -0.3791666666666667,
          0,
          0.7,
          0.2,
          0.5,
          0,
          0,
          -0.5,
          0,
          0,
          0.25,
          0.525,
          0.25,
          0,
          0,
          0,
          0.5,
          0,
          0,
          0,
          0,
          0.25,
          0.16,
          -0.5,
          0.20833333333333334,
          0,
          0,
          0,
          -0.125,
          0,
          0,
          0,
          0,
          -0.09999999999999999,
          0,
          -0.15000000000000002,
          0.8,
          0,
          -0.41666666666666663,
          0.08333333333333333,
          0,
          0,
          0,
          0.9,
          0,
          0,
          0.22083333333333333,
          0.35,
          0.125,
          0,
          0,
          0.1,
          0.65,
          0.5,
          -0.08333333333333333,
          0.030555555555555558,
          0,
          0.3,
          0.15,
          0,
          0,
          0,
          0,
          0.2589285714285714,
          0,
          0,
          0,
          0,
          0,
          0,
          0.2,
          0,
          0.1,
          0.5,
          0,
          0.7,
          0.2,
          0.3,
          0,
          0.2,
          0.04714285714285713,
          0,
          0,
          0,
          0,
          0,
          0,
          0.4375,
          0,
          0,
          0,
          0,
          0,
          0.2,
          -0.2916666666666667,
          -0.25,
          0,
          0.85,
          -0.2916666666666667,
          0.4333333333333333,
          0,
          0.14404761904761906,
          0,
          0,
          1,
          0.1875,
          0,
          0,
          0.1,
          0,
          -0.15,
          -0.16666666666666666,
          0.01180555555555555,
          0,
          0,
          0.7,
          0.7,
          0,
          -0.125,
          0,
          0,
          0.1,
          0,
          0.1875,
          0,
          -0.1814814814814815,
          0.7,
          0.5,
          0,
          0,
          0,
          0,
          0.078125,
          0,
          -0.05,
          0,
          0.3,
          -0.15,
          0,
          0.5,
          -0.15555555555555559,
          0.35,
          -0.1,
          0,
          0,
          0,
          0.35,
          0.8,
          0.5,
          0,
          0,
          0.125,
          -0.07083333333333333,
          0,
          0,
          0,
          0,
          0.25,
          0,
          -0.16666666666666666,
          0.06666666666666667,
          0,
          0.5,
          0,
          0
         ],
         "yaxis": "y"
        }
       ],
       "layout": {
        "legend": {
         "tracegroupgap": 0
        },
        "template": {
         "data": {
          "bar": [
           {
            "error_x": {
             "color": "#2a3f5f"
            },
            "error_y": {
             "color": "#2a3f5f"
            },
            "marker": {
             "line": {
              "color": "#E5ECF6",
              "width": 0.5
             },
             "pattern": {
              "fillmode": "overlay",
              "size": 10,
              "solidity": 0.2
             }
            },
            "type": "bar"
           }
          ],
          "barpolar": [
           {
            "marker": {
             "line": {
              "color": "#E5ECF6",
              "width": 0.5
             },
             "pattern": {
              "fillmode": "overlay",
              "size": 10,
              "solidity": 0.2
             }
            },
            "type": "barpolar"
           }
          ],
          "carpet": [
           {
            "aaxis": {
             "endlinecolor": "#2a3f5f",
             "gridcolor": "white",
             "linecolor": "white",
             "minorgridcolor": "white",
             "startlinecolor": "#2a3f5f"
            },
            "baxis": {
             "endlinecolor": "#2a3f5f",
             "gridcolor": "white",
             "linecolor": "white",
             "minorgridcolor": "white",
             "startlinecolor": "#2a3f5f"
            },
            "type": "carpet"
           }
          ],
          "choropleth": [
           {
            "colorbar": {
             "outlinewidth": 0,
             "ticks": ""
            },
            "type": "choropleth"
           }
          ],
          "contour": [
           {
            "colorbar": {
             "outlinewidth": 0,
             "ticks": ""
            },
            "colorscale": [
             [
              0,
              "#0d0887"
             ],
             [
              0.1111111111111111,
              "#46039f"
             ],
             [
              0.2222222222222222,
              "#7201a8"
             ],
             [
              0.3333333333333333,
              "#9c179e"
             ],
             [
              0.4444444444444444,
              "#bd3786"
             ],
             [
              0.5555555555555556,
              "#d8576b"
             ],
             [
              0.6666666666666666,
              "#ed7953"
             ],
             [
              0.7777777777777778,
              "#fb9f3a"
             ],
             [
              0.8888888888888888,
              "#fdca26"
             ],
             [
              1,
              "#f0f921"
             ]
            ],
            "type": "contour"
           }
          ],
          "contourcarpet": [
           {
            "colorbar": {
             "outlinewidth": 0,
             "ticks": ""
            },
            "type": "contourcarpet"
           }
          ],
          "heatmap": [
           {
            "colorbar": {
             "outlinewidth": 0,
             "ticks": ""
            },
            "colorscale": [
             [
              0,
              "#0d0887"
             ],
             [
              0.1111111111111111,
              "#46039f"
             ],
             [
              0.2222222222222222,
              "#7201a8"
             ],
             [
              0.3333333333333333,
              "#9c179e"
             ],
             [
              0.4444444444444444,
              "#bd3786"
             ],
             [
              0.5555555555555556,
              "#d8576b"
             ],
             [
              0.6666666666666666,
              "#ed7953"
             ],
             [
              0.7777777777777778,
              "#fb9f3a"
             ],
             [
              0.8888888888888888,
              "#fdca26"
             ],
             [
              1,
              "#f0f921"
             ]
            ],
            "type": "heatmap"
           }
          ],
          "heatmapgl": [
           {
            "colorbar": {
             "outlinewidth": 0,
             "ticks": ""
            },
            "colorscale": [
             [
              0,
              "#0d0887"
             ],
             [
              0.1111111111111111,
              "#46039f"
             ],
             [
              0.2222222222222222,
              "#7201a8"
             ],
             [
              0.3333333333333333,
              "#9c179e"
             ],
             [
              0.4444444444444444,
              "#bd3786"
             ],
             [
              0.5555555555555556,
              "#d8576b"
             ],
             [
              0.6666666666666666,
              "#ed7953"
             ],
             [
              0.7777777777777778,
              "#fb9f3a"
             ],
             [
              0.8888888888888888,
              "#fdca26"
             ],
             [
              1,
              "#f0f921"
             ]
            ],
            "type": "heatmapgl"
           }
          ],
          "histogram": [
           {
            "marker": {
             "pattern": {
              "fillmode": "overlay",
              "size": 10,
              "solidity": 0.2
             }
            },
            "type": "histogram"
           }
          ],
          "histogram2d": [
           {
            "colorbar": {
             "outlinewidth": 0,
             "ticks": ""
            },
            "colorscale": [
             [
              0,
              "#0d0887"
             ],
             [
              0.1111111111111111,
              "#46039f"
             ],
             [
              0.2222222222222222,
              "#7201a8"
             ],
             [
              0.3333333333333333,
              "#9c179e"
             ],
             [
              0.4444444444444444,
              "#bd3786"
             ],
             [
              0.5555555555555556,
              "#d8576b"
             ],
             [
              0.6666666666666666,
              "#ed7953"
             ],
             [
              0.7777777777777778,
              "#fb9f3a"
             ],
             [
              0.8888888888888888,
              "#fdca26"
             ],
             [
              1,
              "#f0f921"
             ]
            ],
            "type": "histogram2d"
           }
          ],
          "histogram2dcontour": [
           {
            "colorbar": {
             "outlinewidth": 0,
             "ticks": ""
            },
            "colorscale": [
             [
              0,
              "#0d0887"
             ],
             [
              0.1111111111111111,
              "#46039f"
             ],
             [
              0.2222222222222222,
              "#7201a8"
             ],
             [
              0.3333333333333333,
              "#9c179e"
             ],
             [
              0.4444444444444444,
              "#bd3786"
             ],
             [
              0.5555555555555556,
              "#d8576b"
             ],
             [
              0.6666666666666666,
              "#ed7953"
             ],
             [
              0.7777777777777778,
              "#fb9f3a"
             ],
             [
              0.8888888888888888,
              "#fdca26"
             ],
             [
              1,
              "#f0f921"
             ]
            ],
            "type": "histogram2dcontour"
           }
          ],
          "mesh3d": [
           {
            "colorbar": {
             "outlinewidth": 0,
             "ticks": ""
            },
            "type": "mesh3d"
           }
          ],
          "parcoords": [
           {
            "line": {
             "colorbar": {
              "outlinewidth": 0,
              "ticks": ""
             }
            },
            "type": "parcoords"
           }
          ],
          "pie": [
           {
            "automargin": true,
            "type": "pie"
           }
          ],
          "scatter": [
           {
            "fillpattern": {
             "fillmode": "overlay",
             "size": 10,
             "solidity": 0.2
            },
            "type": "scatter"
           }
          ],
          "scatter3d": [
           {
            "line": {
             "colorbar": {
              "outlinewidth": 0,
              "ticks": ""
             }
            },
            "marker": {
             "colorbar": {
              "outlinewidth": 0,
              "ticks": ""
             }
            },
            "type": "scatter3d"
           }
          ],
          "scattercarpet": [
           {
            "marker": {
             "colorbar": {
              "outlinewidth": 0,
              "ticks": ""
             }
            },
            "type": "scattercarpet"
           }
          ],
          "scattergeo": [
           {
            "marker": {
             "colorbar": {
              "outlinewidth": 0,
              "ticks": ""
             }
            },
            "type": "scattergeo"
           }
          ],
          "scattergl": [
           {
            "marker": {
             "colorbar": {
              "outlinewidth": 0,
              "ticks": ""
             }
            },
            "type": "scattergl"
           }
          ],
          "scattermapbox": [
           {
            "marker": {
             "colorbar": {
              "outlinewidth": 0,
              "ticks": ""
             }
            },
            "type": "scattermapbox"
           }
          ],
          "scatterpolar": [
           {
            "marker": {
             "colorbar": {
              "outlinewidth": 0,
              "ticks": ""
             }
            },
            "type": "scatterpolar"
           }
          ],
          "scatterpolargl": [
           {
            "marker": {
             "colorbar": {
              "outlinewidth": 0,
              "ticks": ""
             }
            },
            "type": "scatterpolargl"
           }
          ],
          "scatterternary": [
           {
            "marker": {
             "colorbar": {
              "outlinewidth": 0,
              "ticks": ""
             }
            },
            "type": "scatterternary"
           }
          ],
          "surface": [
           {
            "colorbar": {
             "outlinewidth": 0,
             "ticks": ""
            },
            "colorscale": [
             [
              0,
              "#0d0887"
             ],
             [
              0.1111111111111111,
              "#46039f"
             ],
             [
              0.2222222222222222,
              "#7201a8"
             ],
             [
              0.3333333333333333,
              "#9c179e"
             ],
             [
              0.4444444444444444,
              "#bd3786"
             ],
             [
              0.5555555555555556,
              "#d8576b"
             ],
             [
              0.6666666666666666,
              "#ed7953"
             ],
             [
              0.7777777777777778,
              "#fb9f3a"
             ],
             [
              0.8888888888888888,
              "#fdca26"
             ],
             [
              1,
              "#f0f921"
             ]
            ],
            "type": "surface"
           }
          ],
          "table": [
           {
            "cells": {
             "fill": {
              "color": "#EBF0F8"
             },
             "line": {
              "color": "white"
             }
            },
            "header": {
             "fill": {
              "color": "#C8D4E3"
             },
             "line": {
              "color": "white"
             }
            },
            "type": "table"
           }
          ]
         },
         "layout": {
          "annotationdefaults": {
           "arrowcolor": "#2a3f5f",
           "arrowhead": 0,
           "arrowwidth": 1
          },
          "autotypenumbers": "strict",
          "coloraxis": {
           "colorbar": {
            "outlinewidth": 0,
            "ticks": ""
           }
          },
          "colorscale": {
           "diverging": [
            [
             0,
             "#8e0152"
            ],
            [
             0.1,
             "#c51b7d"
            ],
            [
             0.2,
             "#de77ae"
            ],
            [
             0.3,
             "#f1b6da"
            ],
            [
             0.4,
             "#fde0ef"
            ],
            [
             0.5,
             "#f7f7f7"
            ],
            [
             0.6,
             "#e6f5d0"
            ],
            [
             0.7,
             "#b8e186"
            ],
            [
             0.8,
             "#7fbc41"
            ],
            [
             0.9,
             "#4d9221"
            ],
            [
             1,
             "#276419"
            ]
           ],
           "sequential": [
            [
             0,
             "#0d0887"
            ],
            [
             0.1111111111111111,
             "#46039f"
            ],
            [
             0.2222222222222222,
             "#7201a8"
            ],
            [
             0.3333333333333333,
             "#9c179e"
            ],
            [
             0.4444444444444444,
             "#bd3786"
            ],
            [
             0.5555555555555556,
             "#d8576b"
            ],
            [
             0.6666666666666666,
             "#ed7953"
            ],
            [
             0.7777777777777778,
             "#fb9f3a"
            ],
            [
             0.8888888888888888,
             "#fdca26"
            ],
            [
             1,
             "#f0f921"
            ]
           ],
           "sequentialminus": [
            [
             0,
             "#0d0887"
            ],
            [
             0.1111111111111111,
             "#46039f"
            ],
            [
             0.2222222222222222,
             "#7201a8"
            ],
            [
             0.3333333333333333,
             "#9c179e"
            ],
            [
             0.4444444444444444,
             "#bd3786"
            ],
            [
             0.5555555555555556,
             "#d8576b"
            ],
            [
             0.6666666666666666,
             "#ed7953"
            ],
            [
             0.7777777777777778,
             "#fb9f3a"
            ],
            [
             0.8888888888888888,
             "#fdca26"
            ],
            [
             1,
             "#f0f921"
            ]
           ]
          },
          "colorway": [
           "#636efa",
           "#EF553B",
           "#00cc96",
           "#ab63fa",
           "#FFA15A",
           "#19d3f3",
           "#FF6692",
           "#B6E880",
           "#FF97FF",
           "#FECB52"
          ],
          "font": {
           "color": "#2a3f5f"
          },
          "geo": {
           "bgcolor": "white",
           "lakecolor": "white",
           "landcolor": "#E5ECF6",
           "showlakes": true,
           "showland": true,
           "subunitcolor": "white"
          },
          "hoverlabel": {
           "align": "left"
          },
          "hovermode": "closest",
          "mapbox": {
           "style": "light"
          },
          "paper_bgcolor": "white",
          "plot_bgcolor": "#E5ECF6",
          "polar": {
           "angularaxis": {
            "gridcolor": "white",
            "linecolor": "white",
            "ticks": ""
           },
           "bgcolor": "#E5ECF6",
           "radialaxis": {
            "gridcolor": "white",
            "linecolor": "white",
            "ticks": ""
           }
          },
          "scene": {
           "xaxis": {
            "backgroundcolor": "#E5ECF6",
            "gridcolor": "white",
            "gridwidth": 2,
            "linecolor": "white",
            "showbackground": true,
            "ticks": "",
            "zerolinecolor": "white"
           },
           "yaxis": {
            "backgroundcolor": "#E5ECF6",
            "gridcolor": "white",
            "gridwidth": 2,
            "linecolor": "white",
            "showbackground": true,
            "ticks": "",
            "zerolinecolor": "white"
           },
           "zaxis": {
            "backgroundcolor": "#E5ECF6",
            "gridcolor": "white",
            "gridwidth": 2,
            "linecolor": "white",
            "showbackground": true,
            "ticks": "",
            "zerolinecolor": "white"
           }
          },
          "shapedefaults": {
           "line": {
            "color": "#2a3f5f"
           }
          },
          "ternary": {
           "aaxis": {
            "gridcolor": "white",
            "linecolor": "white",
            "ticks": ""
           },
           "baxis": {
            "gridcolor": "white",
            "linecolor": "white",
            "ticks": ""
           },
           "bgcolor": "#E5ECF6",
           "caxis": {
            "gridcolor": "white",
            "linecolor": "white",
            "ticks": ""
           }
          },
          "title": {
           "x": 0.05
          },
          "xaxis": {
           "automargin": true,
           "gridcolor": "white",
           "linecolor": "white",
           "ticks": "",
           "title": {
            "standoff": 15
           },
           "zerolinecolor": "white",
           "zerolinewidth": 2
          },
          "yaxis": {
           "automargin": true,
           "gridcolor": "white",
           "linecolor": "white",
           "ticks": "",
           "title": {
            "standoff": 15
           },
           "zerolinecolor": "white",
           "zerolinewidth": 2
          }
         }
        },
        "title": {
         "text": "Sentiment Analysis of Musk Tweets Over Time"
        },
        "xaxis": {
         "anchor": "y",
         "domain": [
          0,
          1
         ],
         "title": {
          "text": "Timestamp"
         }
        },
        "yaxis": {
         "anchor": "x",
         "domain": [
          0,
          1
         ],
         "title": {
          "text": "Sentiment"
         }
        }
       }
      }
     },
     "metadata": {},
     "output_type": "display_data"
    },
    {
     "name": "stdout",
     "output_type": "stream",
     "text": [
      "Accuracy: 0.7779632721202003\n",
      "Classification Report:\n",
      "              precision    recall  f1-score   support\n",
      "\n",
      "           0       0.90      0.70      0.79       354\n",
      "           1       0.67      0.89      0.77       245\n",
      "\n",
      "    accuracy                           0.78       599\n",
      "   macro avg       0.79      0.80      0.78       599\n",
      "weighted avg       0.81      0.78      0.78       599\n",
      "\n"
     ]
    }
   ],
   "source": [
    "import pandas as pd\n",
    "from textblob import TextBlob\n",
    "from sklearn.model_selection import train_test_split\n",
    "from sklearn.feature_extraction.text import CountVectorizer\n",
    "from sklearn.naive_bayes import MultinomialNB\n",
    "from sklearn.metrics import accuracy_score, classification_report\n",
    "\n",
    "# Load the dataset\n",
    "tweets_df = pd.read_csv('data/musk_tweets.csv', parse_dates=['Timestamp'])\n",
    "\n",
    "# Function to calculate sentiment polarity\n",
    "def get_sentiment(text):\n",
    "    blob = TextBlob(text)\n",
    "    return blob.sentiment.polarity\n",
    "\n",
    "# Apply the sentiment function to each tweet\n",
    "tweets_df['Sentiment'] = tweets_df['Tweet'].apply(get_sentiment)\n",
    "\n",
    "# Display the first few rows with sentiment scores\n",
    "print(tweets_df[['Timestamp', 'Tweet', 'Sentiment']].head())\n",
    "\n",
    "# Plot the sentiment over time\n",
    "fig = px.line(tweets_df, x='Timestamp', y='Sentiment', title='Sentiment Analysis of Musk Tweets Over Time')\n",
    "fig.show()\n",
    "# Convert sentiment to binary classification: positive (1) if sentiment > 0, else negative (0)\n",
    "tweets_df['Sentiment_Class'] = tweets_df['Sentiment'].apply(lambda x: 1 if x > 0 else 0)\n",
    "\n",
    "# Split the data into training and testing sets\n",
    "X_train, X_test, y_train, y_test = train_test_split(tweets_df['Tweet'], tweets_df['Sentiment_Class'], test_size=0.2, random_state=42)\n",
    "\n",
    "# Vectorize the text data\n",
    "vectorizer = CountVectorizer()\n",
    "X_train_vec = vectorizer.fit_transform(X_train)\n",
    "X_test_vec = vectorizer.transform(X_test)\n",
    "\n",
    "# Train a Naive Bayes classifier\n",
    "nb_classifier = MultinomialNB()\n",
    "nb_classifier.fit(X_train_vec, y_train)\n",
    "\n",
    "# Predict the sentiment class for the test set\n",
    "y_pred = nb_classifier.predict(X_test_vec)\n",
    "\n",
    "# Evaluate the classifier\n",
    "accuracy = accuracy_score(y_test, y_pred)\n",
    "report = classification_report(y_test, y_pred)\n",
    "\n",
    "print(f'Accuracy: {accuracy}')\n",
    "print('Classification Report:')\n",
    "print(report)"
   ]
  },
  {
   "cell_type": "markdown",
   "metadata": {},
   "source": [
    "### Trump Episode\n",
    "\n",
    "what will happen with musk presence in gov?"
   ]
  }
 ],
 "metadata": {
  "kernelspec": {
   "display_name": "base",
   "language": "python",
   "name": "python3"
  },
  "language_info": {
   "codemirror_mode": {
    "name": "ipython",
    "version": 3
   },
   "file_extension": ".py",
   "mimetype": "text/x-python",
   "name": "python",
   "nbconvert_exporter": "python",
   "pygments_lexer": "ipython3",
   "version": "3.11.5"
  }
 },
 "nbformat": 4,
 "nbformat_minor": 2
}
